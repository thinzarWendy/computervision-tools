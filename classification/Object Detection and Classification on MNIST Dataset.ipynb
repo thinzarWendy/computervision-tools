{
  "nbformat": 4,
  "nbformat_minor": 0,
  "metadata": {
    "colab": {
      "provenance": [],
      "toc_visible": true
    },
    "kernelspec": {
      "name": "python3",
      "display_name": "Python 3"
    },
    "language_info": {
      "name": "python"
    }
  },
  "cells": [
    {
      "cell_type": "markdown",
      "source": [
        "#Object Detection\n",
        "Object detection is the process of locating instances of specific objects in an image by cropping a tightly cropped bounding box centered on the object.\n",
        "\n",
        "<center>\n",
        "<img src=\"https://drive.google.com/uc?export=view&id=1uGsQGpSl2Wd-2XNgBOblKUQpkRWabaTS\" width=\"550\">\n",
        "</center>\n",
        "\n",
        "The bouding box can be approximated by using the bounding box regressor, which this regressor performs as the output layer of the network.\n",
        "<center>\n",
        "<img src=\"https://drive.google.com/uc?export=view&id=1FKt1K2LFt82F8J9qILBMJNpYP3hqB38l\" width=\"750\">\n",
        "</center>\n",
        "\n",
        "The bounding box regressor attempts to estimate the coordinates of the box, (x-min,y-min) and (x-max,y-max), or the location (x-min,y-min) and the size (width,height) of the box.\n",
        "<center>\n",
        "<img src=\"https://drive.google.com/uc?export=view&id=1wHp3lTEVaLRFaauAUJ74LZuN2cFeSKMo\" width=\"500\">\n",
        "</center>\n",
        "\n",
        "The bouding box regressor can be typically carried our via 2 simply ways as follows:\n",
        "<center>\n",
        "<img src=\"https://drive.google.com/uc?export=view&id=1jVU0EC5WgWs1bB45CztYJG6r_BF4LtaH\" width=\"550\">\n",
        "</center>\n"
      ],
      "metadata": {
        "id": "-sKULDKyAnWB"
      }
    },
    {
      "cell_type": "code",
      "source": [
        "import numpy as np\n",
        "import matplotlib.pyplot as plt\n",
        "import matplotlib\n",
        "%matplotlib inline"
      ],
      "metadata": {
        "id": "a4pEt5ag5iUK"
      },
      "execution_count": null,
      "outputs": []
    },
    {
      "cell_type": "code",
      "source": [
        "num_imgs = 3000\n",
        "\n",
        "img_size = 20\n",
        "min_object_size = 1\n",
        "max_object_size = 10\n",
        "num_objects = 1\n",
        "\n",
        "bboxes = np.zeros((num_imgs, num_objects, 4))\n",
        "imgs = np.zeros((num_imgs, img_size, img_size))\n",
        "for i_img in range(num_imgs):\n",
        "    for i_object in range(num_objects):\n",
        "        w, h = np.random.randint(min_object_size, max_object_size, size=2)\n",
        "        x = np.random.randint(0, img_size - w)\n",
        "        y = np.random.randint(0, img_size - h)\n",
        "        imgs[i_img, x:x+w, y:y+h] = 1.\n",
        "        bboxes[i_img, i_object] = [x, y, x+w, y+h]"
      ],
      "metadata": {
        "id": "iQl3mPBe5mwG"
      },
      "execution_count": null,
      "outputs": []
    },
    {
      "cell_type": "code",
      "source": [
        "i = np.random.randint(0,num_imgs)\n",
        "\n",
        "plt.figure(figsize=(10, 10))\n",
        "ax = plt.subplot(1, 2, 1)\n",
        "plt.imshow(imgs[i].T, cmap='Greys', interpolation='none', origin='lower', extent=[0, img_size, 0, img_size])\n",
        "ax = plt.subplot(1, 2, 2)\n",
        "plt.imshow(np.zeros_like(imgs[i].T), cmap='Greys', interpolation='none', origin='lower', extent=[0, img_size, 0, img_size])\n",
        "for bbox in bboxes[i]:\n",
        "    plt.gca().add_patch(matplotlib.patches.Rectangle((bbox[0], bbox[1]), bbox[2]-bbox[0], bbox[3]-bbox[1], ec='r', fc='none'))\n",
        "\n",
        "print(imgs[i].T)\n",
        "print(\"bboxe: x-axis=\", bboxes[i][0,0],\", y-axis=\", bboxes[i][0,1], \", width=\", bboxes[i][0,2]-bboxes[i][0,0], \", height=\", bboxes[i][0,3]-bboxes[i][0,1])"
      ],
      "metadata": {
        "id": "hu2sY-brGHvL",
        "colab": {
          "base_uri": "https://localhost:8080/",
          "height": 671
        },
        "outputId": "01dd08fe-4f85-4a2c-f6b0-9d1375458b69"
      },
      "execution_count": null,
      "outputs": [
        {
          "output_type": "stream",
          "name": "stdout",
          "text": [
            "[[0. 0. 0. 0. 0. 0. 0. 0. 0. 0. 0. 0. 0. 0. 0. 0. 0. 0. 0. 0.]\n",
            " [0. 0. 0. 0. 0. 0. 0. 0. 0. 0. 0. 0. 0. 0. 0. 0. 0. 0. 0. 0.]\n",
            " [0. 0. 0. 0. 0. 0. 0. 0. 0. 0. 0. 0. 0. 0. 0. 0. 0. 0. 0. 0.]\n",
            " [0. 0. 0. 0. 0. 0. 0. 0. 0. 0. 0. 0. 0. 0. 0. 0. 0. 0. 0. 0.]\n",
            " [0. 0. 0. 0. 0. 0. 0. 0. 0. 0. 0. 0. 0. 0. 0. 0. 0. 0. 0. 0.]\n",
            " [0. 0. 0. 0. 0. 0. 0. 0. 0. 0. 0. 0. 0. 0. 0. 0. 0. 0. 0. 0.]\n",
            " [0. 0. 0. 0. 0. 0. 0. 0. 0. 0. 0. 0. 0. 0. 0. 0. 0. 0. 0. 0.]\n",
            " [0. 0. 0. 0. 0. 0. 0. 0. 0. 0. 0. 0. 0. 0. 0. 0. 0. 0. 0. 0.]\n",
            " [0. 0. 0. 0. 0. 0. 0. 0. 0. 0. 0. 1. 1. 1. 1. 1. 1. 1. 1. 0.]\n",
            " [0. 0. 0. 0. 0. 0. 0. 0. 0. 0. 0. 1. 1. 1. 1. 1. 1. 1. 1. 0.]\n",
            " [0. 0. 0. 0. 0. 0. 0. 0. 0. 0. 0. 1. 1. 1. 1. 1. 1. 1. 1. 0.]\n",
            " [0. 0. 0. 0. 0. 0. 0. 0. 0. 0. 0. 1. 1. 1. 1. 1. 1. 1. 1. 0.]\n",
            " [0. 0. 0. 0. 0. 0. 0. 0. 0. 0. 0. 1. 1. 1. 1. 1. 1. 1. 1. 0.]\n",
            " [0. 0. 0. 0. 0. 0. 0. 0. 0. 0. 0. 1. 1. 1. 1. 1. 1. 1. 1. 0.]\n",
            " [0. 0. 0. 0. 0. 0. 0. 0. 0. 0. 0. 1. 1. 1. 1. 1. 1. 1. 1. 0.]\n",
            " [0. 0. 0. 0. 0. 0. 0. 0. 0. 0. 0. 1. 1. 1. 1. 1. 1. 1. 1. 0.]\n",
            " [0. 0. 0. 0. 0. 0. 0. 0. 0. 0. 0. 1. 1. 1. 1. 1. 1. 1. 1. 0.]\n",
            " [0. 0. 0. 0. 0. 0. 0. 0. 0. 0. 0. 0. 0. 0. 0. 0. 0. 0. 0. 0.]\n",
            " [0. 0. 0. 0. 0. 0. 0. 0. 0. 0. 0. 0. 0. 0. 0. 0. 0. 0. 0. 0.]\n",
            " [0. 0. 0. 0. 0. 0. 0. 0. 0. 0. 0. 0. 0. 0. 0. 0. 0. 0. 0. 0.]]\n",
            "bboxe: x-axis= 11.0 , y-axis= 8.0 , width= 8.0 , height= 9.0\n"
          ]
        },
        {
          "output_type": "display_data",
          "data": {
            "text/plain": [
              "<Figure size 720x720 with 2 Axes>"
            ],
            "image/png": "[encoded data removed]"
          },
          "metadata": {
            "needs_background": "light"
          }
        }
      ]
    },
    {
      "cell_type": "code",
      "source": [
        "X = imgs.reshape(num_imgs, -1)\n",
        "y = bboxes.reshape(num_imgs, -1) / img_size\n",
        "\n",
        "X_train = X\n",
        "y_train = y\n",
        "\n",
        "NUM_CHANNEL = 1\n",
        "OUT_SIZE = y_train.shape[-1]"
      ],
      "metadata": {
        "id": "S6XFo2KjbxLY"
      },
      "execution_count": null,
      "outputs": []
    },
    {
      "cell_type": "code",
      "source": [
        "!pip install -q torchview"
      ],
      "metadata": {
        "id": "Je-sIQZUpcjt"
      },
      "execution_count": null,
      "outputs": []
    },
    {
      "cell_type": "code",
      "source": [
        "import torch\n",
        "import matplotlib.pyplot as plt\n",
        "from torch.utils.data import TensorDataset, DataLoader\n",
        "from torch import nn, optim\n",
        "import torch.nn.functional as F\n",
        "import time\n",
        "import os\n",
        "import copy\n",
        "\n",
        "from torchview import draw_graph\n",
        "from torchsummary import summary"
      ],
      "metadata": {
        "id": "4U6p3Gi8ogkS"
      },
      "execution_count": null,
      "outputs": []
    },
    {
      "cell_type": "code",
      "source": [
        "device = torch.device(\"cuda:0\" if torch.cuda.is_available() else \"cpu\")\n",
        "print('Using device', device)"
      ],
      "metadata": {
        "id": "SQU9b-cOognJ",
        "colab": {
          "base_uri": "https://localhost:8080/"
        },
        "outputId": "62905e6a-9e5d-416e-9cb8-198f2ce313e2"
      },
      "execution_count": null,
      "outputs": [
        {
          "output_type": "stream",
          "name": "stdout",
          "text": [
            "Using device cpu\n"
          ]
        }
      ]
    },
    {
      "cell_type": "code",
      "source": [
        "class ObjectDetector(nn.Module):\n",
        "    def __init__(self,**kwargs):\n",
        "        super(ObjectDetector,self).__init__(**kwargs)\n",
        "        self.net = nn.Sequential(\n",
        "            nn.Linear(400, 128),\n",
        "            nn.ReLU(),\n",
        "            nn.Linear(128, 64),\n",
        "            nn.ReLU(),\n",
        "            nn.Linear(64, 32),\n",
        "            nn.ReLU(),\n",
        "            nn.Linear(32, OUT_SIZE),\n",
        "            nn.Sigmoid(),\n",
        "        )\n",
        "\n",
        "    def forward(self, x):\n",
        "        return self.net(x)\n",
        "\n",
        "\n",
        "# Move model to target device\n",
        "model = ObjectDetector().to(device)\n",
        "\n",
        "# Show the details of the network\n",
        "# summary(model, input_size=(NUM_CHANNEL,img_size,img_size))\n",
        "# draw_graph(model, input_size=(1,NUM_CHANNEL,img_size,img_size)).visual_graph\n",
        "\n",
        "summary(model, input_size=(img_size*img_size,))\n",
        "draw_graph(model, input_size=(1,img_size*img_size)).visual_graph"
      ],
      "metadata": {
        "id": "r-Zrms26ogqB",
        "colab": {
          "base_uri": "https://localhost:8080/",
          "height": 1000
        },
        "outputId": "f8ec5bc1-8c6f-4213-f2c4-f4858c99a94f"
      },
      "execution_count": null,
      "outputs": [
        {
          "output_type": "stream",
          "name": "stdout",
          "text": [
            "----------------------------------------------------------------\n",
            "        Layer (type)               Output Shape         Param #\n",
            "================================================================\n",
            "            Linear-1                  [-1, 128]          51,328\n",
            "              ReLU-2                  [-1, 128]               0\n",
            "            Linear-3                   [-1, 64]           8,256\n",
            "              ReLU-4                   [-1, 64]               0\n",
            "            Linear-5                   [-1, 32]           2,080\n",
            "              ReLU-6                   [-1, 32]               0\n",
            "            Linear-7                    [-1, 4]             132\n",
            "           Sigmoid-8                    [-1, 4]               0\n",
            "================================================================\n",
            "Total params: 61,796\n",
            "Trainable params: 61,796\n",
            "Non-trainable params: 0\n",
            "----------------------------------------------------------------\n",
            "Input size (MB): 0.00\n",
            "Forward/backward pass size (MB): 0.00\n",
            "Params size (MB): 0.24\n",
            "Estimated Total Size (MB): 0.24\n",
            "----------------------------------------------------------------\n"
          ]
        },
        {
          "output_type": "execute_result",
          "data": {
            "text/plain": [
              "<graphviz.dot.Digraph at 0x7f84dbd32400>"
            ],
            "image/svg+xml": "<?xml version=\"1.0\" encoding=\"UTF-8\" standalone=\"no\"?>\n<!DOCTYPE svg PUBLIC \"-//W3C//DTD SVG 1.1//EN\"\n \"http://www.w3.org/Graphics/SVG/1.1/DTD/svg11.dtd\">\n<!-- Generated by graphviz version 2.40.1 (20161225.0304)\n -->\n<!-- Title: model Pages: 1 -->\n<svg width=\"185pt\" height=\"732pt\"\n viewBox=\"0.00 0.00 185.00 732.00\" xmlns=\"http://www.w3.org/2000/svg\" xmlns:xlink=\"http://www.w3.org/1999/xlink\">\n<g id=\"graph0\" class=\"graph\" transform=\"scale(1 1) rotate(0) translate(4 728)\">\n<title>model</title>\n<polygon fill=\"#ffffff\" stroke=\"transparent\" points=\"-4,4 -4,-728 181,-728 181,4 -4,4\"/>\n<!-- 0 -->\n<g id=\"node1\" class=\"node\">\n<title>0</title>\n<polygon fill=\"#ffffe0\" stroke=\"transparent\" points=\"159.5,-724 17.5,-724 17.5,-692 159.5,-692 159.5,-724\"/>\n<polygon fill=\"none\" stroke=\"#000000\" points=\"17.5,-692 17.5,-724 100.5,-724 100.5,-692 17.5,-692\"/>\n<text text-anchor=\"start\" x=\"22.5\" y=\"-711\" font-family=\"Linux libertine\" font-size=\"10.00\" fill=\"#000000\">input&#45;tensor</text>\n<text text-anchor=\"start\" x=\"37.5\" y=\"-700\" font-family=\"Linux libertine\" font-size=\"10.00\" fill=\"#000000\">depth:0</text>\n<polygon fill=\"none\" stroke=\"#000000\" points=\"100.5,-692 100.5,-724 159.5,-724 159.5,-692 100.5,-692\"/>\n<text text-anchor=\"start\" x=\"105.5\" y=\"-705.5\" font-family=\"Linux libertine\" font-size=\"10.00\" fill=\"#000000\">(1, 400)</text>\n</g>\n<!-- 1 -->\n<g id=\"node2\" class=\"node\">\n<title>1</title>\n<polygon fill=\"#c1ffc1\" stroke=\"transparent\" points=\"177,-656 0,-656 0,-614 177,-614 177,-656\"/>\n<polygon fill=\"none\" stroke=\"#000000\" points=\".5,-614 .5,-656 53.5,-656 53.5,-614 .5,-614\"/>\n<text text-anchor=\"start\" x=\"8.5\" y=\"-638\" font-family=\"Linux libertine\" font-size=\"10.00\" fill=\"#000000\">Linear</text>\n<text text-anchor=\"start\" x=\"5.5\" y=\"-627\" font-family=\"Linux libertine\" font-size=\"10.00\" fill=\"#000000\">depth:2</text>\n<polygon fill=\"none\" stroke=\"#000000\" points=\"53.5,-635 53.5,-656 112.5,-656 112.5,-635 53.5,-635\"/>\n<text text-anchor=\"start\" x=\"64.5\" y=\"-643\" font-family=\"Linux libertine\" font-size=\"10.00\" fill=\"#000000\">input:</text>\n<polygon fill=\"none\" stroke=\"#000000\" points=\"112.5,-635 112.5,-656 177.5,-656 177.5,-635 112.5,-635\"/>\n<text text-anchor=\"start\" x=\"117.5\" y=\"-643\" font-family=\"Linux libertine\" font-size=\"10.00\" fill=\"#000000\">(1, 400) </text>\n<polygon fill=\"none\" stroke=\"#000000\" points=\"53.5,-614 53.5,-635 112.5,-635 112.5,-614 53.5,-614\"/>\n<text text-anchor=\"start\" x=\"58.5\" y=\"-622\" font-family=\"Linux libertine\" font-size=\"10.00\" fill=\"#000000\">output: </text>\n<polygon fill=\"none\" stroke=\"#000000\" points=\"112.5,-614 112.5,-635 177.5,-635 177.5,-614 112.5,-614\"/>\n<text text-anchor=\"start\" x=\"117.5\" y=\"-622\" font-family=\"Linux libertine\" font-size=\"10.00\" fill=\"#000000\">(1, 128) </text>\n</g>\n<!-- 0&#45;&gt;1 -->\n<g id=\"edge1\" class=\"edge\">\n<title>0&#45;&gt;1</title>\n<path fill=\"none\" stroke=\"#000000\" d=\"M88.5,-691.7989C88.5,-684.2512 88.5,-675.0055 88.5,-666.1832\"/>\n<polygon fill=\"#000000\" stroke=\"#000000\" points=\"92.0001,-666.1483 88.5,-656.1483 85.0001,-666.1484 92.0001,-666.1483\"/>\n</g>\n<!-- 2 -->\n<g id=\"node3\" class=\"node\">\n<title>2</title>\n<polygon fill=\"#c1ffc1\" stroke=\"transparent\" points=\"177,-578 0,-578 0,-536 177,-536 177,-578\"/>\n<polygon fill=\"none\" stroke=\"#000000\" points=\".5,-536 .5,-578 53.5,-578 53.5,-536 .5,-536\"/>\n<text text-anchor=\"start\" x=\"14.5\" y=\"-560\" font-family=\"Linux libertine\" font-size=\"10.00\" fill=\"#000000\">ReLU</text>\n<text text-anchor=\"start\" x=\"5.5\" y=\"-549\" font-family=\"Linux libertine\" font-size=\"10.00\" fill=\"#000000\">depth:2</text>\n<polygon fill=\"none\" stroke=\"#000000\" points=\"53.5,-557 53.5,-578 112.5,-578 112.5,-557 53.5,-557\"/>\n<text text-anchor=\"start\" x=\"64.5\" y=\"-565\" font-family=\"Linux libertine\" font-size=\"10.00\" fill=\"#000000\">input:</text>\n<polygon fill=\"none\" stroke=\"#000000\" points=\"112.5,-557 112.5,-578 177.5,-578 177.5,-557 112.5,-557\"/>\n<text text-anchor=\"start\" x=\"117.5\" y=\"-565\" font-family=\"Linux libertine\" font-size=\"10.00\" fill=\"#000000\">(1, 128) </text>\n<polygon fill=\"none\" stroke=\"#000000\" points=\"53.5,-536 53.5,-557 112.5,-557 112.5,-536 53.5,-536\"/>\n<text text-anchor=\"start\" x=\"58.5\" y=\"-544\" font-family=\"Linux libertine\" font-size=\"10.00\" fill=\"#000000\">output: </text>\n<polygon fill=\"none\" stroke=\"#000000\" points=\"112.5,-536 112.5,-557 177.5,-557 177.5,-536 112.5,-536\"/>\n<text text-anchor=\"start\" x=\"117.5\" y=\"-544\" font-family=\"Linux libertine\" font-size=\"10.00\" fill=\"#000000\">(1, 128) </text>\n</g>\n<!-- 1&#45;&gt;2 -->\n<g id=\"edge2\" class=\"edge\">\n<title>1&#45;&gt;2</title>\n<path fill=\"none\" stroke=\"#000000\" d=\"M88.5,-613.6862C88.5,-605.7975 88.5,-596.684 88.5,-588.1029\"/>\n<polygon fill=\"#000000\" stroke=\"#000000\" points=\"92.0001,-588.018 88.5,-578.018 85.0001,-588.018 92.0001,-588.018\"/>\n</g>\n<!-- 3 -->\n<g id=\"node4\" class=\"node\">\n<title>3</title>\n<polygon fill=\"#c1ffc1\" stroke=\"transparent\" points=\"177,-500 0,-500 0,-458 177,-458 177,-500\"/>\n<polygon fill=\"none\" stroke=\"#000000\" points=\".5,-458 .5,-500 53.5,-500 53.5,-458 .5,-458\"/>\n<text text-anchor=\"start\" x=\"8.5\" y=\"-482\" font-family=\"Linux libertine\" font-size=\"10.00\" fill=\"#000000\">Linear</text>\n<text text-anchor=\"start\" x=\"5.5\" y=\"-471\" font-family=\"Linux libertine\" font-size=\"10.00\" fill=\"#000000\">depth:2</text>\n<polygon fill=\"none\" stroke=\"#000000\" points=\"53.5,-479 53.5,-500 112.5,-500 112.5,-479 53.5,-479\"/>\n<text text-anchor=\"start\" x=\"64.5\" y=\"-487\" font-family=\"Linux libertine\" font-size=\"10.00\" fill=\"#000000\">input:</text>\n<polygon fill=\"none\" stroke=\"#000000\" points=\"112.5,-479 112.5,-500 177.5,-500 177.5,-479 112.5,-479\"/>\n<text text-anchor=\"start\" x=\"117.5\" y=\"-487\" font-family=\"Linux libertine\" font-size=\"10.00\" fill=\"#000000\">(1, 128) </text>\n<polygon fill=\"none\" stroke=\"#000000\" points=\"53.5,-458 53.5,-479 112.5,-479 112.5,-458 53.5,-458\"/>\n<text text-anchor=\"start\" x=\"58.5\" y=\"-466\" font-family=\"Linux libertine\" font-size=\"10.00\" fill=\"#000000\">output: </text>\n<polygon fill=\"none\" stroke=\"#000000\" points=\"112.5,-458 112.5,-479 177.5,-479 177.5,-458 112.5,-458\"/>\n<text text-anchor=\"start\" x=\"120.5\" y=\"-466\" font-family=\"Linux libertine\" font-size=\"10.00\" fill=\"#000000\">(1, 64) </text>\n</g>\n<!-- 2&#45;&gt;3 -->\n<g id=\"edge3\" class=\"edge\">\n<title>2&#45;&gt;3</title>\n<path fill=\"none\" stroke=\"#000000\" d=\"M88.5,-535.6862C88.5,-527.7975 88.5,-518.684 88.5,-510.1029\"/>\n<polygon fill=\"#000000\" stroke=\"#000000\" points=\"92.0001,-510.018 88.5,-500.018 85.0001,-510.018 92.0001,-510.018\"/>\n</g>\n<!-- 4 -->\n<g id=\"node5\" class=\"node\">\n<title>4</title>\n<polygon fill=\"#c1ffc1\" stroke=\"transparent\" points=\"174,-422 3,-422 3,-380 174,-380 174,-422\"/>\n<polygon fill=\"none\" stroke=\"#000000\" points=\"3.5,-380 3.5,-422 56.5,-422 56.5,-380 3.5,-380\"/>\n<text text-anchor=\"start\" x=\"17.5\" y=\"-404\" font-family=\"Linux libertine\" font-size=\"10.00\" fill=\"#000000\">ReLU</text>\n<text text-anchor=\"start\" x=\"8.5\" y=\"-393\" font-family=\"Linux libertine\" font-size=\"10.00\" fill=\"#000000\">depth:2</text>\n<polygon fill=\"none\" stroke=\"#000000\" points=\"56.5,-401 56.5,-422 115.5,-422 115.5,-401 56.5,-401\"/>\n<text text-anchor=\"start\" x=\"67.5\" y=\"-409\" font-family=\"Linux libertine\" font-size=\"10.00\" fill=\"#000000\">input:</text>\n<polygon fill=\"none\" stroke=\"#000000\" points=\"115.5,-401 115.5,-422 174.5,-422 174.5,-401 115.5,-401\"/>\n<text text-anchor=\"start\" x=\"120.5\" y=\"-409\" font-family=\"Linux libertine\" font-size=\"10.00\" fill=\"#000000\">(1, 64) </text>\n<polygon fill=\"none\" stroke=\"#000000\" points=\"56.5,-380 56.5,-401 115.5,-401 115.5,-380 56.5,-380\"/>\n<text text-anchor=\"start\" x=\"61.5\" y=\"-388\" font-family=\"Linux libertine\" font-size=\"10.00\" fill=\"#000000\">output: </text>\n<polygon fill=\"none\" stroke=\"#000000\" points=\"115.5,-380 115.5,-401 174.5,-401 174.5,-380 115.5,-380\"/>\n<text text-anchor=\"start\" x=\"120.5\" y=\"-388\" font-family=\"Linux libertine\" font-size=\"10.00\" fill=\"#000000\">(1, 64) </text>\n</g>\n<!-- 3&#45;&gt;4 -->\n<g id=\"edge4\" class=\"edge\">\n<title>3&#45;&gt;4</title>\n<path fill=\"none\" stroke=\"#000000\" d=\"M88.5,-457.6862C88.5,-449.7975 88.5,-440.684 88.5,-432.1029\"/>\n<polygon fill=\"#000000\" stroke=\"#000000\" points=\"92.0001,-432.018 88.5,-422.018 85.0001,-432.018 92.0001,-432.018\"/>\n</g>\n<!-- 5 -->\n<g id=\"node6\" class=\"node\">\n<title>5</title>\n<polygon fill=\"#c1ffc1\" stroke=\"transparent\" points=\"174,-344 3,-344 3,-302 174,-302 174,-344\"/>\n<polygon fill=\"none\" stroke=\"#000000\" points=\"3.5,-302 3.5,-344 56.5,-344 56.5,-302 3.5,-302\"/>\n<text text-anchor=\"start\" x=\"11.5\" y=\"-326\" font-family=\"Linux libertine\" font-size=\"10.00\" fill=\"#000000\">Linear</text>\n<text text-anchor=\"start\" x=\"8.5\" y=\"-315\" font-family=\"Linux libertine\" font-size=\"10.00\" fill=\"#000000\">depth:2</text>\n<polygon fill=\"none\" stroke=\"#000000\" points=\"56.5,-323 56.5,-344 115.5,-344 115.5,-323 56.5,-323\"/>\n<text text-anchor=\"start\" x=\"67.5\" y=\"-331\" font-family=\"Linux libertine\" font-size=\"10.00\" fill=\"#000000\">input:</text>\n<polygon fill=\"none\" stroke=\"#000000\" points=\"115.5,-323 115.5,-344 174.5,-344 174.5,-323 115.5,-323\"/>\n<text text-anchor=\"start\" x=\"120.5\" y=\"-331\" font-family=\"Linux libertine\" font-size=\"10.00\" fill=\"#000000\">(1, 64) </text>\n<polygon fill=\"none\" stroke=\"#000000\" points=\"56.5,-302 56.5,-323 115.5,-323 115.5,-302 56.5,-302\"/>\n<text text-anchor=\"start\" x=\"61.5\" y=\"-310\" font-family=\"Linux libertine\" font-size=\"10.00\" fill=\"#000000\">output: </text>\n<polygon fill=\"none\" stroke=\"#000000\" points=\"115.5,-302 115.5,-323 174.5,-323 174.5,-302 115.5,-302\"/>\n<text text-anchor=\"start\" x=\"120.5\" y=\"-310\" font-family=\"Linux libertine\" font-size=\"10.00\" fill=\"#000000\">(1, 32) </text>\n</g>\n<!-- 4&#45;&gt;5 -->\n<g id=\"edge5\" class=\"edge\">\n<title>4&#45;&gt;5</title>\n<path fill=\"none\" stroke=\"#000000\" d=\"M88.5,-379.6862C88.5,-371.7975 88.5,-362.684 88.5,-354.1029\"/>\n<polygon fill=\"#000000\" stroke=\"#000000\" points=\"92.0001,-354.018 88.5,-344.018 85.0001,-354.018 92.0001,-354.018\"/>\n</g>\n<!-- 6 -->\n<g id=\"node7\" class=\"node\">\n<title>6</title>\n<polygon fill=\"#c1ffc1\" stroke=\"transparent\" points=\"174,-266 3,-266 3,-224 174,-224 174,-266\"/>\n<polygon fill=\"none\" stroke=\"#000000\" points=\"3.5,-224 3.5,-266 56.5,-266 56.5,-224 3.5,-224\"/>\n<text text-anchor=\"start\" x=\"17.5\" y=\"-248\" font-family=\"Linux libertine\" font-size=\"10.00\" fill=\"#000000\">ReLU</text>\n<text text-anchor=\"start\" x=\"8.5\" y=\"-237\" font-family=\"Linux libertine\" font-size=\"10.00\" fill=\"#000000\">depth:2</text>\n<polygon fill=\"none\" stroke=\"#000000\" points=\"56.5,-245 56.5,-266 115.5,-266 115.5,-245 56.5,-245\"/>\n<text text-anchor=\"start\" x=\"67.5\" y=\"-253\" font-family=\"Linux libertine\" font-size=\"10.00\" fill=\"#000000\">input:</text>\n<polygon fill=\"none\" stroke=\"#000000\" points=\"115.5,-245 115.5,-266 174.5,-266 174.5,-245 115.5,-245\"/>\n<text text-anchor=\"start\" x=\"120.5\" y=\"-253\" font-family=\"Linux libertine\" font-size=\"10.00\" fill=\"#000000\">(1, 32) </text>\n<polygon fill=\"none\" stroke=\"#000000\" points=\"56.5,-224 56.5,-245 115.5,-245 115.5,-224 56.5,-224\"/>\n<text text-anchor=\"start\" x=\"61.5\" y=\"-232\" font-family=\"Linux libertine\" font-size=\"10.00\" fill=\"#000000\">output: </text>\n<polygon fill=\"none\" stroke=\"#000000\" points=\"115.5,-224 115.5,-245 174.5,-245 174.5,-224 115.5,-224\"/>\n<text text-anchor=\"start\" x=\"120.5\" y=\"-232\" font-family=\"Linux libertine\" font-size=\"10.00\" fill=\"#000000\">(1, 32) </text>\n</g>\n<!-- 5&#45;&gt;6 -->\n<g id=\"edge6\" class=\"edge\">\n<title>5&#45;&gt;6</title>\n<path fill=\"none\" stroke=\"#000000\" d=\"M88.5,-301.6862C88.5,-293.7975 88.5,-284.684 88.5,-276.1029\"/>\n<polygon fill=\"#000000\" stroke=\"#000000\" points=\"92.0001,-276.018 88.5,-266.018 85.0001,-276.018 92.0001,-276.018\"/>\n</g>\n<!-- 7 -->\n<g id=\"node8\" class=\"node\">\n<title>7</title>\n<polygon fill=\"#c1ffc1\" stroke=\"transparent\" points=\"174,-188 3,-188 3,-146 174,-146 174,-188\"/>\n<polygon fill=\"none\" stroke=\"#000000\" points=\"3.5,-146 3.5,-188 56.5,-188 56.5,-146 3.5,-146\"/>\n<text text-anchor=\"start\" x=\"11.5\" y=\"-170\" font-family=\"Linux libertine\" font-size=\"10.00\" fill=\"#000000\">Linear</text>\n<text text-anchor=\"start\" x=\"8.5\" y=\"-159\" font-family=\"Linux libertine\" font-size=\"10.00\" fill=\"#000000\">depth:2</text>\n<polygon fill=\"none\" stroke=\"#000000\" points=\"56.5,-167 56.5,-188 115.5,-188 115.5,-167 56.5,-167\"/>\n<text text-anchor=\"start\" x=\"67.5\" y=\"-175\" font-family=\"Linux libertine\" font-size=\"10.00\" fill=\"#000000\">input:</text>\n<polygon fill=\"none\" stroke=\"#000000\" points=\"115.5,-167 115.5,-188 174.5,-188 174.5,-167 115.5,-167\"/>\n<text text-anchor=\"start\" x=\"120.5\" y=\"-175\" font-family=\"Linux libertine\" font-size=\"10.00\" fill=\"#000000\">(1, 32) </text>\n<polygon fill=\"none\" stroke=\"#000000\" points=\"56.5,-146 56.5,-167 115.5,-167 115.5,-146 56.5,-146\"/>\n<text text-anchor=\"start\" x=\"61.5\" y=\"-154\" font-family=\"Linux libertine\" font-size=\"10.00\" fill=\"#000000\">output: </text>\n<polygon fill=\"none\" stroke=\"#000000\" points=\"115.5,-146 115.5,-167 174.5,-167 174.5,-146 115.5,-146\"/>\n<text text-anchor=\"start\" x=\"123.5\" y=\"-154\" font-family=\"Linux libertine\" font-size=\"10.00\" fill=\"#000000\">(1, 4) </text>\n</g>\n<!-- 6&#45;&gt;7 -->\n<g id=\"edge7\" class=\"edge\">\n<title>6&#45;&gt;7</title>\n<path fill=\"none\" stroke=\"#000000\" d=\"M88.5,-223.6862C88.5,-215.7975 88.5,-206.684 88.5,-198.1029\"/>\n<polygon fill=\"#000000\" stroke=\"#000000\" points=\"92.0001,-198.018 88.5,-188.018 85.0001,-198.018 92.0001,-198.018\"/>\n</g>\n<!-- 8 -->\n<g id=\"node9\" class=\"node\">\n<title>8</title>\n<polygon fill=\"#c1ffc1\" stroke=\"transparent\" points=\"171,-110 6,-110 6,-68 171,-68 171,-110\"/>\n<polygon fill=\"none\" stroke=\"#000000\" points=\"6.5,-68 6.5,-110 59.5,-110 59.5,-68 6.5,-68\"/>\n<text text-anchor=\"start\" x=\"11.5\" y=\"-92\" font-family=\"Linux libertine\" font-size=\"10.00\" fill=\"#000000\">Sigmoid</text>\n<text text-anchor=\"start\" x=\"11.5\" y=\"-81\" font-family=\"Linux libertine\" font-size=\"10.00\" fill=\"#000000\">depth:2</text>\n<polygon fill=\"none\" stroke=\"#000000\" points=\"59.5,-89 59.5,-110 118.5,-110 118.5,-89 59.5,-89\"/>\n<text text-anchor=\"start\" x=\"70.5\" y=\"-97\" font-family=\"Linux libertine\" font-size=\"10.00\" fill=\"#000000\">input:</text>\n<polygon fill=\"none\" stroke=\"#000000\" points=\"118.5,-89 118.5,-110 171.5,-110 171.5,-89 118.5,-89\"/>\n<text text-anchor=\"start\" x=\"123.5\" y=\"-97\" font-family=\"Linux libertine\" font-size=\"10.00\" fill=\"#000000\">(1, 4) </text>\n<polygon fill=\"none\" stroke=\"#000000\" points=\"59.5,-68 59.5,-89 118.5,-89 118.5,-68 59.5,-68\"/>\n<text text-anchor=\"start\" x=\"64.5\" y=\"-76\" font-family=\"Linux libertine\" font-size=\"10.00\" fill=\"#000000\">output: </text>\n<polygon fill=\"none\" stroke=\"#000000\" points=\"118.5,-68 118.5,-89 171.5,-89 171.5,-68 118.5,-68\"/>\n<text text-anchor=\"start\" x=\"123.5\" y=\"-76\" font-family=\"Linux libertine\" font-size=\"10.00\" fill=\"#000000\">(1, 4) </text>\n</g>\n<!-- 7&#45;&gt;8 -->\n<g id=\"edge8\" class=\"edge\">\n<title>7&#45;&gt;8</title>\n<path fill=\"none\" stroke=\"#000000\" d=\"M88.5,-145.6862C88.5,-137.7975 88.5,-128.684 88.5,-120.1029\"/>\n<polygon fill=\"#000000\" stroke=\"#000000\" points=\"92.0001,-120.018 88.5,-110.018 85.0001,-120.018 92.0001,-120.018\"/>\n</g>\n<!-- 9 -->\n<g id=\"node10\" class=\"node\">\n<title>9</title>\n<polygon fill=\"#ffffe0\" stroke=\"transparent\" points=\"156.5,-32 20.5,-32 20.5,0 156.5,0 156.5,-32\"/>\n<polygon fill=\"none\" stroke=\"#000000\" points=\"20.5,0 20.5,-32 109.5,-32 109.5,0 20.5,0\"/>\n<text text-anchor=\"start\" x=\"25.5\" y=\"-19\" font-family=\"Linux libertine\" font-size=\"10.00\" fill=\"#000000\">output&#45;tensor</text>\n<text text-anchor=\"start\" x=\"43.5\" y=\"-8\" font-family=\"Linux libertine\" font-size=\"10.00\" fill=\"#000000\">depth:0</text>\n<polygon fill=\"none\" stroke=\"#000000\" points=\"109.5,0 109.5,-32 156.5,-32 156.5,0 109.5,0\"/>\n<text text-anchor=\"start\" x=\"114.5\" y=\"-13.5\" font-family=\"Linux libertine\" font-size=\"10.00\" fill=\"#000000\">(1, 4)</text>\n</g>\n<!-- 8&#45;&gt;9 -->\n<g id=\"edge9\" class=\"edge\">\n<title>8&#45;&gt;9</title>\n<path fill=\"none\" stroke=\"#000000\" d=\"M88.5,-67.8854C88.5,-59.9505 88.5,-50.8282 88.5,-42.4674\"/>\n<polygon fill=\"#000000\" stroke=\"#000000\" points=\"92.0001,-42.4309 88.5,-32.431 85.0001,-42.431 92.0001,-42.4309\"/>\n</g>\n</g>\n</svg>\n"
          },
          "metadata": {},
          "execution_count": 8
        }
      ]
    },
    {
      "cell_type": "code",
      "source": [
        "criterion = nn.MSELoss()\n",
        "# criterion = nn.BCELoss()\n",
        "params_to_update = model.parameters()\n",
        "optimizer = optim.Adam(params_to_update, lr=0.0001)\n",
        "num_epochs = 100\n",
        "BATCH_SIZE = 32\n",
        "\n",
        "\n",
        "from torch.autograd import Variable\n",
        "X_train = Variable(torch.from_numpy(np.array(X_train))).float()\n",
        "y_train = Variable(torch.from_numpy(np.array(y_train))).float()\n",
        "\n",
        "Tr_tensor = TensorDataset(X_train, y_train)\n",
        "Tr_dataloader =  DataLoader(Tr_tensor, batch_size=BATCH_SIZE)\n",
        "\n",
        "for epoch in range(num_epochs):\n",
        "    for inputs, labels in Tr_dataloader:\n",
        "        inputs = inputs.to(device)\n",
        "        labels = labels.to(device)\n",
        "        output = model(inputs)\n",
        "\n",
        "        loss = criterion(output, labels)\n",
        "\n",
        "        # Backpropagation based on the loss\n",
        "        optimizer.zero_grad()\n",
        "        loss.backward()\n",
        "        optimizer.step()\n",
        "\n",
        "    if epoch%10 == 0:\n",
        "        print('Epoch {}: Loss {}'.format(epoch, loss))"
      ],
      "metadata": {
        "id": "e-5cWdzkogsq",
        "colab": {
          "base_uri": "https://localhost:8080/"
        },
        "outputId": "22cc6c9d-29ed-49aa-f439-b7489f9de670"
      },
      "execution_count": null,
      "outputs": [
        {
          "output_type": "stream",
          "name": "stdout",
          "text": [
            "Epoch 0: Loss 0.0394139401614666\n",
            "Epoch 10: Loss 0.00495633389800787\n",
            "Epoch 20: Loss 0.002174430526793003\n",
            "Epoch 30: Loss 0.0013595903292298317\n",
            "Epoch 40: Loss 0.001002425909973681\n",
            "Epoch 50: Loss 0.0005516616511158645\n",
            "Epoch 60: Loss 0.0002604560577310622\n",
            "Epoch 70: Loss 0.00018566880316939205\n",
            "Epoch 80: Loss 0.00013842475891578943\n",
            "Epoch 90: Loss 0.00010258588008582592\n"
          ]
        }
      ]
    },
    {
      "cell_type": "code",
      "source": [
        "imgs = np.zeros((1, img_size, img_size))\n",
        "for i_object in range(num_objects):\n",
        "    w, h = np.random.randint(min_object_size, max_object_size, size=2)\n",
        "    x = np.random.randint(0, img_size - w)\n",
        "    y = np.random.randint(0, img_size - h)\n",
        "    imgs[0, x:x+w, y:y+h] = 1.\n",
        "\n",
        "\n",
        "test_X = imgs.reshape((1,imgs.shape[1]*imgs.shape[2]))\n",
        "test_X = Variable(torch.from_numpy(np.array(test_X))).float()\n",
        "\n",
        "pred_y = model(test_X).detach().numpy()\n",
        "pred_bboxes = pred_y * img_size\n",
        "pred_bboxes = pred_bboxes.reshape(len(pred_bboxes), num_objects, -1)\n",
        "\n",
        "print(pred_y)\n",
        "print(pred_bboxes)\n",
        "plt.figure(figsize=(5,5))\n",
        "plt.imshow(test_X.reshape((img_size,img_size)).T, cmap='Greys', interpolation='none', origin='lower', extent=[0, img_size, 0, img_size])\n",
        "for pred_bbox in pred_bboxes[0]:\n",
        "    plt.gca().add_patch(matplotlib.patches.Rectangle((pred_bbox[0], pred_bbox[1]), pred_bbox[2]-pred_bbox[0], pred_bbox[3]-pred_bbox[1], ec='r', fc='none'))\n",
        "plt.show()"
      ],
      "metadata": {
        "id": "e_QOv_0Iu71q",
        "colab": {
          "base_uri": "https://localhost:8080/",
          "height": 359
        },
        "outputId": "070cfcdd-bc41-4157-d6cf-21213d32ca16"
      },
      "execution_count": null,
      "outputs": [
        {
          "output_type": "stream",
          "name": "stdout",
          "text": [
            "[[0.39682046 0.601421   0.59017026 0.94739056]]\n",
            "[[[ 7.936409  12.0284195 11.803406  18.947811 ]]]\n"
          ]
        },
        {
          "output_type": "display_data",
          "data": {
            "text/plain": [
              "<Figure size 360x360 with 1 Axes>"
            ],
            "image/png": "[encoded data removed]"
          },
          "metadata": {
            "needs_background": "light"
          }
        }
      ]
    },
    {
      "cell_type": "markdown",
      "source": [
        "#Object detection for MNIST dataset"
      ],
      "metadata": {
        "id": "_NGK2jrL8yxU"
      }
    },
    {
      "cell_type": "code",
      "source": [
        "# credit: https://github.com/lmoroney/synthetic_datasets/blob/master/MNIST/convertMNIST.py\n",
        "# IMPORTS\n",
        "import tensorflow as tf\n",
        "import tensorflow_datasets as tfds\n",
        "import csv\n",
        "import os\n",
        "from PIL import Image\n",
        "\n",
        "# CONSTANTS\n",
        "TRAINING_SIZE = 60000\n",
        "TESTING_SIZE = 10000\n",
        "DATA_IMAGE_WIDTH = 28\n",
        "DATA_IMAGE_HEIGHT = 28\n",
        "FINAL_IMAGE_WIDTH = 100\n",
        "FINAL_IMAGE_HEIGHT = 100\n",
        "TRAINING_EXPORT_DIR = \"/content/synthetic_datasets/MNIST_Converted_Training/\"\n",
        "TRAINING_EXPORT_FILE = \"converted_training\"\n",
        "TRAINING_CSV = \"/content/synthetic_datasets/training_data.csv\"\n",
        "TESTING_EXPORT_DIR = \"/content/synthetic_datasets/MNIST_Converted_Testing/\"\n",
        "TESTING_EXPORT_FILE = \"converted_testing\"\n",
        "TESTING_CSV = \"/content/synthetic_datasets/test_data.csv\"\n",
        "\n",
        "# Convert and upscale function will take an image with DATA_IMAGE_HEIGHT and DATA_IMAGE_WIDTH dimensions\n",
        "# and create a new image with FINAL_IMAGE_WIDTH and FINAL_IMAGE_HEIGHT dimensions, where the original\n",
        "# image is embededded within the final at a set of dimensions. It will then return the bounding box\n",
        "# for where the original image is within the new one\n",
        "def convert_and_upscale(image, label):\n",
        "    xmin = tf.random.uniform((), 0, FINAL_IMAGE_WIDTH - DATA_IMAGE_WIDTH, dtype=tf.int32)\n",
        "    ymin = tf.random.uniform((), 0, FINAL_IMAGE_HEIGHT - DATA_IMAGE_HEIGHT, dtype=tf.int32)\n",
        "    image = tf.reshape(image, (DATA_IMAGE_WIDTH, DATA_IMAGE_HEIGHT, 1,))\n",
        "    image = tf.image.pad_to_bounding_box(image, ymin, xmin, FINAL_IMAGE_WIDTH, FINAL_IMAGE_HEIGHT)\n",
        "    xmin = tf.cast(xmin, tf.float32)\n",
        "    ymin = tf.cast(ymin, tf.float32)\n",
        "    xmax = (xmin + DATA_IMAGE_WIDTH) / FINAL_IMAGE_WIDTH\n",
        "    ymax = (ymin + DATA_IMAGE_HEIGHT) / FINAL_IMAGE_HEIGHT\n",
        "    xmin = xmin / FINAL_IMAGE_WIDTH\n",
        "    ymin = ymin / FINAL_IMAGE_HEIGHT\n",
        "    real_image = Image.fromarray(image.numpy().squeeze(axis=2))\n",
        "    real_image = real_image.convert(\"L\")\n",
        "    return real_image, ([label.numpy(), xmin.numpy(), ymin.numpy(), xmax.numpy(), ymax.numpy()])\n",
        "\n",
        "\n",
        "# Do conversion will go through the dataset, reading the images one by one, and converting them\n",
        "# It will then write out the 'new' images, along with a CSV file containing the label and the bounding box\n",
        "# details, where the bounding box is xmin, ymin, xmax, ymax\n",
        "def do_conversion(dataset, export_dir, export_file, csv_name, number_of_records):\n",
        "    current_item = 0\n",
        "    if not os.path.isdir(export_dir):\n",
        "        os.mkdir(export_dir)\n",
        "    with open(csv_name, 'w', newline='\\n') as csv_file:\n",
        "        csv_data_writer = csv.writer(csv_file, delimiter=',')\n",
        "        for item in dataset.take(number_of_records):\n",
        "            image, label = convert_and_upscale(item[0], item[1])\n",
        "            current_item = current_item + 1\n",
        "            filename = export_file + str(current_item) + \".png\"\n",
        "            image.save(export_dir + filename)\n",
        "            towrite = []\n",
        "            towrite.append(filename)\n",
        "            for i in label:\n",
        "                towrite.append(str(i))\n",
        "            csv_data_writer.writerow(towrite)\n",
        "    csv_file.close()\n",
        "\n",
        "\n",
        "# Perform the conversion on both the training and test splits\n",
        "training_dataset = tfds.load(\"mnist\", split=\"train\", as_supervised=True)\n",
        "testing_dataset = tfds.load(\"mnist\", split=\"test\", as_supervised=True)\n",
        "\n",
        "try:\n",
        "    os.makedirs(TRAINING_EXPORT_DIR)\n",
        "except:\n",
        "    pass\n",
        "do_conversion(training_dataset, TRAINING_EXPORT_DIR, TRAINING_EXPORT_FILE, TRAINING_CSV, 60000)\n",
        "\n",
        "try:\n",
        "    os.makedirs(TESTING_EXPORT_DIR)\n",
        "except:\n",
        "    pass\n",
        "do_conversion(testing_dataset, TESTING_EXPORT_DIR, TESTING_EXPORT_FILE, TESTING_CSV, 10000)"
      ],
      "metadata": {
        "id": "EtJc9Z4Uu74p"
      },
      "execution_count": null,
      "outputs": []
    },
    {
      "cell_type": "code",
      "source": [
        "TRAIN_IMG_PATH = \"/content/synthetic_datasets/MNIST_Converted_Training/\"\n",
        "TEST_IMG_PATH = \"/content/synthetic_datasets/MNIST_Converted_Testing/\"\n",
        "\n",
        "import pandas as pd\n",
        "\n",
        "label = pd.read_csv(\"/content/synthetic_datasets/training_data.csv\",header=None)\n",
        "X_train = np.array([np.array(Image.open(TRAIN_IMG_PATH+fname)) for fname in label[0]])\n",
        "X_train = X_train.reshape((X_train.shape[0],X_train.shape[1]*X_train.shape[2]))\n",
        "y_train = label.iloc[:,1].to_numpy()\n",
        "train_box = label.iloc[:,2:].to_numpy()\n",
        "\n",
        "label = pd.read_csv(\"/content/synthetic_datasets/test_data.csv\",header=None)\n",
        "X_test = np.array([np.array(Image.open(TEST_IMG_PATH+fname)) for fname in label[0]])\n",
        "X_test = X_test.reshape((X_test.shape[0],X_test.shape[1]*X_test.shape[2]))\n",
        "y_test = label.iloc[:,1].to_numpy()\n",
        "test_box = label.iloc[:,2:].to_numpy()\n",
        "\n",
        "OUT_SIZE = train_box.shape[1]"
      ],
      "metadata": {
        "id": "oGvJPuV0GMzQ"
      },
      "execution_count": null,
      "outputs": []
    },
    {
      "cell_type": "code",
      "source": [
        "import matplotlib\n",
        "\n",
        "i_num = np.random.randint(0,len(X_test))\n",
        "\n",
        "imgs = X_test[i_num]\n",
        "test_X = imgs.reshape((1,100*100))\n",
        "plt.figure(figsize=(5,5))\n",
        "plt.imshow(test_X.reshape((100,100)), cmap='Greys', interpolation='none', origin='lower', extent=[0, 100, 0, 100])\n",
        "plt.show()\n"
      ],
      "metadata": {
        "colab": {
          "base_uri": "https://localhost:8080/",
          "height": 324
        },
        "id": "Qt_2x14kVsDw",
        "outputId": "5b714c4b-48ad-4184-cf32-ad55d418e7f7"
      },
      "execution_count": null,
      "outputs": [
        {
          "output_type": "display_data",
          "data": {
            "text/plain": [
              "<Figure size 360x360 with 1 Axes>"
            ],
            "image/png": "[encoded data removed]"
          },
          "metadata": {
            "needs_background": "light"
          }
        }
      ]
    },
    {
      "cell_type": "code",
      "source": [
        "class ObjectDetector(nn.Module):\n",
        "    def __init__(self,**kwargs):\n",
        "        super(ObjectDetector,self).__init__(**kwargs)\n",
        "        self.net = nn.Sequential(\n",
        "            nn.Linear(10000, 128),\n",
        "            nn.ReLU(),\n",
        "            nn.Dropout(0.2),\n",
        "            nn.Linear(128, 64),\n",
        "            nn.ReLU(),\n",
        "            nn.Dropout(0.2),\n",
        "            nn.Linear(64, 32),\n",
        "            nn.ReLU(),\n",
        "            nn.Dropout(0.2),\n",
        "            nn.Linear(32, OUT_SIZE),\n",
        "            nn.Sigmoid(),\n",
        "        )\n",
        "\n",
        "    def forward(self, x):\n",
        "        return self.net(x)\n",
        "\n",
        "# Move model to target device\n",
        "model = ObjectDetector().to(device)\n",
        "\n",
        "summary(model, input_size=(FINAL_IMAGE_WIDTH*FINAL_IMAGE_WIDTH,))\n",
        "draw_graph(model, input_size=(1,FINAL_IMAGE_WIDTH*FINAL_IMAGE_WIDTH)).visual_graph\n"
      ],
      "metadata": {
        "id": "M1pomzJtGM1t",
        "colab": {
          "base_uri": "https://localhost:8080/",
          "height": 1000
        },
        "outputId": "ec127f70-4a6e-4e3d-8b48-8ba437254d13"
      },
      "execution_count": null,
      "outputs": [
        {
          "output_type": "stream",
          "name": "stdout",
          "text": [
            "----------------------------------------------------------------\n",
            "        Layer (type)               Output Shape         Param #\n",
            "================================================================\n",
            "            Linear-1                  [-1, 128]       1,280,128\n",
            "              ReLU-2                  [-1, 128]               0\n",
            "           Dropout-3                  [-1, 128]               0\n",
            "            Linear-4                   [-1, 64]           8,256\n",
            "              ReLU-5                   [-1, 64]               0\n",
            "           Dropout-6                   [-1, 64]               0\n",
            "            Linear-7                   [-1, 32]           2,080\n",
            "              ReLU-8                   [-1, 32]               0\n",
            "           Dropout-9                   [-1, 32]               0\n",
            "           Linear-10                    [-1, 4]             132\n",
            "          Sigmoid-11                    [-1, 4]               0\n",
            "================================================================\n",
            "Total params: 1,290,596\n",
            "Trainable params: 1,290,596\n",
            "Non-trainable params: 0\n",
            "----------------------------------------------------------------\n",
            "Input size (MB): 0.04\n",
            "Forward/backward pass size (MB): 0.01\n",
            "Params size (MB): 4.92\n",
            "Estimated Total Size (MB): 4.97\n",
            "----------------------------------------------------------------\n"
          ]
        },
        {
          "output_type": "execute_result",
          "data": {
            "text/plain": [
              "<graphviz.dot.Digraph at 0x7f84dbd32e20>"
            ],
            "image/svg+xml": "<?xml version=\"1.0\" encoding=\"UTF-8\" standalone=\"no\"?>\n<!DOCTYPE svg PUBLIC \"-//W3C//DTD SVG 1.1//EN\"\n \"http://www.w3.org/Graphics/SVG/1.1/DTD/svg11.dtd\">\n<!-- Generated by graphviz version 2.40.1 (20161225.0304)\n -->\n<!-- Title: model Pages: 1 -->\n<svg width=\"176pt\" height=\"864pt\"\n viewBox=\"0.00 0.00 176.20 864.00\" xmlns=\"http://www.w3.org/2000/svg\" xmlns:xlink=\"http://www.w3.org/1999/xlink\">\n<g id=\"graph0\" class=\"graph\" transform=\"scale(.8944 .8944) rotate(0) translate(4 962)\">\n<title>model</title>\n<polygon fill=\"#ffffff\" stroke=\"transparent\" points=\"-4,4 -4,-962 193,-962 193,4 -4,4\"/>\n<!-- 0 -->\n<g id=\"node1\" class=\"node\">\n<title>0</title>\n<polygon fill=\"#ffffe0\" stroke=\"transparent\" points=\"171.5,-958 17.5,-958 17.5,-926 171.5,-926 171.5,-958\"/>\n<polygon fill=\"none\" stroke=\"#000000\" points=\"17.5,-926 17.5,-958 100.5,-958 100.5,-926 17.5,-926\"/>\n<text text-anchor=\"start\" x=\"22.5\" y=\"-945\" font-family=\"Linux libertine\" font-size=\"10.00\" fill=\"#000000\">input&#45;tensor</text>\n<text text-anchor=\"start\" x=\"37.5\" y=\"-934\" font-family=\"Linux libertine\" font-size=\"10.00\" fill=\"#000000\">depth:0</text>\n<polygon fill=\"none\" stroke=\"#000000\" points=\"100.5,-926 100.5,-958 171.5,-958 171.5,-926 100.5,-926\"/>\n<text text-anchor=\"start\" x=\"105.5\" y=\"-939.5\" font-family=\"Linux libertine\" font-size=\"10.00\" fill=\"#000000\">(1, 10000)</text>\n</g>\n<!-- 1 -->\n<g id=\"node2\" class=\"node\">\n<title>1</title>\n<polygon fill=\"#c1ffc1\" stroke=\"transparent\" points=\"189,-890 0,-890 0,-848 189,-848 189,-890\"/>\n<polygon fill=\"none\" stroke=\"#000000\" points=\".5,-848 .5,-890 53.5,-890 53.5,-848 .5,-848\"/>\n<text text-anchor=\"start\" x=\"8.5\" y=\"-872\" font-family=\"Linux libertine\" font-size=\"10.00\" fill=\"#000000\">Linear</text>\n<text text-anchor=\"start\" x=\"5.5\" y=\"-861\" font-family=\"Linux libertine\" font-size=\"10.00\" fill=\"#000000\">depth:2</text>\n<polygon fill=\"none\" stroke=\"#000000\" points=\"53.5,-869 53.5,-890 112.5,-890 112.5,-869 53.5,-869\"/>\n<text text-anchor=\"start\" x=\"64.5\" y=\"-877\" font-family=\"Linux libertine\" font-size=\"10.00\" fill=\"#000000\">input:</text>\n<polygon fill=\"none\" stroke=\"#000000\" points=\"112.5,-869 112.5,-890 189.5,-890 189.5,-869 112.5,-869\"/>\n<text text-anchor=\"start\" x=\"117.5\" y=\"-877\" font-family=\"Linux libertine\" font-size=\"10.00\" fill=\"#000000\">(1, 10000) </text>\n<polygon fill=\"none\" stroke=\"#000000\" points=\"53.5,-848 53.5,-869 112.5,-869 112.5,-848 53.5,-848\"/>\n<text text-anchor=\"start\" x=\"58.5\" y=\"-856\" font-family=\"Linux libertine\" font-size=\"10.00\" fill=\"#000000\">output: </text>\n<polygon fill=\"none\" stroke=\"#000000\" points=\"112.5,-848 112.5,-869 189.5,-869 189.5,-848 112.5,-848\"/>\n<text text-anchor=\"start\" x=\"123.5\" y=\"-856\" font-family=\"Linux libertine\" font-size=\"10.00\" fill=\"#000000\">(1, 128) </text>\n</g>\n<!-- 0&#45;&gt;1 -->\n<g id=\"edge1\" class=\"edge\">\n<title>0&#45;&gt;1</title>\n<path fill=\"none\" stroke=\"#000000\" d=\"M94.5,-925.7989C94.5,-918.2512 94.5,-909.0055 94.5,-900.1832\"/>\n<polygon fill=\"#000000\" stroke=\"#000000\" points=\"98.0001,-900.1483 94.5,-890.1483 91.0001,-900.1484 98.0001,-900.1483\"/>\n</g>\n<!-- 2 -->\n<g id=\"node3\" class=\"node\">\n<title>2</title>\n<polygon fill=\"#c1ffc1\" stroke=\"transparent\" points=\"183,-812 6,-812 6,-770 183,-770 183,-812\"/>\n<polygon fill=\"none\" stroke=\"#000000\" points=\"6.5,-770 6.5,-812 59.5,-812 59.5,-770 6.5,-770\"/>\n<text text-anchor=\"start\" x=\"20.5\" y=\"-794\" font-family=\"Linux libertine\" font-size=\"10.00\" fill=\"#000000\">ReLU</text>\n<text text-anchor=\"start\" x=\"11.5\" y=\"-783\" font-family=\"Linux libertine\" font-size=\"10.00\" fill=\"#000000\">depth:2</text>\n<polygon fill=\"none\" stroke=\"#000000\" points=\"59.5,-791 59.5,-812 118.5,-812 118.5,-791 59.5,-791\"/>\n<text text-anchor=\"start\" x=\"70.5\" y=\"-799\" font-family=\"Linux libertine\" font-size=\"10.00\" fill=\"#000000\">input:</text>\n<polygon fill=\"none\" stroke=\"#000000\" points=\"118.5,-791 118.5,-812 183.5,-812 183.5,-791 118.5,-791\"/>\n<text text-anchor=\"start\" x=\"123.5\" y=\"-799\" font-family=\"Linux libertine\" font-size=\"10.00\" fill=\"#000000\">(1, 128) </text>\n<polygon fill=\"none\" stroke=\"#000000\" points=\"59.5,-770 59.5,-791 118.5,-791 118.5,-770 59.5,-770\"/>\n<text text-anchor=\"start\" x=\"64.5\" y=\"-778\" font-family=\"Linux libertine\" font-size=\"10.00\" fill=\"#000000\">output: </text>\n<polygon fill=\"none\" stroke=\"#000000\" points=\"118.5,-770 118.5,-791 183.5,-791 183.5,-770 118.5,-770\"/>\n<text text-anchor=\"start\" x=\"123.5\" y=\"-778\" font-family=\"Linux libertine\" font-size=\"10.00\" fill=\"#000000\">(1, 128) </text>\n</g>\n<!-- 1&#45;&gt;2 -->\n<g id=\"edge2\" class=\"edge\">\n<title>1&#45;&gt;2</title>\n<path fill=\"none\" stroke=\"#000000\" d=\"M94.5,-847.6862C94.5,-839.7975 94.5,-830.684 94.5,-822.1029\"/>\n<polygon fill=\"#000000\" stroke=\"#000000\" points=\"98.0001,-822.018 94.5,-812.018 91.0001,-822.018 98.0001,-822.018\"/>\n</g>\n<!-- 3 -->\n<g id=\"node4\" class=\"node\">\n<title>3</title>\n<polygon fill=\"#c1ffc1\" stroke=\"transparent\" points=\"183,-734 6,-734 6,-692 183,-692 183,-734\"/>\n<polygon fill=\"none\" stroke=\"#000000\" points=\"6.5,-692 6.5,-734 59.5,-734 59.5,-692 6.5,-692\"/>\n<text text-anchor=\"start\" x=\"11.5\" y=\"-716\" font-family=\"Linux libertine\" font-size=\"10.00\" fill=\"#000000\">Dropout</text>\n<text text-anchor=\"start\" x=\"11.5\" y=\"-705\" font-family=\"Linux libertine\" font-size=\"10.00\" fill=\"#000000\">depth:2</text>\n<polygon fill=\"none\" stroke=\"#000000\" points=\"59.5,-713 59.5,-734 118.5,-734 118.5,-713 59.5,-713\"/>\n<text text-anchor=\"start\" x=\"70.5\" y=\"-721\" font-family=\"Linux libertine\" font-size=\"10.00\" fill=\"#000000\">input:</text>\n<polygon fill=\"none\" stroke=\"#000000\" points=\"118.5,-713 118.5,-734 183.5,-734 183.5,-713 118.5,-713\"/>\n<text text-anchor=\"start\" x=\"123.5\" y=\"-721\" font-family=\"Linux libertine\" font-size=\"10.00\" fill=\"#000000\">(1, 128) </text>\n<polygon fill=\"none\" stroke=\"#000000\" points=\"59.5,-692 59.5,-713 118.5,-713 118.5,-692 59.5,-692\"/>\n<text text-anchor=\"start\" x=\"64.5\" y=\"-700\" font-family=\"Linux libertine\" font-size=\"10.00\" fill=\"#000000\">output: </text>\n<polygon fill=\"none\" stroke=\"#000000\" points=\"118.5,-692 118.5,-713 183.5,-713 183.5,-692 118.5,-692\"/>\n<text text-anchor=\"start\" x=\"123.5\" y=\"-700\" font-family=\"Linux libertine\" font-size=\"10.00\" fill=\"#000000\">(1, 128) </text>\n</g>\n<!-- 2&#45;&gt;3 -->\n<g id=\"edge3\" class=\"edge\">\n<title>2&#45;&gt;3</title>\n<path fill=\"none\" stroke=\"#000000\" d=\"M94.5,-769.6862C94.5,-761.7975 94.5,-752.684 94.5,-744.1029\"/>\n<polygon fill=\"#000000\" stroke=\"#000000\" points=\"98.0001,-744.018 94.5,-734.018 91.0001,-744.018 98.0001,-744.018\"/>\n</g>\n<!-- 4 -->\n<g id=\"node5\" class=\"node\">\n<title>4</title>\n<polygon fill=\"#c1ffc1\" stroke=\"transparent\" points=\"183,-656 6,-656 6,-614 183,-614 183,-656\"/>\n<polygon fill=\"none\" stroke=\"#000000\" points=\"6.5,-614 6.5,-656 59.5,-656 59.5,-614 6.5,-614\"/>\n<text text-anchor=\"start\" x=\"14.5\" y=\"-638\" font-family=\"Linux libertine\" font-size=\"10.00\" fill=\"#000000\">Linear</text>\n<text text-anchor=\"start\" x=\"11.5\" y=\"-627\" font-family=\"Linux libertine\" font-size=\"10.00\" fill=\"#000000\">depth:2</text>\n<polygon fill=\"none\" stroke=\"#000000\" points=\"59.5,-635 59.5,-656 118.5,-656 118.5,-635 59.5,-635\"/>\n<text text-anchor=\"start\" x=\"70.5\" y=\"-643\" font-family=\"Linux libertine\" font-size=\"10.00\" fill=\"#000000\">input:</text>\n<polygon fill=\"none\" stroke=\"#000000\" points=\"118.5,-635 118.5,-656 183.5,-656 183.5,-635 118.5,-635\"/>\n<text text-anchor=\"start\" x=\"123.5\" y=\"-643\" font-family=\"Linux libertine\" font-size=\"10.00\" fill=\"#000000\">(1, 128) </text>\n<polygon fill=\"none\" stroke=\"#000000\" points=\"59.5,-614 59.5,-635 118.5,-635 118.5,-614 59.5,-614\"/>\n<text text-anchor=\"start\" x=\"64.5\" y=\"-622\" font-family=\"Linux libertine\" font-size=\"10.00\" fill=\"#000000\">output: </text>\n<polygon fill=\"none\" stroke=\"#000000\" points=\"118.5,-614 118.5,-635 183.5,-635 183.5,-614 118.5,-614\"/>\n<text text-anchor=\"start\" x=\"126.5\" y=\"-622\" font-family=\"Linux libertine\" font-size=\"10.00\" fill=\"#000000\">(1, 64) </text>\n</g>\n<!-- 3&#45;&gt;4 -->\n<g id=\"edge4\" class=\"edge\">\n<title>3&#45;&gt;4</title>\n<path fill=\"none\" stroke=\"#000000\" d=\"M94.5,-691.6862C94.5,-683.7975 94.5,-674.684 94.5,-666.1029\"/>\n<polygon fill=\"#000000\" stroke=\"#000000\" points=\"98.0001,-666.018 94.5,-656.018 91.0001,-666.018 98.0001,-666.018\"/>\n</g>\n<!-- 5 -->\n<g id=\"node6\" class=\"node\">\n<title>5</title>\n<polygon fill=\"#c1ffc1\" stroke=\"transparent\" points=\"180,-578 9,-578 9,-536 180,-536 180,-578\"/>\n<polygon fill=\"none\" stroke=\"#000000\" points=\"9.5,-536 9.5,-578 62.5,-578 62.5,-536 9.5,-536\"/>\n<text text-anchor=\"start\" x=\"23.5\" y=\"-560\" font-family=\"Linux libertine\" font-size=\"10.00\" fill=\"#000000\">ReLU</text>\n<text text-anchor=\"start\" x=\"14.5\" y=\"-549\" font-family=\"Linux libertine\" font-size=\"10.00\" fill=\"#000000\">depth:2</text>\n<polygon fill=\"none\" stroke=\"#000000\" points=\"62.5,-557 62.5,-578 121.5,-578 121.5,-557 62.5,-557\"/>\n<text text-anchor=\"start\" x=\"73.5\" y=\"-565\" font-family=\"Linux libertine\" font-size=\"10.00\" fill=\"#000000\">input:</text>\n<polygon fill=\"none\" stroke=\"#000000\" points=\"121.5,-557 121.5,-578 180.5,-578 180.5,-557 121.5,-557\"/>\n<text text-anchor=\"start\" x=\"126.5\" y=\"-565\" font-family=\"Linux libertine\" font-size=\"10.00\" fill=\"#000000\">(1, 64) </text>\n<polygon fill=\"none\" stroke=\"#000000\" points=\"62.5,-536 62.5,-557 121.5,-557 121.5,-536 62.5,-536\"/>\n<text text-anchor=\"start\" x=\"67.5\" y=\"-544\" font-family=\"Linux libertine\" font-size=\"10.00\" fill=\"#000000\">output: </text>\n<polygon fill=\"none\" stroke=\"#000000\" points=\"121.5,-536 121.5,-557 180.5,-557 180.5,-536 121.5,-536\"/>\n<text text-anchor=\"start\" x=\"126.5\" y=\"-544\" font-family=\"Linux libertine\" font-size=\"10.00\" fill=\"#000000\">(1, 64) </text>\n</g>\n<!-- 4&#45;&gt;5 -->\n<g id=\"edge5\" class=\"edge\">\n<title>4&#45;&gt;5</title>\n<path fill=\"none\" stroke=\"#000000\" d=\"M94.5,-613.6862C94.5,-605.7975 94.5,-596.684 94.5,-588.1029\"/>\n<polygon fill=\"#000000\" stroke=\"#000000\" points=\"98.0001,-588.018 94.5,-578.018 91.0001,-588.018 98.0001,-588.018\"/>\n</g>\n<!-- 6 -->\n<g id=\"node7\" class=\"node\">\n<title>6</title>\n<polygon fill=\"#c1ffc1\" stroke=\"transparent\" points=\"180,-500 9,-500 9,-458 180,-458 180,-500\"/>\n<polygon fill=\"none\" stroke=\"#000000\" points=\"9.5,-458 9.5,-500 62.5,-500 62.5,-458 9.5,-458\"/>\n<text text-anchor=\"start\" x=\"14.5\" y=\"-482\" font-family=\"Linux libertine\" font-size=\"10.00\" fill=\"#000000\">Dropout</text>\n<text text-anchor=\"start\" x=\"14.5\" y=\"-471\" font-family=\"Linux libertine\" font-size=\"10.00\" fill=\"#000000\">depth:2</text>\n<polygon fill=\"none\" stroke=\"#000000\" points=\"62.5,-479 62.5,-500 121.5,-500 121.5,-479 62.5,-479\"/>\n<text text-anchor=\"start\" x=\"73.5\" y=\"-487\" font-family=\"Linux libertine\" font-size=\"10.00\" fill=\"#000000\">input:</text>\n<polygon fill=\"none\" stroke=\"#000000\" points=\"121.5,-479 121.5,-500 180.5,-500 180.5,-479 121.5,-479\"/>\n<text text-anchor=\"start\" x=\"126.5\" y=\"-487\" font-family=\"Linux libertine\" font-size=\"10.00\" fill=\"#000000\">(1, 64) </text>\n<polygon fill=\"none\" stroke=\"#000000\" points=\"62.5,-458 62.5,-479 121.5,-479 121.5,-458 62.5,-458\"/>\n<text text-anchor=\"start\" x=\"67.5\" y=\"-466\" font-family=\"Linux libertine\" font-size=\"10.00\" fill=\"#000000\">output: </text>\n<polygon fill=\"none\" stroke=\"#000000\" points=\"121.5,-458 121.5,-479 180.5,-479 180.5,-458 121.5,-458\"/>\n<text text-anchor=\"start\" x=\"126.5\" y=\"-466\" font-family=\"Linux libertine\" font-size=\"10.00\" fill=\"#000000\">(1, 64) </text>\n</g>\n<!-- 5&#45;&gt;6 -->\n<g id=\"edge6\" class=\"edge\">\n<title>5&#45;&gt;6</title>\n<path fill=\"none\" stroke=\"#000000\" d=\"M94.5,-535.6862C94.5,-527.7975 94.5,-518.684 94.5,-510.1029\"/>\n<polygon fill=\"#000000\" stroke=\"#000000\" points=\"98.0001,-510.018 94.5,-500.018 91.0001,-510.018 98.0001,-510.018\"/>\n</g>\n<!-- 7 -->\n<g id=\"node8\" class=\"node\">\n<title>7</title>\n<polygon fill=\"#c1ffc1\" stroke=\"transparent\" points=\"180,-422 9,-422 9,-380 180,-380 180,-422\"/>\n<polygon fill=\"none\" stroke=\"#000000\" points=\"9.5,-380 9.5,-422 62.5,-422 62.5,-380 9.5,-380\"/>\n<text text-anchor=\"start\" x=\"17.5\" y=\"-404\" font-family=\"Linux libertine\" font-size=\"10.00\" fill=\"#000000\">Linear</text>\n<text text-anchor=\"start\" x=\"14.5\" y=\"-393\" font-family=\"Linux libertine\" font-size=\"10.00\" fill=\"#000000\">depth:2</text>\n<polygon fill=\"none\" stroke=\"#000000\" points=\"62.5,-401 62.5,-422 121.5,-422 121.5,-401 62.5,-401\"/>\n<text text-anchor=\"start\" x=\"73.5\" y=\"-409\" font-family=\"Linux libertine\" font-size=\"10.00\" fill=\"#000000\">input:</text>\n<polygon fill=\"none\" stroke=\"#000000\" points=\"121.5,-401 121.5,-422 180.5,-422 180.5,-401 121.5,-401\"/>\n<text text-anchor=\"start\" x=\"126.5\" y=\"-409\" font-family=\"Linux libertine\" font-size=\"10.00\" fill=\"#000000\">(1, 64) </text>\n<polygon fill=\"none\" stroke=\"#000000\" points=\"62.5,-380 62.5,-401 121.5,-401 121.5,-380 62.5,-380\"/>\n<text text-anchor=\"start\" x=\"67.5\" y=\"-388\" font-family=\"Linux libertine\" font-size=\"10.00\" fill=\"#000000\">output: </text>\n<polygon fill=\"none\" stroke=\"#000000\" points=\"121.5,-380 121.5,-401 180.5,-401 180.5,-380 121.5,-380\"/>\n<text text-anchor=\"start\" x=\"126.5\" y=\"-388\" font-family=\"Linux libertine\" font-size=\"10.00\" fill=\"#000000\">(1, 32) </text>\n</g>\n<!-- 6&#45;&gt;7 -->\n<g id=\"edge7\" class=\"edge\">\n<title>6&#45;&gt;7</title>\n<path fill=\"none\" stroke=\"#000000\" d=\"M94.5,-457.6862C94.5,-449.7975 94.5,-440.684 94.5,-432.1029\"/>\n<polygon fill=\"#000000\" stroke=\"#000000\" points=\"98.0001,-432.018 94.5,-422.018 91.0001,-432.018 98.0001,-432.018\"/>\n</g>\n<!-- 8 -->\n<g id=\"node9\" class=\"node\">\n<title>8</title>\n<polygon fill=\"#c1ffc1\" stroke=\"transparent\" points=\"180,-344 9,-344 9,-302 180,-302 180,-344\"/>\n<polygon fill=\"none\" stroke=\"#000000\" points=\"9.5,-302 9.5,-344 62.5,-344 62.5,-302 9.5,-302\"/>\n<text text-anchor=\"start\" x=\"23.5\" y=\"-326\" font-family=\"Linux libertine\" font-size=\"10.00\" fill=\"#000000\">ReLU</text>\n<text text-anchor=\"start\" x=\"14.5\" y=\"-315\" font-family=\"Linux libertine\" font-size=\"10.00\" fill=\"#000000\">depth:2</text>\n<polygon fill=\"none\" stroke=\"#000000\" points=\"62.5,-323 62.5,-344 121.5,-344 121.5,-323 62.5,-323\"/>\n<text text-anchor=\"start\" x=\"73.5\" y=\"-331\" font-family=\"Linux libertine\" font-size=\"10.00\" fill=\"#000000\">input:</text>\n<polygon fill=\"none\" stroke=\"#000000\" points=\"121.5,-323 121.5,-344 180.5,-344 180.5,-323 121.5,-323\"/>\n<text text-anchor=\"start\" x=\"126.5\" y=\"-331\" font-family=\"Linux libertine\" font-size=\"10.00\" fill=\"#000000\">(1, 32) </text>\n<polygon fill=\"none\" stroke=\"#000000\" points=\"62.5,-302 62.5,-323 121.5,-323 121.5,-302 62.5,-302\"/>\n<text text-anchor=\"start\" x=\"67.5\" y=\"-310\" font-family=\"Linux libertine\" font-size=\"10.00\" fill=\"#000000\">output: </text>\n<polygon fill=\"none\" stroke=\"#000000\" points=\"121.5,-302 121.5,-323 180.5,-323 180.5,-302 121.5,-302\"/>\n<text text-anchor=\"start\" x=\"126.5\" y=\"-310\" font-family=\"Linux libertine\" font-size=\"10.00\" fill=\"#000000\">(1, 32) </text>\n</g>\n<!-- 7&#45;&gt;8 -->\n<g id=\"edge8\" class=\"edge\">\n<title>7&#45;&gt;8</title>\n<path fill=\"none\" stroke=\"#000000\" d=\"M94.5,-379.6862C94.5,-371.7975 94.5,-362.684 94.5,-354.1029\"/>\n<polygon fill=\"#000000\" stroke=\"#000000\" points=\"98.0001,-354.018 94.5,-344.018 91.0001,-354.018 98.0001,-354.018\"/>\n</g>\n<!-- 9 -->\n<g id=\"node10\" class=\"node\">\n<title>9</title>\n<polygon fill=\"#c1ffc1\" stroke=\"transparent\" points=\"180,-266 9,-266 9,-224 180,-224 180,-266\"/>\n<polygon fill=\"none\" stroke=\"#000000\" points=\"9.5,-224 9.5,-266 62.5,-266 62.5,-224 9.5,-224\"/>\n<text text-anchor=\"start\" x=\"14.5\" y=\"-248\" font-family=\"Linux libertine\" font-size=\"10.00\" fill=\"#000000\">Dropout</text>\n<text text-anchor=\"start\" x=\"14.5\" y=\"-237\" font-family=\"Linux libertine\" font-size=\"10.00\" fill=\"#000000\">depth:2</text>\n<polygon fill=\"none\" stroke=\"#000000\" points=\"62.5,-245 62.5,-266 121.5,-266 121.5,-245 62.5,-245\"/>\n<text text-anchor=\"start\" x=\"73.5\" y=\"-253\" font-family=\"Linux libertine\" font-size=\"10.00\" fill=\"#000000\">input:</text>\n<polygon fill=\"none\" stroke=\"#000000\" points=\"121.5,-245 121.5,-266 180.5,-266 180.5,-245 121.5,-245\"/>\n<text text-anchor=\"start\" x=\"126.5\" y=\"-253\" font-family=\"Linux libertine\" font-size=\"10.00\" fill=\"#000000\">(1, 32) </text>\n<polygon fill=\"none\" stroke=\"#000000\" points=\"62.5,-224 62.5,-245 121.5,-245 121.5,-224 62.5,-224\"/>\n<text text-anchor=\"start\" x=\"67.5\" y=\"-232\" font-family=\"Linux libertine\" font-size=\"10.00\" fill=\"#000000\">output: </text>\n<polygon fill=\"none\" stroke=\"#000000\" points=\"121.5,-224 121.5,-245 180.5,-245 180.5,-224 121.5,-224\"/>\n<text text-anchor=\"start\" x=\"126.5\" y=\"-232\" font-family=\"Linux libertine\" font-size=\"10.00\" fill=\"#000000\">(1, 32) </text>\n</g>\n<!-- 8&#45;&gt;9 -->\n<g id=\"edge9\" class=\"edge\">\n<title>8&#45;&gt;9</title>\n<path fill=\"none\" stroke=\"#000000\" d=\"M94.5,-301.6862C94.5,-293.7975 94.5,-284.684 94.5,-276.1029\"/>\n<polygon fill=\"#000000\" stroke=\"#000000\" points=\"98.0001,-276.018 94.5,-266.018 91.0001,-276.018 98.0001,-276.018\"/>\n</g>\n<!-- 10 -->\n<g id=\"node11\" class=\"node\">\n<title>10</title>\n<polygon fill=\"#c1ffc1\" stroke=\"transparent\" points=\"180,-188 9,-188 9,-146 180,-146 180,-188\"/>\n<polygon fill=\"none\" stroke=\"#000000\" points=\"9.5,-146 9.5,-188 62.5,-188 62.5,-146 9.5,-146\"/>\n<text text-anchor=\"start\" x=\"17.5\" y=\"-170\" font-family=\"Linux libertine\" font-size=\"10.00\" fill=\"#000000\">Linear</text>\n<text text-anchor=\"start\" x=\"14.5\" y=\"-159\" font-family=\"Linux libertine\" font-size=\"10.00\" fill=\"#000000\">depth:2</text>\n<polygon fill=\"none\" stroke=\"#000000\" points=\"62.5,-167 62.5,-188 121.5,-188 121.5,-167 62.5,-167\"/>\n<text text-anchor=\"start\" x=\"73.5\" y=\"-175\" font-family=\"Linux libertine\" font-size=\"10.00\" fill=\"#000000\">input:</text>\n<polygon fill=\"none\" stroke=\"#000000\" points=\"121.5,-167 121.5,-188 180.5,-188 180.5,-167 121.5,-167\"/>\n<text text-anchor=\"start\" x=\"126.5\" y=\"-175\" font-family=\"Linux libertine\" font-size=\"10.00\" fill=\"#000000\">(1, 32) </text>\n<polygon fill=\"none\" stroke=\"#000000\" points=\"62.5,-146 62.5,-167 121.5,-167 121.5,-146 62.5,-146\"/>\n<text text-anchor=\"start\" x=\"67.5\" y=\"-154\" font-family=\"Linux libertine\" font-size=\"10.00\" fill=\"#000000\">output: </text>\n<polygon fill=\"none\" stroke=\"#000000\" points=\"121.5,-146 121.5,-167 180.5,-167 180.5,-146 121.5,-146\"/>\n<text text-anchor=\"start\" x=\"129.5\" y=\"-154\" font-family=\"Linux libertine\" font-size=\"10.00\" fill=\"#000000\">(1, 4) </text>\n</g>\n<!-- 9&#45;&gt;10 -->\n<g id=\"edge10\" class=\"edge\">\n<title>9&#45;&gt;10</title>\n<path fill=\"none\" stroke=\"#000000\" d=\"M94.5,-223.6862C94.5,-215.7975 94.5,-206.684 94.5,-198.1029\"/>\n<polygon fill=\"#000000\" stroke=\"#000000\" points=\"98.0001,-198.018 94.5,-188.018 91.0001,-198.018 98.0001,-198.018\"/>\n</g>\n<!-- 11 -->\n<g id=\"node12\" class=\"node\">\n<title>11</title>\n<polygon fill=\"#c1ffc1\" stroke=\"transparent\" points=\"177,-110 12,-110 12,-68 177,-68 177,-110\"/>\n<polygon fill=\"none\" stroke=\"#000000\" points=\"12.5,-68 12.5,-110 65.5,-110 65.5,-68 12.5,-68\"/>\n<text text-anchor=\"start\" x=\"17.5\" y=\"-92\" font-family=\"Linux libertine\" font-size=\"10.00\" fill=\"#000000\">Sigmoid</text>\n<text text-anchor=\"start\" x=\"17.5\" y=\"-81\" font-family=\"Linux libertine\" font-size=\"10.00\" fill=\"#000000\">depth:2</text>\n<polygon fill=\"none\" stroke=\"#000000\" points=\"65.5,-89 65.5,-110 124.5,-110 124.5,-89 65.5,-89\"/>\n<text text-anchor=\"start\" x=\"76.5\" y=\"-97\" font-family=\"Linux libertine\" font-size=\"10.00\" fill=\"#000000\">input:</text>\n<polygon fill=\"none\" stroke=\"#000000\" points=\"124.5,-89 124.5,-110 177.5,-110 177.5,-89 124.5,-89\"/>\n<text text-anchor=\"start\" x=\"129.5\" y=\"-97\" font-family=\"Linux libertine\" font-size=\"10.00\" fill=\"#000000\">(1, 4) </text>\n<polygon fill=\"none\" stroke=\"#000000\" points=\"65.5,-68 65.5,-89 124.5,-89 124.5,-68 65.5,-68\"/>\n<text text-anchor=\"start\" x=\"70.5\" y=\"-76\" font-family=\"Linux libertine\" font-size=\"10.00\" fill=\"#000000\">output: </text>\n<polygon fill=\"none\" stroke=\"#000000\" points=\"124.5,-68 124.5,-89 177.5,-89 177.5,-68 124.5,-68\"/>\n<text text-anchor=\"start\" x=\"129.5\" y=\"-76\" font-family=\"Linux libertine\" font-size=\"10.00\" fill=\"#000000\">(1, 4) </text>\n</g>\n<!-- 10&#45;&gt;11 -->\n<g id=\"edge11\" class=\"edge\">\n<title>10&#45;&gt;11</title>\n<path fill=\"none\" stroke=\"#000000\" d=\"M94.5,-145.6862C94.5,-137.7975 94.5,-128.684 94.5,-120.1029\"/>\n<polygon fill=\"#000000\" stroke=\"#000000\" points=\"98.0001,-120.018 94.5,-110.018 91.0001,-120.018 98.0001,-120.018\"/>\n</g>\n<!-- 12 -->\n<g id=\"node13\" class=\"node\">\n<title>12</title>\n<polygon fill=\"#ffffe0\" stroke=\"transparent\" points=\"162.5,-32 26.5,-32 26.5,0 162.5,0 162.5,-32\"/>\n<polygon fill=\"none\" stroke=\"#000000\" points=\"26.5,0 26.5,-32 115.5,-32 115.5,0 26.5,0\"/>\n<text text-anchor=\"start\" x=\"31.5\" y=\"-19\" font-family=\"Linux libertine\" font-size=\"10.00\" fill=\"#000000\">output&#45;tensor</text>\n<text text-anchor=\"start\" x=\"49.5\" y=\"-8\" font-family=\"Linux libertine\" font-size=\"10.00\" fill=\"#000000\">depth:0</text>\n<polygon fill=\"none\" stroke=\"#000000\" points=\"115.5,0 115.5,-32 162.5,-32 162.5,0 115.5,0\"/>\n<text text-anchor=\"start\" x=\"120.5\" y=\"-13.5\" font-family=\"Linux libertine\" font-size=\"10.00\" fill=\"#000000\">(1, 4)</text>\n</g>\n<!-- 11&#45;&gt;12 -->\n<g id=\"edge12\" class=\"edge\">\n<title>11&#45;&gt;12</title>\n<path fill=\"none\" stroke=\"#000000\" d=\"M94.5,-67.8854C94.5,-59.9505 94.5,-50.8282 94.5,-42.4674\"/>\n<polygon fill=\"#000000\" stroke=\"#000000\" points=\"98.0001,-42.4309 94.5,-32.431 91.0001,-42.431 98.0001,-42.4309\"/>\n</g>\n</g>\n</svg>\n"
          },
          "metadata": {},
          "execution_count": 14
        }
      ]
    },
    {
      "cell_type": "code",
      "source": [
        "criterion = nn.MSELoss()\n",
        "# criterion = nn.BCELoss()\n",
        "params_to_update = model.parameters()\n",
        "optimizer = optim.Adam(params_to_update, lr=0.0001)\n",
        "num_epochs = 10\n",
        "BATCH_SIZE = 32\n",
        "\n",
        "\n",
        "from torch.autograd import Variable\n",
        "X_tensor_train = Variable(torch.from_numpy(X_train)).float()\n",
        "y_tensor_train = Variable(torch.from_numpy(train_box)).float()\n",
        "\n",
        "Tr_tensor = TensorDataset(X_tensor_train, y_tensor_train)\n",
        "Tr_dataloader =  DataLoader(Tr_tensor, batch_size=BATCH_SIZE)\n",
        "\n",
        "for epoch in range(num_epochs):\n",
        "    for inputs, labels in Tr_dataloader:\n",
        "        inputs = inputs.to(device)\n",
        "        labels = labels.to(device)\n",
        "        output = model(inputs)\n",
        "\n",
        "        loss = criterion(output, labels)\n",
        "\n",
        "        # Backpropagation based on the loss\n",
        "        optimizer.zero_grad()\n",
        "        loss.backward()\n",
        "        optimizer.step()\n",
        "\n",
        "    if epoch%10 == 0:\n",
        "        print('Epoch {}: Loss {}'.format(epoch, loss))"
      ],
      "metadata": {
        "id": "rhmoQDwfIHrO",
        "colab": {
          "base_uri": "https://localhost:8080/"
        },
        "outputId": "6545f0e3-c52c-40dd-fcd8-5a55db9931d6"
      },
      "execution_count": null,
      "outputs": [
        {
          "output_type": "stream",
          "name": "stdout",
          "text": [
            "Epoch 0: Loss 0.001901133800856769\n"
          ]
        }
      ]
    },
    {
      "cell_type": "code",
      "source": [],
      "metadata": {
        "id": "QMyWqgWJfSJl"
      },
      "execution_count": null,
      "outputs": []
    },
    {
      "cell_type": "code",
      "source": [
        "import matplotlib\n",
        "\n",
        "i_num = np.random.randint(0,len(X_test))\n",
        "\n",
        "imgs = X_test[i_num]\n",
        "test_X = imgs.reshape((1,100*100))\n",
        "test_X = Variable(torch.from_numpy(np.array(test_X))).float()\n",
        "\n",
        "pred_y = model(test_X).detach().numpy()\n",
        "\n",
        "pred_bboxes = pred_y * 100\n",
        "\n",
        "pred_bboxes = pred_bboxes.reshape(len(pred_bboxes), 1, -1)\n",
        "\n",
        "plt.figure(figsize=(5,5))\n",
        "plt.imshow(test_X.reshape((100,100)), cmap='Greys', interpolation='none', origin='lower', extent=[0, 100, 0, 100])\n",
        "for pred_bbox in pred_bboxes[0]:\n",
        "    plt.gca().add_patch(matplotlib.patches.Rectangle((pred_bbox[0], pred_bbox[1]), pred_bbox[2]-pred_bbox[0], pred_bbox[3]-pred_bbox[1], ec='r', fc='none'))\n",
        "plt.show()\n",
        "\n",
        "print(y_test[i_num])"
      ],
      "metadata": {
        "id": "7efR1y2y5Pjr",
        "colab": {
          "base_uri": "https://localhost:8080/",
          "height": 341
        },
        "outputId": "6296ded7-c7f7-400d-fe8d-2d078849b3dd"
      },
      "execution_count": null,
      "outputs": [
        {
          "output_type": "display_data",
          "data": {
            "text/plain": [
              "<Figure size 360x360 with 1 Axes>"
            ],
            "image/png": "[encoded data removed]"
          },
          "metadata": {
            "needs_background": "light"
          }
        },
        {
          "output_type": "stream",
          "name": "stdout",
          "text": [
            "5\n"
          ]
        }
      ]
    },
    {
      "cell_type": "markdown",
      "source": [
        "#Object detection and image classification for MNIST dataset"
      ],
      "metadata": {
        "id": "KHBQZCHKPa6H"
      }
    },
    {
      "cell_type": "code",
      "source": [
        "class ObjectDetector(nn.Module):\n",
        "    def __init__(self,**kwargs):\n",
        "        super(ObjectDetector,self).__init__(**kwargs)\n",
        "        self.net = nn.Sequential(\n",
        "            nn.Linear(10000, 128),\n",
        "            nn.ReLU(),\n",
        "            nn.Dropout(0.2),\n",
        "            nn.Linear(128, 64),\n",
        "            nn.ReLU(),\n",
        "            nn.Dropout(0.2),\n",
        "            nn.Linear(64, 32),\n",
        "            nn.ReLU(),\n",
        "            nn.Dropout(0.2),\n",
        "        )\n",
        "        self.box = nn.Sequential(\n",
        "            nn.Linear(32, OUT_SIZE),\n",
        "            nn.Sigmoid(),\n",
        "        )\n",
        "        self.classifier = nn.Sequential(\n",
        "            nn.Linear(32, 10),\n",
        "            nn.Sigmoid(),\n",
        "            #nn.Softmax(dim=1)\n",
        "        )\n",
        "\n",
        "    def forward(self, x):\n",
        "        x = self.net(x)\n",
        "        return self.box(x), self.classifier(x)\n",
        "\n",
        "# Move model to target device\n",
        "model = ObjectDetector().to(device)\n",
        "\n",
        "summary(model, input_size=(FINAL_IMAGE_WIDTH*FINAL_IMAGE_WIDTH,))\n",
        "draw_graph(model, input_size=(1,FINAL_IMAGE_WIDTH*FINAL_IMAGE_WIDTH)).visual_graph"
      ],
      "metadata": {
        "id": "0WS8X9NSPmjK",
        "colab": {
          "base_uri": "https://localhost:8080/",
          "height": 1000
        },
        "outputId": "ae8598fe-b09b-447a-bc6a-b4a9bfd83150"
      },
      "execution_count": null,
      "outputs": [
        {
          "output_type": "stream",
          "name": "stdout",
          "text": [
            "----------------------------------------------------------------\n",
            "        Layer (type)               Output Shape         Param #\n",
            "================================================================\n",
            "            Linear-1                  [-1, 128]       1,280,128\n",
            "              ReLU-2                  [-1, 128]               0\n",
            "           Dropout-3                  [-1, 128]               0\n",
            "            Linear-4                   [-1, 64]           8,256\n",
            "              ReLU-5                   [-1, 64]               0\n",
            "           Dropout-6                   [-1, 64]               0\n",
            "            Linear-7                   [-1, 32]           2,080\n",
            "              ReLU-8                   [-1, 32]               0\n",
            "           Dropout-9                   [-1, 32]               0\n",
            "           Linear-10                    [-1, 4]             132\n",
            "          Sigmoid-11                    [-1, 4]               0\n",
            "           Linear-12                   [-1, 10]             330\n",
            "          Sigmoid-13                   [-1, 10]               0\n",
            "================================================================\n",
            "Total params: 1,290,926\n",
            "Trainable params: 1,290,926\n",
            "Non-trainable params: 0\n",
            "----------------------------------------------------------------\n",
            "Input size (MB): 0.04\n",
            "Forward/backward pass size (MB): 0.01\n",
            "Params size (MB): 4.92\n",
            "Estimated Total Size (MB): 4.97\n",
            "----------------------------------------------------------------\n"
          ]
        },
        {
          "output_type": "execute_result",
          "data": {
            "text/plain": [
              "<graphviz.dot.Digraph at 0x7f84db16ffa0>"
            ],
            "image/svg+xml": "<?xml version=\"1.0\" encoding=\"UTF-8\" standalone=\"no\"?>\n<!DOCTYPE svg PUBLIC \"-//W3C//DTD SVG 1.1//EN\"\n \"http://www.w3.org/Graphics/SVG/1.1/DTD/svg11.dtd\">\n<!-- Generated by graphviz version 2.40.1 (20161225.0304)\n -->\n<!-- Title: model Pages: 1 -->\n<svg width=\"329pt\" height=\"864pt\"\n viewBox=\"0.00 0.00 329.14 864.00\" xmlns=\"http://www.w3.org/2000/svg\" xmlns:xlink=\"http://www.w3.org/1999/xlink\">\n<g id=\"graph0\" class=\"graph\" transform=\"scale(.8944 .8944) rotate(0) translate(4 962)\">\n<title>model</title>\n<polygon fill=\"#ffffff\" stroke=\"transparent\" points=\"-4,4 -4,-962 364,-962 364,4 -4,4\"/>\n<!-- 0 -->\n<g id=\"node1\" class=\"node\">\n<title>0</title>\n<polygon fill=\"#ffffe0\" stroke=\"transparent\" points=\"256.5,-958 102.5,-958 102.5,-926 256.5,-926 256.5,-958\"/>\n<polygon fill=\"none\" stroke=\"#000000\" points=\"102.5,-926 102.5,-958 185.5,-958 185.5,-926 102.5,-926\"/>\n<text text-anchor=\"start\" x=\"107.5\" y=\"-945\" font-family=\"Linux libertine\" font-size=\"10.00\" fill=\"#000000\">input&#45;tensor</text>\n<text text-anchor=\"start\" x=\"122.5\" y=\"-934\" font-family=\"Linux libertine\" font-size=\"10.00\" fill=\"#000000\">depth:0</text>\n<polygon fill=\"none\" stroke=\"#000000\" points=\"185.5,-926 185.5,-958 256.5,-958 256.5,-926 185.5,-926\"/>\n<text text-anchor=\"start\" x=\"190.5\" y=\"-939.5\" font-family=\"Linux libertine\" font-size=\"10.00\" fill=\"#000000\">(1, 10000)</text>\n</g>\n<!-- 1 -->\n<g id=\"node2\" class=\"node\">\n<title>1</title>\n<polygon fill=\"#c1ffc1\" stroke=\"transparent\" points=\"274,-890 85,-890 85,-848 274,-848 274,-890\"/>\n<polygon fill=\"none\" stroke=\"#000000\" points=\"85.5,-848 85.5,-890 138.5,-890 138.5,-848 85.5,-848\"/>\n<text text-anchor=\"start\" x=\"93.5\" y=\"-872\" font-family=\"Linux libertine\" font-size=\"10.00\" fill=\"#000000\">Linear</text>\n<text text-anchor=\"start\" x=\"90.5\" y=\"-861\" font-family=\"Linux libertine\" font-size=\"10.00\" fill=\"#000000\">depth:2</text>\n<polygon fill=\"none\" stroke=\"#000000\" points=\"138.5,-869 138.5,-890 197.5,-890 197.5,-869 138.5,-869\"/>\n<text text-anchor=\"start\" x=\"149.5\" y=\"-877\" font-family=\"Linux libertine\" font-size=\"10.00\" fill=\"#000000\">input:</text>\n<polygon fill=\"none\" stroke=\"#000000\" points=\"197.5,-869 197.5,-890 274.5,-890 274.5,-869 197.5,-869\"/>\n<text text-anchor=\"start\" x=\"202.5\" y=\"-877\" font-family=\"Linux libertine\" font-size=\"10.00\" fill=\"#000000\">(1, 10000) </text>\n<polygon fill=\"none\" stroke=\"#000000\" points=\"138.5,-848 138.5,-869 197.5,-869 197.5,-848 138.5,-848\"/>\n<text text-anchor=\"start\" x=\"143.5\" y=\"-856\" font-family=\"Linux libertine\" font-size=\"10.00\" fill=\"#000000\">output: </text>\n<polygon fill=\"none\" stroke=\"#000000\" points=\"197.5,-848 197.5,-869 274.5,-869 274.5,-848 197.5,-848\"/>\n<text text-anchor=\"start\" x=\"208.5\" y=\"-856\" font-family=\"Linux libertine\" font-size=\"10.00\" fill=\"#000000\">(1, 128) </text>\n</g>\n<!-- 0&#45;&gt;1 -->\n<g id=\"edge1\" class=\"edge\">\n<title>0&#45;&gt;1</title>\n<path fill=\"none\" stroke=\"#000000\" d=\"M179.5,-925.7989C179.5,-918.2512 179.5,-909.0055 179.5,-900.1832\"/>\n<polygon fill=\"#000000\" stroke=\"#000000\" points=\"183.0001,-900.1483 179.5,-890.1483 176.0001,-900.1484 183.0001,-900.1483\"/>\n</g>\n<!-- 2 -->\n<g id=\"node3\" class=\"node\">\n<title>2</title>\n<polygon fill=\"#c1ffc1\" stroke=\"transparent\" points=\"268,-812 91,-812 91,-770 268,-770 268,-812\"/>\n<polygon fill=\"none\" stroke=\"#000000\" points=\"91.5,-770 91.5,-812 144.5,-812 144.5,-770 91.5,-770\"/>\n<text text-anchor=\"start\" x=\"105.5\" y=\"-794\" font-family=\"Linux libertine\" font-size=\"10.00\" fill=\"#000000\">ReLU</text>\n<text text-anchor=\"start\" x=\"96.5\" y=\"-783\" font-family=\"Linux libertine\" font-size=\"10.00\" fill=\"#000000\">depth:2</text>\n<polygon fill=\"none\" stroke=\"#000000\" points=\"144.5,-791 144.5,-812 203.5,-812 203.5,-791 144.5,-791\"/>\n<text text-anchor=\"start\" x=\"155.5\" y=\"-799\" font-family=\"Linux libertine\" font-size=\"10.00\" fill=\"#000000\">input:</text>\n<polygon fill=\"none\" stroke=\"#000000\" points=\"203.5,-791 203.5,-812 268.5,-812 268.5,-791 203.5,-791\"/>\n<text text-anchor=\"start\" x=\"208.5\" y=\"-799\" font-family=\"Linux libertine\" font-size=\"10.00\" fill=\"#000000\">(1, 128) </text>\n<polygon fill=\"none\" stroke=\"#000000\" points=\"144.5,-770 144.5,-791 203.5,-791 203.5,-770 144.5,-770\"/>\n<text text-anchor=\"start\" x=\"149.5\" y=\"-778\" font-family=\"Linux libertine\" font-size=\"10.00\" fill=\"#000000\">output: </text>\n<polygon fill=\"none\" stroke=\"#000000\" points=\"203.5,-770 203.5,-791 268.5,-791 268.5,-770 203.5,-770\"/>\n<text text-anchor=\"start\" x=\"208.5\" y=\"-778\" font-family=\"Linux libertine\" font-size=\"10.00\" fill=\"#000000\">(1, 128) </text>\n</g>\n<!-- 1&#45;&gt;2 -->\n<g id=\"edge2\" class=\"edge\">\n<title>1&#45;&gt;2</title>\n<path fill=\"none\" stroke=\"#000000\" d=\"M179.5,-847.6862C179.5,-839.7975 179.5,-830.684 179.5,-822.1029\"/>\n<polygon fill=\"#000000\" stroke=\"#000000\" points=\"183.0001,-822.018 179.5,-812.018 176.0001,-822.018 183.0001,-822.018\"/>\n</g>\n<!-- 3 -->\n<g id=\"node4\" class=\"node\">\n<title>3</title>\n<polygon fill=\"#c1ffc1\" stroke=\"transparent\" points=\"268,-734 91,-734 91,-692 268,-692 268,-734\"/>\n<polygon fill=\"none\" stroke=\"#000000\" points=\"91.5,-692 91.5,-734 144.5,-734 144.5,-692 91.5,-692\"/>\n<text text-anchor=\"start\" x=\"96.5\" y=\"-716\" font-family=\"Linux libertine\" font-size=\"10.00\" fill=\"#000000\">Dropout</text>\n<text text-anchor=\"start\" x=\"96.5\" y=\"-705\" font-family=\"Linux libertine\" font-size=\"10.00\" fill=\"#000000\">depth:2</text>\n<polygon fill=\"none\" stroke=\"#000000\" points=\"144.5,-713 144.5,-734 203.5,-734 203.5,-713 144.5,-713\"/>\n<text text-anchor=\"start\" x=\"155.5\" y=\"-721\" font-family=\"Linux libertine\" font-size=\"10.00\" fill=\"#000000\">input:</text>\n<polygon fill=\"none\" stroke=\"#000000\" points=\"203.5,-713 203.5,-734 268.5,-734 268.5,-713 203.5,-713\"/>\n<text text-anchor=\"start\" x=\"208.5\" y=\"-721\" font-family=\"Linux libertine\" font-size=\"10.00\" fill=\"#000000\">(1, 128) </text>\n<polygon fill=\"none\" stroke=\"#000000\" points=\"144.5,-692 144.5,-713 203.5,-713 203.5,-692 144.5,-692\"/>\n<text text-anchor=\"start\" x=\"149.5\" y=\"-700\" font-family=\"Linux libertine\" font-size=\"10.00\" fill=\"#000000\">output: </text>\n<polygon fill=\"none\" stroke=\"#000000\" points=\"203.5,-692 203.5,-713 268.5,-713 268.5,-692 203.5,-692\"/>\n<text text-anchor=\"start\" x=\"208.5\" y=\"-700\" font-family=\"Linux libertine\" font-size=\"10.00\" fill=\"#000000\">(1, 128) </text>\n</g>\n<!-- 2&#45;&gt;3 -->\n<g id=\"edge3\" class=\"edge\">\n<title>2&#45;&gt;3</title>\n<path fill=\"none\" stroke=\"#000000\" d=\"M179.5,-769.6862C179.5,-761.7975 179.5,-752.684 179.5,-744.1029\"/>\n<polygon fill=\"#000000\" stroke=\"#000000\" points=\"183.0001,-744.018 179.5,-734.018 176.0001,-744.018 183.0001,-744.018\"/>\n</g>\n<!-- 4 -->\n<g id=\"node5\" class=\"node\">\n<title>4</title>\n<polygon fill=\"#c1ffc1\" stroke=\"transparent\" points=\"268,-656 91,-656 91,-614 268,-614 268,-656\"/>\n<polygon fill=\"none\" stroke=\"#000000\" points=\"91.5,-614 91.5,-656 144.5,-656 144.5,-614 91.5,-614\"/>\n<text text-anchor=\"start\" x=\"99.5\" y=\"-638\" font-family=\"Linux libertine\" font-size=\"10.00\" fill=\"#000000\">Linear</text>\n<text text-anchor=\"start\" x=\"96.5\" y=\"-627\" font-family=\"Linux libertine\" font-size=\"10.00\" fill=\"#000000\">depth:2</text>\n<polygon fill=\"none\" stroke=\"#000000\" points=\"144.5,-635 144.5,-656 203.5,-656 203.5,-635 144.5,-635\"/>\n<text text-anchor=\"start\" x=\"155.5\" y=\"-643\" font-family=\"Linux libertine\" font-size=\"10.00\" fill=\"#000000\">input:</text>\n<polygon fill=\"none\" stroke=\"#000000\" points=\"203.5,-635 203.5,-656 268.5,-656 268.5,-635 203.5,-635\"/>\n<text text-anchor=\"start\" x=\"208.5\" y=\"-643\" font-family=\"Linux libertine\" font-size=\"10.00\" fill=\"#000000\">(1, 128) </text>\n<polygon fill=\"none\" stroke=\"#000000\" points=\"144.5,-614 144.5,-635 203.5,-635 203.5,-614 144.5,-614\"/>\n<text text-anchor=\"start\" x=\"149.5\" y=\"-622\" font-family=\"Linux libertine\" font-size=\"10.00\" fill=\"#000000\">output: </text>\n<polygon fill=\"none\" stroke=\"#000000\" points=\"203.5,-614 203.5,-635 268.5,-635 268.5,-614 203.5,-614\"/>\n<text text-anchor=\"start\" x=\"211.5\" y=\"-622\" font-family=\"Linux libertine\" font-size=\"10.00\" fill=\"#000000\">(1, 64) </text>\n</g>\n<!-- 3&#45;&gt;4 -->\n<g id=\"edge4\" class=\"edge\">\n<title>3&#45;&gt;4</title>\n<path fill=\"none\" stroke=\"#000000\" d=\"M179.5,-691.6862C179.5,-683.7975 179.5,-674.684 179.5,-666.1029\"/>\n<polygon fill=\"#000000\" stroke=\"#000000\" points=\"183.0001,-666.018 179.5,-656.018 176.0001,-666.018 183.0001,-666.018\"/>\n</g>\n<!-- 5 -->\n<g id=\"node6\" class=\"node\">\n<title>5</title>\n<polygon fill=\"#c1ffc1\" stroke=\"transparent\" points=\"265,-578 94,-578 94,-536 265,-536 265,-578\"/>\n<polygon fill=\"none\" stroke=\"#000000\" points=\"94.5,-536 94.5,-578 147.5,-578 147.5,-536 94.5,-536\"/>\n<text text-anchor=\"start\" x=\"108.5\" y=\"-560\" font-family=\"Linux libertine\" font-size=\"10.00\" fill=\"#000000\">ReLU</text>\n<text text-anchor=\"start\" x=\"99.5\" y=\"-549\" font-family=\"Linux libertine\" font-size=\"10.00\" fill=\"#000000\">depth:2</text>\n<polygon fill=\"none\" stroke=\"#000000\" points=\"147.5,-557 147.5,-578 206.5,-578 206.5,-557 147.5,-557\"/>\n<text text-anchor=\"start\" x=\"158.5\" y=\"-565\" font-family=\"Linux libertine\" font-size=\"10.00\" fill=\"#000000\">input:</text>\n<polygon fill=\"none\" stroke=\"#000000\" points=\"206.5,-557 206.5,-578 265.5,-578 265.5,-557 206.5,-557\"/>\n<text text-anchor=\"start\" x=\"211.5\" y=\"-565\" font-family=\"Linux libertine\" font-size=\"10.00\" fill=\"#000000\">(1, 64) </text>\n<polygon fill=\"none\" stroke=\"#000000\" points=\"147.5,-536 147.5,-557 206.5,-557 206.5,-536 147.5,-536\"/>\n<text text-anchor=\"start\" x=\"152.5\" y=\"-544\" font-family=\"Linux libertine\" font-size=\"10.00\" fill=\"#000000\">output: </text>\n<polygon fill=\"none\" stroke=\"#000000\" points=\"206.5,-536 206.5,-557 265.5,-557 265.5,-536 206.5,-536\"/>\n<text text-anchor=\"start\" x=\"211.5\" y=\"-544\" font-family=\"Linux libertine\" font-size=\"10.00\" fill=\"#000000\">(1, 64) </text>\n</g>\n<!-- 4&#45;&gt;5 -->\n<g id=\"edge5\" class=\"edge\">\n<title>4&#45;&gt;5</title>\n<path fill=\"none\" stroke=\"#000000\" d=\"M179.5,-613.6862C179.5,-605.7975 179.5,-596.684 179.5,-588.1029\"/>\n<polygon fill=\"#000000\" stroke=\"#000000\" points=\"183.0001,-588.018 179.5,-578.018 176.0001,-588.018 183.0001,-588.018\"/>\n</g>\n<!-- 6 -->\n<g id=\"node7\" class=\"node\">\n<title>6</title>\n<polygon fill=\"#c1ffc1\" stroke=\"transparent\" points=\"265,-500 94,-500 94,-458 265,-458 265,-500\"/>\n<polygon fill=\"none\" stroke=\"#000000\" points=\"94.5,-458 94.5,-500 147.5,-500 147.5,-458 94.5,-458\"/>\n<text text-anchor=\"start\" x=\"99.5\" y=\"-482\" font-family=\"Linux libertine\" font-size=\"10.00\" fill=\"#000000\">Dropout</text>\n<text text-anchor=\"start\" x=\"99.5\" y=\"-471\" font-family=\"Linux libertine\" font-size=\"10.00\" fill=\"#000000\">depth:2</text>\n<polygon fill=\"none\" stroke=\"#000000\" points=\"147.5,-479 147.5,-500 206.5,-500 206.5,-479 147.5,-479\"/>\n<text text-anchor=\"start\" x=\"158.5\" y=\"-487\" font-family=\"Linux libertine\" font-size=\"10.00\" fill=\"#000000\">input:</text>\n<polygon fill=\"none\" stroke=\"#000000\" points=\"206.5,-479 206.5,-500 265.5,-500 265.5,-479 206.5,-479\"/>\n<text text-anchor=\"start\" x=\"211.5\" y=\"-487\" font-family=\"Linux libertine\" font-size=\"10.00\" fill=\"#000000\">(1, 64) </text>\n<polygon fill=\"none\" stroke=\"#000000\" points=\"147.5,-458 147.5,-479 206.5,-479 206.5,-458 147.5,-458\"/>\n<text text-anchor=\"start\" x=\"152.5\" y=\"-466\" font-family=\"Linux libertine\" font-size=\"10.00\" fill=\"#000000\">output: </text>\n<polygon fill=\"none\" stroke=\"#000000\" points=\"206.5,-458 206.5,-479 265.5,-479 265.5,-458 206.5,-458\"/>\n<text text-anchor=\"start\" x=\"211.5\" y=\"-466\" font-family=\"Linux libertine\" font-size=\"10.00\" fill=\"#000000\">(1, 64) </text>\n</g>\n<!-- 5&#45;&gt;6 -->\n<g id=\"edge6\" class=\"edge\">\n<title>5&#45;&gt;6</title>\n<path fill=\"none\" stroke=\"#000000\" d=\"M179.5,-535.6862C179.5,-527.7975 179.5,-518.684 179.5,-510.1029\"/>\n<polygon fill=\"#000000\" stroke=\"#000000\" points=\"183.0001,-510.018 179.5,-500.018 176.0001,-510.018 183.0001,-510.018\"/>\n</g>\n<!-- 7 -->\n<g id=\"node8\" class=\"node\">\n<title>7</title>\n<polygon fill=\"#c1ffc1\" stroke=\"transparent\" points=\"265,-422 94,-422 94,-380 265,-380 265,-422\"/>\n<polygon fill=\"none\" stroke=\"#000000\" points=\"94.5,-380 94.5,-422 147.5,-422 147.5,-380 94.5,-380\"/>\n<text text-anchor=\"start\" x=\"102.5\" y=\"-404\" font-family=\"Linux libertine\" font-size=\"10.00\" fill=\"#000000\">Linear</text>\n<text text-anchor=\"start\" x=\"99.5\" y=\"-393\" font-family=\"Linux libertine\" font-size=\"10.00\" fill=\"#000000\">depth:2</text>\n<polygon fill=\"none\" stroke=\"#000000\" points=\"147.5,-401 147.5,-422 206.5,-422 206.5,-401 147.5,-401\"/>\n<text text-anchor=\"start\" x=\"158.5\" y=\"-409\" font-family=\"Linux libertine\" font-size=\"10.00\" fill=\"#000000\">input:</text>\n<polygon fill=\"none\" stroke=\"#000000\" points=\"206.5,-401 206.5,-422 265.5,-422 265.5,-401 206.5,-401\"/>\n<text text-anchor=\"start\" x=\"211.5\" y=\"-409\" font-family=\"Linux libertine\" font-size=\"10.00\" fill=\"#000000\">(1, 64) </text>\n<polygon fill=\"none\" stroke=\"#000000\" points=\"147.5,-380 147.5,-401 206.5,-401 206.5,-380 147.5,-380\"/>\n<text text-anchor=\"start\" x=\"152.5\" y=\"-388\" font-family=\"Linux libertine\" font-size=\"10.00\" fill=\"#000000\">output: </text>\n<polygon fill=\"none\" stroke=\"#000000\" points=\"206.5,-380 206.5,-401 265.5,-401 265.5,-380 206.5,-380\"/>\n<text text-anchor=\"start\" x=\"211.5\" y=\"-388\" font-family=\"Linux libertine\" font-size=\"10.00\" fill=\"#000000\">(1, 32) </text>\n</g>\n<!-- 6&#45;&gt;7 -->\n<g id=\"edge7\" class=\"edge\">\n<title>6&#45;&gt;7</title>\n<path fill=\"none\" stroke=\"#000000\" d=\"M179.5,-457.6862C179.5,-449.7975 179.5,-440.684 179.5,-432.1029\"/>\n<polygon fill=\"#000000\" stroke=\"#000000\" points=\"183.0001,-432.018 179.5,-422.018 176.0001,-432.018 183.0001,-432.018\"/>\n</g>\n<!-- 8 -->\n<g id=\"node9\" class=\"node\">\n<title>8</title>\n<polygon fill=\"#c1ffc1\" stroke=\"transparent\" points=\"265,-344 94,-344 94,-302 265,-302 265,-344\"/>\n<polygon fill=\"none\" stroke=\"#000000\" points=\"94.5,-302 94.5,-344 147.5,-344 147.5,-302 94.5,-302\"/>\n<text text-anchor=\"start\" x=\"108.5\" y=\"-326\" font-family=\"Linux libertine\" font-size=\"10.00\" fill=\"#000000\">ReLU</text>\n<text text-anchor=\"start\" x=\"99.5\" y=\"-315\" font-family=\"Linux libertine\" font-size=\"10.00\" fill=\"#000000\">depth:2</text>\n<polygon fill=\"none\" stroke=\"#000000\" points=\"147.5,-323 147.5,-344 206.5,-344 206.5,-323 147.5,-323\"/>\n<text text-anchor=\"start\" x=\"158.5\" y=\"-331\" font-family=\"Linux libertine\" font-size=\"10.00\" fill=\"#000000\">input:</text>\n<polygon fill=\"none\" stroke=\"#000000\" points=\"206.5,-323 206.5,-344 265.5,-344 265.5,-323 206.5,-323\"/>\n<text text-anchor=\"start\" x=\"211.5\" y=\"-331\" font-family=\"Linux libertine\" font-size=\"10.00\" fill=\"#000000\">(1, 32) </text>\n<polygon fill=\"none\" stroke=\"#000000\" points=\"147.5,-302 147.5,-323 206.5,-323 206.5,-302 147.5,-302\"/>\n<text text-anchor=\"start\" x=\"152.5\" y=\"-310\" font-family=\"Linux libertine\" font-size=\"10.00\" fill=\"#000000\">output: </text>\n<polygon fill=\"none\" stroke=\"#000000\" points=\"206.5,-302 206.5,-323 265.5,-323 265.5,-302 206.5,-302\"/>\n<text text-anchor=\"start\" x=\"211.5\" y=\"-310\" font-family=\"Linux libertine\" font-size=\"10.00\" fill=\"#000000\">(1, 32) </text>\n</g>\n<!-- 7&#45;&gt;8 -->\n<g id=\"edge8\" class=\"edge\">\n<title>7&#45;&gt;8</title>\n<path fill=\"none\" stroke=\"#000000\" d=\"M179.5,-379.6862C179.5,-371.7975 179.5,-362.684 179.5,-354.1029\"/>\n<polygon fill=\"#000000\" stroke=\"#000000\" points=\"183.0001,-354.018 179.5,-344.018 176.0001,-354.018 183.0001,-354.018\"/>\n</g>\n<!-- 9 -->\n<g id=\"node10\" class=\"node\">\n<title>9</title>\n<polygon fill=\"#c1ffc1\" stroke=\"transparent\" points=\"265,-266 94,-266 94,-224 265,-224 265,-266\"/>\n<polygon fill=\"none\" stroke=\"#000000\" points=\"94.5,-224 94.5,-266 147.5,-266 147.5,-224 94.5,-224\"/>\n<text text-anchor=\"start\" x=\"99.5\" y=\"-248\" font-family=\"Linux libertine\" font-size=\"10.00\" fill=\"#000000\">Dropout</text>\n<text text-anchor=\"start\" x=\"99.5\" y=\"-237\" font-family=\"Linux libertine\" font-size=\"10.00\" fill=\"#000000\">depth:2</text>\n<polygon fill=\"none\" stroke=\"#000000\" points=\"147.5,-245 147.5,-266 206.5,-266 206.5,-245 147.5,-245\"/>\n<text text-anchor=\"start\" x=\"158.5\" y=\"-253\" font-family=\"Linux libertine\" font-size=\"10.00\" fill=\"#000000\">input:</text>\n<polygon fill=\"none\" stroke=\"#000000\" points=\"206.5,-245 206.5,-266 265.5,-266 265.5,-245 206.5,-245\"/>\n<text text-anchor=\"start\" x=\"211.5\" y=\"-253\" font-family=\"Linux libertine\" font-size=\"10.00\" fill=\"#000000\">(1, 32) </text>\n<polygon fill=\"none\" stroke=\"#000000\" points=\"147.5,-224 147.5,-245 206.5,-245 206.5,-224 147.5,-224\"/>\n<text text-anchor=\"start\" x=\"152.5\" y=\"-232\" font-family=\"Linux libertine\" font-size=\"10.00\" fill=\"#000000\">output: </text>\n<polygon fill=\"none\" stroke=\"#000000\" points=\"206.5,-224 206.5,-245 265.5,-245 265.5,-224 206.5,-224\"/>\n<text text-anchor=\"start\" x=\"211.5\" y=\"-232\" font-family=\"Linux libertine\" font-size=\"10.00\" fill=\"#000000\">(1, 32) </text>\n</g>\n<!-- 8&#45;&gt;9 -->\n<g id=\"edge9\" class=\"edge\">\n<title>8&#45;&gt;9</title>\n<path fill=\"none\" stroke=\"#000000\" d=\"M179.5,-301.6862C179.5,-293.7975 179.5,-284.684 179.5,-276.1029\"/>\n<polygon fill=\"#000000\" stroke=\"#000000\" points=\"183.0001,-276.018 179.5,-266.018 176.0001,-276.018 183.0001,-276.018\"/>\n</g>\n<!-- 10 -->\n<g id=\"node11\" class=\"node\">\n<title>10</title>\n<polygon fill=\"#c1ffc1\" stroke=\"transparent\" points=\"171,-188 0,-188 0,-146 171,-146 171,-188\"/>\n<polygon fill=\"none\" stroke=\"#000000\" points=\".5,-146 .5,-188 53.5,-188 53.5,-146 .5,-146\"/>\n<text text-anchor=\"start\" x=\"8.5\" y=\"-170\" font-family=\"Linux libertine\" font-size=\"10.00\" fill=\"#000000\">Linear</text>\n<text text-anchor=\"start\" x=\"5.5\" y=\"-159\" font-family=\"Linux libertine\" font-size=\"10.00\" fill=\"#000000\">depth:2</text>\n<polygon fill=\"none\" stroke=\"#000000\" points=\"53.5,-167 53.5,-188 112.5,-188 112.5,-167 53.5,-167\"/>\n<text text-anchor=\"start\" x=\"64.5\" y=\"-175\" font-family=\"Linux libertine\" font-size=\"10.00\" fill=\"#000000\">input:</text>\n<polygon fill=\"none\" stroke=\"#000000\" points=\"112.5,-167 112.5,-188 171.5,-188 171.5,-167 112.5,-167\"/>\n<text text-anchor=\"start\" x=\"117.5\" y=\"-175\" font-family=\"Linux libertine\" font-size=\"10.00\" fill=\"#000000\">(1, 32) </text>\n<polygon fill=\"none\" stroke=\"#000000\" points=\"53.5,-146 53.5,-167 112.5,-167 112.5,-146 53.5,-146\"/>\n<text text-anchor=\"start\" x=\"58.5\" y=\"-154\" font-family=\"Linux libertine\" font-size=\"10.00\" fill=\"#000000\">output: </text>\n<polygon fill=\"none\" stroke=\"#000000\" points=\"112.5,-146 112.5,-167 171.5,-167 171.5,-146 112.5,-146\"/>\n<text text-anchor=\"start\" x=\"120.5\" y=\"-154\" font-family=\"Linux libertine\" font-size=\"10.00\" fill=\"#000000\">(1, 4) </text>\n</g>\n<!-- 9&#45;&gt;10 -->\n<g id=\"edge10\" class=\"edge\">\n<title>9&#45;&gt;10</title>\n<path fill=\"none\" stroke=\"#000000\" d=\"M153.8141,-223.6862C142.9491,-214.6706 130.1562,-204.0552 118.5965,-194.463\"/>\n<polygon fill=\"#000000\" stroke=\"#000000\" points=\"120.7601,-191.7103 110.8294,-188.018 116.29,-197.0972 120.7601,-191.7103\"/>\n</g>\n<!-- 13 -->\n<g id=\"node14\" class=\"node\">\n<title>13</title>\n<polygon fill=\"#c1ffc1\" stroke=\"transparent\" points=\"360,-188 189,-188 189,-146 360,-146 360,-188\"/>\n<polygon fill=\"none\" stroke=\"#000000\" points=\"189.5,-146 189.5,-188 242.5,-188 242.5,-146 189.5,-146\"/>\n<text text-anchor=\"start\" x=\"197.5\" y=\"-170\" font-family=\"Linux libertine\" font-size=\"10.00\" fill=\"#000000\">Linear</text>\n<text text-anchor=\"start\" x=\"194.5\" y=\"-159\" font-family=\"Linux libertine\" font-size=\"10.00\" fill=\"#000000\">depth:2</text>\n<polygon fill=\"none\" stroke=\"#000000\" points=\"242.5,-167 242.5,-188 301.5,-188 301.5,-167 242.5,-167\"/>\n<text text-anchor=\"start\" x=\"253.5\" y=\"-175\" font-family=\"Linux libertine\" font-size=\"10.00\" fill=\"#000000\">input:</text>\n<polygon fill=\"none\" stroke=\"#000000\" points=\"301.5,-167 301.5,-188 360.5,-188 360.5,-167 301.5,-167\"/>\n<text text-anchor=\"start\" x=\"306.5\" y=\"-175\" font-family=\"Linux libertine\" font-size=\"10.00\" fill=\"#000000\">(1, 32) </text>\n<polygon fill=\"none\" stroke=\"#000000\" points=\"242.5,-146 242.5,-167 301.5,-167 301.5,-146 242.5,-146\"/>\n<text text-anchor=\"start\" x=\"247.5\" y=\"-154\" font-family=\"Linux libertine\" font-size=\"10.00\" fill=\"#000000\">output: </text>\n<polygon fill=\"none\" stroke=\"#000000\" points=\"301.5,-146 301.5,-167 360.5,-167 360.5,-146 301.5,-146\"/>\n<text text-anchor=\"start\" x=\"306.5\" y=\"-154\" font-family=\"Linux libertine\" font-size=\"10.00\" fill=\"#000000\">(1, 10) </text>\n</g>\n<!-- 9&#45;&gt;13 -->\n<g id=\"edge13\" class=\"edge\">\n<title>9&#45;&gt;13</title>\n<path fill=\"none\" stroke=\"#000000\" d=\"M205.4592,-223.6862C216.4397,-214.6706 229.3687,-204.0552 241.0514,-194.463\"/>\n<polygon fill=\"#000000\" stroke=\"#000000\" points=\"243.3934,-197.0688 248.9011,-188.018 238.9514,-191.6587 243.3934,-197.0688\"/>\n</g>\n<!-- 11 -->\n<g id=\"node12\" class=\"node\">\n<title>11</title>\n<polygon fill=\"#c1ffc1\" stroke=\"transparent\" points=\"168,-110 3,-110 3,-68 168,-68 168,-110\"/>\n<polygon fill=\"none\" stroke=\"#000000\" points=\"3.5,-68 3.5,-110 56.5,-110 56.5,-68 3.5,-68\"/>\n<text text-anchor=\"start\" x=\"8.5\" y=\"-92\" font-family=\"Linux libertine\" font-size=\"10.00\" fill=\"#000000\">Sigmoid</text>\n<text text-anchor=\"start\" x=\"8.5\" y=\"-81\" font-family=\"Linux libertine\" font-size=\"10.00\" fill=\"#000000\">depth:2</text>\n<polygon fill=\"none\" stroke=\"#000000\" points=\"56.5,-89 56.5,-110 115.5,-110 115.5,-89 56.5,-89\"/>\n<text text-anchor=\"start\" x=\"67.5\" y=\"-97\" font-family=\"Linux libertine\" font-size=\"10.00\" fill=\"#000000\">input:</text>\n<polygon fill=\"none\" stroke=\"#000000\" points=\"115.5,-89 115.5,-110 168.5,-110 168.5,-89 115.5,-89\"/>\n<text text-anchor=\"start\" x=\"120.5\" y=\"-97\" font-family=\"Linux libertine\" font-size=\"10.00\" fill=\"#000000\">(1, 4) </text>\n<polygon fill=\"none\" stroke=\"#000000\" points=\"56.5,-68 56.5,-89 115.5,-89 115.5,-68 56.5,-68\"/>\n<text text-anchor=\"start\" x=\"61.5\" y=\"-76\" font-family=\"Linux libertine\" font-size=\"10.00\" fill=\"#000000\">output: </text>\n<polygon fill=\"none\" stroke=\"#000000\" points=\"115.5,-68 115.5,-89 168.5,-89 168.5,-68 115.5,-68\"/>\n<text text-anchor=\"start\" x=\"120.5\" y=\"-76\" font-family=\"Linux libertine\" font-size=\"10.00\" fill=\"#000000\">(1, 4) </text>\n</g>\n<!-- 10&#45;&gt;11 -->\n<g id=\"edge11\" class=\"edge\">\n<title>10&#45;&gt;11</title>\n<path fill=\"none\" stroke=\"#000000\" d=\"M85.5,-145.6862C85.5,-137.7975 85.5,-128.684 85.5,-120.1029\"/>\n<polygon fill=\"#000000\" stroke=\"#000000\" points=\"89.0001,-120.018 85.5,-110.018 82.0001,-120.018 89.0001,-120.018\"/>\n</g>\n<!-- 12 -->\n<g id=\"node13\" class=\"node\">\n<title>12</title>\n<polygon fill=\"#ffffe0\" stroke=\"transparent\" points=\"153.5,-32 17.5,-32 17.5,0 153.5,0 153.5,-32\"/>\n<polygon fill=\"none\" stroke=\"#000000\" points=\"17.5,0 17.5,-32 106.5,-32 106.5,0 17.5,0\"/>\n<text text-anchor=\"start\" x=\"22.5\" y=\"-19\" font-family=\"Linux libertine\" font-size=\"10.00\" fill=\"#000000\">output&#45;tensor</text>\n<text text-anchor=\"start\" x=\"40.5\" y=\"-8\" font-family=\"Linux libertine\" font-size=\"10.00\" fill=\"#000000\">depth:0</text>\n<polygon fill=\"none\" stroke=\"#000000\" points=\"106.5,0 106.5,-32 153.5,-32 153.5,0 106.5,0\"/>\n<text text-anchor=\"start\" x=\"111.5\" y=\"-13.5\" font-family=\"Linux libertine\" font-size=\"10.00\" fill=\"#000000\">(1, 4)</text>\n</g>\n<!-- 11&#45;&gt;12 -->\n<g id=\"edge12\" class=\"edge\">\n<title>11&#45;&gt;12</title>\n<path fill=\"none\" stroke=\"#000000\" d=\"M85.5,-67.8854C85.5,-59.9505 85.5,-50.8282 85.5,-42.4674\"/>\n<polygon fill=\"#000000\" stroke=\"#000000\" points=\"89.0001,-42.4309 85.5,-32.431 82.0001,-42.431 89.0001,-42.4309\"/>\n</g>\n<!-- 14 -->\n<g id=\"node15\" class=\"node\">\n<title>14</title>\n<polygon fill=\"#c1ffc1\" stroke=\"transparent\" points=\"360,-110 189,-110 189,-68 360,-68 360,-110\"/>\n<polygon fill=\"none\" stroke=\"#000000\" points=\"189.5,-68 189.5,-110 242.5,-110 242.5,-68 189.5,-68\"/>\n<text text-anchor=\"start\" x=\"194.5\" y=\"-92\" font-family=\"Linux libertine\" font-size=\"10.00\" fill=\"#000000\">Sigmoid</text>\n<text text-anchor=\"start\" x=\"194.5\" y=\"-81\" font-family=\"Linux libertine\" font-size=\"10.00\" fill=\"#000000\">depth:2</text>\n<polygon fill=\"none\" stroke=\"#000000\" points=\"242.5,-89 242.5,-110 301.5,-110 301.5,-89 242.5,-89\"/>\n<text text-anchor=\"start\" x=\"253.5\" y=\"-97\" font-family=\"Linux libertine\" font-size=\"10.00\" fill=\"#000000\">input:</text>\n<polygon fill=\"none\" stroke=\"#000000\" points=\"301.5,-89 301.5,-110 360.5,-110 360.5,-89 301.5,-89\"/>\n<text text-anchor=\"start\" x=\"306.5\" y=\"-97\" font-family=\"Linux libertine\" font-size=\"10.00\" fill=\"#000000\">(1, 10) </text>\n<polygon fill=\"none\" stroke=\"#000000\" points=\"242.5,-68 242.5,-89 301.5,-89 301.5,-68 242.5,-68\"/>\n<text text-anchor=\"start\" x=\"247.5\" y=\"-76\" font-family=\"Linux libertine\" font-size=\"10.00\" fill=\"#000000\">output: </text>\n<polygon fill=\"none\" stroke=\"#000000\" points=\"301.5,-68 301.5,-89 360.5,-89 360.5,-68 301.5,-68\"/>\n<text text-anchor=\"start\" x=\"306.5\" y=\"-76\" font-family=\"Linux libertine\" font-size=\"10.00\" fill=\"#000000\">(1, 10) </text>\n</g>\n<!-- 13&#45;&gt;14 -->\n<g id=\"edge14\" class=\"edge\">\n<title>13&#45;&gt;14</title>\n<path fill=\"none\" stroke=\"#000000\" d=\"M274.5,-145.6862C274.5,-137.7975 274.5,-128.684 274.5,-120.1029\"/>\n<polygon fill=\"#000000\" stroke=\"#000000\" points=\"278.0001,-120.018 274.5,-110.018 271.0001,-120.018 278.0001,-120.018\"/>\n</g>\n<!-- 15 -->\n<g id=\"node16\" class=\"node\">\n<title>15</title>\n<polygon fill=\"#ffffe0\" stroke=\"transparent\" points=\"345.5,-32 203.5,-32 203.5,0 345.5,0 345.5,-32\"/>\n<polygon fill=\"none\" stroke=\"#000000\" points=\"203.5,0 203.5,-32 292.5,-32 292.5,0 203.5,0\"/>\n<text text-anchor=\"start\" x=\"208.5\" y=\"-19\" font-family=\"Linux libertine\" font-size=\"10.00\" fill=\"#000000\">output&#45;tensor</text>\n<text text-anchor=\"start\" x=\"226.5\" y=\"-8\" font-family=\"Linux libertine\" font-size=\"10.00\" fill=\"#000000\">depth:0</text>\n<polygon fill=\"none\" stroke=\"#000000\" points=\"292.5,0 292.5,-32 345.5,-32 345.5,0 292.5,0\"/>\n<text text-anchor=\"start\" x=\"297.5\" y=\"-13.5\" font-family=\"Linux libertine\" font-size=\"10.00\" fill=\"#000000\">(1, 10)</text>\n</g>\n<!-- 14&#45;&gt;15 -->\n<g id=\"edge15\" class=\"edge\">\n<title>14&#45;&gt;15</title>\n<path fill=\"none\" stroke=\"#000000\" d=\"M274.5,-67.8854C274.5,-59.9505 274.5,-50.8282 274.5,-42.4674\"/>\n<polygon fill=\"#000000\" stroke=\"#000000\" points=\"278.0001,-42.4309 274.5,-32.431 271.0001,-42.431 278.0001,-42.4309\"/>\n</g>\n</g>\n</svg>\n"
          },
          "metadata": {},
          "execution_count": 34
        }
      ]
    },
    {
      "cell_type": "code",
      "source": [
        "#loss function\n",
        "criterion1 = nn.MSELoss() #for feature extraction\n",
        "criterion2 = nn.CrossEntropyLoss() #for claasification\n",
        "\n",
        "params_to_update = model.parameters()\n",
        "optimizer = optim.Adam(params_to_update, lr=0.0001)\n",
        "num_epochs = 20\n",
        "BATCH_SIZE = 32\n",
        "\n",
        "\n",
        "from torch.autograd import Variable\n",
        "X_tensor_train = Variable(torch.from_numpy(X_train)).float()\n",
        "y_bbox_train = Variable(torch.from_numpy(train_box)).float() #bbox (bounding box)\n",
        "y_label_train = Variable(torch.from_numpy(y_train)).long() #output\n",
        "\n",
        "Tr_tensor = TensorDataset(X_tensor_train, y_bbox_train, y_label_train)\n",
        "Tr_dataloader =  DataLoader(Tr_tensor, batch_size=BATCH_SIZE)\n",
        "\n",
        "for epoch in range(num_epochs):\n",
        "    for inputs, bbox, labels in Tr_dataloader:\n",
        "        inputs = inputs.to(device)\n",
        "        y_bbox = bbox.to(device)\n",
        "        y_labels = labels.to(device)\n",
        "\n",
        "        bbox, label = model(inputs)\n",
        "\n",
        "        loss = criterion1(bbox, y_bbox) + criterion2(label, y_labels)\n",
        "\n",
        "        # Backpropagation based on the loss\n",
        "        optimizer.zero_grad()\n",
        "        loss.backward()\n",
        "        optimizer.step()\n",
        "\n",
        "    if epoch%10 == 0:\n",
        "        print('Epoch {}: Loss {}'.format(epoch, loss))"
      ],
      "metadata": {
        "colab": {
          "base_uri": "https://localhost:8080/"
        },
        "id": "DRqN-YchfUZF",
        "outputId": "1f3bc356-b594-4c5a-97fa-f9fd3989054b"
      },
      "execution_count": null,
      "outputs": [
        {
          "output_type": "stream",
          "name": "stdout",
          "text": [
            "Epoch 0: Loss 2.2756619453430176\n",
            "Epoch 10: Loss 1.823778510093689\n"
          ]
        }
      ]
    },
    {
      "cell_type": "code",
      "source": [
        "import matplotlib\n",
        "\n",
        "i_num = np.random.randint(0,len(X_test))\n",
        "\n",
        "imgs = X_test[i_num]\n",
        "test_X = imgs.reshape((1,100*100))\n",
        "test_X = Variable(torch.from_numpy(np.array(test_X))).float()\n",
        "\n",
        "bbox, label = model(test_X)\n",
        "bbox = bbox.detach().numpy()\n",
        "label = label.detach().numpy()\n",
        "\n",
        "pred_bboxes = bbox * 100\n",
        "\n",
        "pred_bboxes = pred_bboxes.reshape(len(pred_bboxes), 1, -1)\n",
        "\n",
        "plt.figure(figsize=(5,5))\n",
        "plt.imshow(test_X.reshape((100,100)), cmap='Greys', interpolation='none', origin='lower', extent=[0, 100, 0, 100])\n",
        "for pred_bbox in pred_bboxes[0]:\n",
        "    plt.gca().add_patch(matplotlib.patches.Rectangle((pred_bbox[0], pred_bbox[1]), pred_bbox[2]-pred_bbox[0], pred_bbox[3]-pred_bbox[1], ec='r', fc='none'))\n",
        "ax = plt.gca()\n",
        "ax.invert_yaxis()\n",
        "plt.show()\n",
        "\n",
        "print(label.argmax())\n"
      ],
      "metadata": {
        "colab": {
          "base_uri": "https://localhost:8080/",
          "height": 341
        },
        "id": "a9jMS40znSq0",
        "outputId": "048836cf-a007-4563-a7c0-1ad0d6fee938"
      },
      "execution_count": null,
      "outputs": [
        {
          "output_type": "display_data",
          "data": {
            "text/plain": [
              "<Figure size 360x360 with 1 Axes>"
            ],
            "image/png": "[encoded data removed]"
          },
          "metadata": {
            "needs_background": "light"
          }
        },
        {
          "output_type": "stream",
          "name": "stdout",
          "text": [
            "1\n"
          ]
        }
      ]
    }
  ]
}