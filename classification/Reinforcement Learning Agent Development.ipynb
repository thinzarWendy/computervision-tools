{
  "nbformat": 4,
  "nbformat_minor": 0,
  "metadata": {
    "colab": {
      "provenance": []
    },
    "kernelspec": {
      "name": "python3",
      "display_name": "Python 3"
    },
    "language_info": {
      "name": "python"
    }
  },
  "cells": [
    {
      "cell_type": "code",
      "execution_count": null,
      "metadata": {
        "id": "AicB5ERs8mbt"
      },
      "outputs": [],
      "source": [
        "import numpy as np\n",
        "import random\n",
        "import sys\n",
        "\n",
        "def randPair(s,e):\n",
        "    return np.random.randint(s,e), np.random.randint(s,e)\n",
        "\n",
        "class BoardPiece:\n",
        "\n",
        "    def __init__(self, name, code, pos):\n",
        "        self.name = name #name of the piece\n",
        "        self.code = code #an ASCII character to display on the board\n",
        "        self.pos = pos #2-tuple e.g. (1,4)\n",
        "\n",
        "class BoardMask:\n",
        "\n",
        "    def __init__(self, name, mask, code):\n",
        "        self.name = name\n",
        "        self.mask = mask\n",
        "        self.code = code\n",
        "\n",
        "    def get_positions(self): #returns tuple of arrays\n",
        "        return np.nonzero(self.mask)\n",
        "\n",
        "def zip_positions2d(positions): #positions is tuple of two arrays\n",
        "    x,y = positions\n",
        "    return list(zip(x,y))\n",
        "\n",
        "class GridBoard:\n",
        "\n",
        "    def __init__(self, size=4):\n",
        "        self.size = size #Board dimensions, e.g. 4 x 4\n",
        "        self.components = {} #name : board piece\n",
        "        self.masks = {}\n",
        "\n",
        "    def addPiece(self, name, code, pos=(0,0)):\n",
        "        newPiece = BoardPiece(name, code, pos)\n",
        "        self.components[name] = newPiece\n",
        "\n",
        "    #basically a set of boundary elements\n",
        "    def addMask(self, name, mask, code):\n",
        "        #mask is a 2D-numpy array with 1s where the boundary elements are\n",
        "        newMask = BoardMask(name, mask, code)\n",
        "        self.masks[name] = newMask\n",
        "\n",
        "    def movePiece(self, name, pos):\n",
        "        move = True\n",
        "        for _, mask in self.masks.items():\n",
        "            if pos in zip_positions2d(mask.get_positions()):\n",
        "                move = False\n",
        "        if move:\n",
        "            self.components[name].pos = pos\n",
        "\n",
        "    def delPiece(self, name):\n",
        "        del self.components['name']\n",
        "\n",
        "    def render(self):\n",
        "        dtype = '<U2'\n",
        "        displ_board = np.zeros((self.size, self.size), dtype=dtype)\n",
        "        displ_board[:] = ' '\n",
        "\n",
        "        for name, piece in self.components.items():\n",
        "            displ_board[piece.pos] = piece.code\n",
        "\n",
        "        for name, mask in self.masks.items():\n",
        "            displ_board[mask.get_positions()] = mask.code\n",
        "\n",
        "        return displ_board\n",
        "\n",
        "    def render_np(self):\n",
        "        num_pieces = len(self.components) + len(self.masks)\n",
        "        displ_board = np.zeros((num_pieces, self.size, self.size), dtype=np.uint8)\n",
        "        layer = 0\n",
        "        for name, piece in self.components.items():\n",
        "            pos = (layer,) + piece.pos\n",
        "            displ_board[pos] = 1\n",
        "            layer += 1\n",
        "\n",
        "        for name, mask in self.masks.items():\n",
        "            x,y = self.masks['boundary'].get_positions()\n",
        "            z = np.repeat(layer,len(x))\n",
        "            a = (z,x,y)\n",
        "            displ_board[a] = 1\n",
        "            layer += 1\n",
        "        return displ_board\n",
        "\n",
        "def addTuple(a,b):\n",
        "    return tuple([sum(x) for x in zip(a,b)])"
      ]
    },
    {
      "cell_type": "code",
      "source": [
        "class Gridworld:\n",
        "\n",
        "    def __init__(self, size=4, mode='static'):\n",
        "        if size >= 4:\n",
        "            self.board = GridBoard(size=size)\n",
        "        else:\n",
        "            print(\"Minimum board size is 4. Initialized to size 4.\")\n",
        "            self.board = GridBoard(size=4)\n",
        "\n",
        "        #Add pieces, positions will be updated later\n",
        "        self.board.addPiece('Player','P',(0,0))\n",
        "        self.board.addPiece('Goal','+',(1,0))\n",
        "        self.board.addPiece('Pit','-',(2,0))\n",
        "        self.board.addPiece('Wall','W',(3,0))\n",
        "\n",
        "        if mode == 'static':\n",
        "            self.initGridStatic()\n",
        "        elif mode == 'player':\n",
        "            self.initGridPlayer()\n",
        "        else:\n",
        "            self.initGridRand()\n",
        "\n",
        "    #Initialize stationary grid, all items are placed deterministically\n",
        "    def initGridStatic(self):\n",
        "        #Setup static pieces\n",
        "        self.board.components['Player'].pos = (0,3) #Row, Column\n",
        "        self.board.components['Goal'].pos = (0,0)\n",
        "        self.board.components['Pit'].pos = (0,1)\n",
        "        self.board.components['Wall'].pos = (1,1)\n",
        "\n",
        "    #Check if board is initialized appropriately (no overlapping pieces)\n",
        "    #also remove impossible-to-win boards\n",
        "    def validateBoard(self):\n",
        "        valid = True\n",
        "\n",
        "        player = self.board.components['Player']\n",
        "        goal = self.board.components['Goal']\n",
        "        wall = self.board.components['Wall']\n",
        "        pit = self.board.components['Pit']\n",
        "\n",
        "        all_positions = [piece for name,piece in self.board.components.items()]\n",
        "        all_positions = [player.pos, goal.pos, wall.pos, pit.pos]\n",
        "        if len(all_positions) > len(set(all_positions)):\n",
        "            return False\n",
        "\n",
        "        corners = [(0,0),(0,self.board.size), (self.board.size,0), (self.board.size,self.board.size)]\n",
        "        #if player is in corner, can it move? if goal is in corner, is it blocked?\n",
        "        if player.pos in corners or goal.pos in corners:\n",
        "            val_move_pl = [self.validateMove('Player', addpos) for addpos in [(0,1),(1,0),(-1,0),(0,-1)]]\n",
        "            val_move_go = [self.validateMove('Goal', addpos) for addpos in [(0,1),(1,0),(-1,0),(0,-1)]]\n",
        "            if 0 not in val_move_pl or 0 not in val_move_go:\n",
        "                #print(self.display())\n",
        "                #print(\"Invalid board. Re-initializing...\")\n",
        "                valid = False\n",
        "\n",
        "        return valid\n",
        "\n",
        "    #Initialize player in random location, but keep wall, goal and pit stationary\n",
        "    def initGridPlayer(self):\n",
        "        #height x width x depth (number of pieces)\n",
        "        self.initGridStatic()\n",
        "        #place player\n",
        "        self.board.components['Player'].pos = randPair(0,self.board.size)\n",
        "\n",
        "        if (not self.validateBoard()):\n",
        "            #print('Invalid grid. Rebuilding..')\n",
        "            self.initGridPlayer()\n",
        "\n",
        "    #Initialize grid so that goal, pit, wall, player are all randomly placed\n",
        "    def initGridRand(self):\n",
        "        #height x width x depth (number of pieces)\n",
        "        self.board.components['Player'].pos = randPair(0,self.board.size)\n",
        "        self.board.components['Goal'].pos = randPair(0,self.board.size)\n",
        "        self.board.components['Pit'].pos = randPair(0,self.board.size)\n",
        "        self.board.components['Wall'].pos = randPair(0,self.board.size)\n",
        "\n",
        "        if (not self.validateBoard()):\n",
        "            #print('Invalid grid. Rebuilding..')\n",
        "            self.initGridRand()\n",
        "\n",
        "    def validateMove(self, piece, addpos=(0,0)):\n",
        "        outcome = 0 #0 is valid, 1 invalid, 2 lost game\n",
        "        pit = self.board.components['Pit'].pos\n",
        "        wall = self.board.components['Wall'].pos\n",
        "        new_pos = addTuple(self.board.components[piece].pos, addpos)\n",
        "        if new_pos == wall:\n",
        "            outcome = 1 #block move, player can't move to wall\n",
        "        elif max(new_pos) > (self.board.size-1):    #if outside bounds of board\n",
        "            outcome = 1\n",
        "        elif min(new_pos) < 0: #if outside bounds\n",
        "            outcome = 1\n",
        "        elif new_pos == pit:\n",
        "            outcome = 2\n",
        "\n",
        "        return outcome\n",
        "\n",
        "    def makeMove(self, action):\n",
        "        #need to determine what object (if any) is in the new grid spot the player is moving to\n",
        "        #actions in {u,d,l,r}\n",
        "        def checkMove(addpos):\n",
        "            if self.validateMove('Player', addpos) in [0,2]:\n",
        "                new_pos = addTuple(self.board.components['Player'].pos, addpos)\n",
        "                self.board.movePiece('Player', new_pos)\n",
        "\n",
        "        if action == 'u': #up\n",
        "            checkMove((-1,0))\n",
        "        elif action == 'd': #down\n",
        "            checkMove((1,0))\n",
        "        elif action == 'l': #left\n",
        "            checkMove((0,-1))\n",
        "        elif action == 'r': #right\n",
        "            checkMove((0,1))\n",
        "        else:\n",
        "            pass\n",
        "\n",
        "    def reward(self):\n",
        "        if (self.board.components['Player'].pos == self.board.components['Pit'].pos):\n",
        "            return -10\n",
        "        elif (self.board.components['Player'].pos == self.board.components['Goal'].pos):\n",
        "            return 10\n",
        "        else:\n",
        "            return -1\n",
        "\n",
        "    def display(self):\n",
        "        return self.board.render()"
      ],
      "metadata": {
        "id": "yLd7mlh-_f-r"
      },
      "execution_count": null,
      "outputs": []
    },
    {
      "cell_type": "code",
      "source": [
        "game = Gridworld(size=4, mode='static')\n",
        "game.display()"
      ],
      "metadata": {
        "id": "-8xdh3TW_wcz",
        "colab": {
          "base_uri": "https://localhost:8080/"
        },
        "outputId": "dbd54a14-3e1c-49b0-f74b-fce618b44523"
      },
      "execution_count": null,
      "outputs": [
        {
          "output_type": "execute_result",
          "data": {
            "text/plain": [
              "array([['+', '-', ' ', 'P'],\n",
              "       [' ', 'W', ' ', ' '],\n",
              "       [' ', ' ', ' ', ' '],\n",
              "       [' ', ' ', ' ', ' ']], dtype='<U2')"
            ]
          },
          "metadata": {},
          "execution_count": 3
        }
      ]
    },
    {
      "cell_type": "code",
      "source": [
        "game.makeMove('d')\n",
        "game.display()"
      ],
      "metadata": {
        "id": "TzaDJU-w1EaC",
        "colab": {
          "base_uri": "https://localhost:8080/"
        },
        "outputId": "68c271d0-4ac4-481a-a5d2-6117fd84eb00"
      },
      "execution_count": null,
      "outputs": [
        {
          "output_type": "execute_result",
          "data": {
            "text/plain": [
              "array([['+', '-', ' ', ' '],\n",
              "       [' ', 'W', ' ', 'P'],\n",
              "       [' ', ' ', ' ', ' '],\n",
              "       [' ', ' ', ' ', ' ']], dtype='<U2')"
            ]
          },
          "metadata": {},
          "execution_count": 4
        }
      ]
    },
    {
      "cell_type": "code",
      "source": [
        "import torch\n",
        "import torch.nn as nn\n",
        "import torch.nn.functional as F\n",
        "\n",
        "class QNet(nn.Module):\n",
        "    def __init__(self, l1=64, l2=150, l3=100, l4=4):\n",
        "        super().__init__()\n",
        "        self.linear1 = nn.Linear(l1, l2)\n",
        "        self.linear2 = nn.Linear(l2, l3)\n",
        "        self.linear3 = nn.Linear(l3, l4)\n",
        "\n",
        "    def forward(self, x):\n",
        "        out = F.relu(self.linear1(x))\n",
        "        out = F.relu(self.linear2(out))\n",
        "        out = self.linear3(out)\n",
        "        return out"
      ],
      "metadata": {
        "id": "iI0Od_GysDp1"
      },
      "execution_count": null,
      "outputs": []
    },
    {
      "cell_type": "code",
      "source": [
        "import numpy as np\n",
        "import random\n",
        "from matplotlib import pylab as plt\n",
        "\n",
        "model = QNet(64, 150, 100, 4)\n",
        "loss_fn = torch.nn.MSELoss()\n",
        "learning_rate = 1e-3\n",
        "optimizer = torch.optim.Adam(model.parameters(), lr=learning_rate)\n",
        "\n",
        "action_set = {\n",
        "    0: 'u',\n",
        "    1: 'd',\n",
        "    2: 'l',\n",
        "    3: 'r',\n",
        "}"
      ],
      "metadata": {
        "id": "Zuv6_BpqsDsg"
      },
      "execution_count": null,
      "outputs": []
    },
    {
      "cell_type": "code",
      "source": [
        "from tqdm import tqdm\n",
        "\n",
        "gamma = 0.9\n",
        "epsilon = 1.0\n",
        "\n",
        "epochs = 1000\n",
        "losses = []\n",
        "for i in tqdm(range(epochs)):\n",
        "    game = Gridworld(size=4, mode='static')\n",
        "    state_ = game.board.render_np().reshape(1, 64) + np.random.rand(1, 64) / 10.0\n",
        "    state1 = torch.from_numpy(state_).float()\n",
        "    status = 1\n",
        "    while (status == 1):\n",
        "        qval = model(state1)\n",
        "        qval_ = qval.data.numpy()\n",
        "        if (random.random() < epsilon):\n",
        "            action_ = np.random.randint(0, 4)\n",
        "        else:\n",
        "            action_ = np.argmax(qval_)\n",
        "\n",
        "        action = action_set[action_]\n",
        "        game.makeMove(action)\n",
        "        state2_ = game.board.render_np().reshape(1, 64) + np.random.rand(1, 64) / 10.0\n",
        "        state2 = torch.from_numpy(state2_).float()\n",
        "        reward = game.reward()\n",
        "        with torch.no_grad():\n",
        "            newQ = model(state2.reshape(1, 64))\n",
        "        maxQ = torch.max(newQ)\n",
        "        if reward == -1:\n",
        "            Y = reward + (gamma * maxQ)\n",
        "        else:\n",
        "            Y = reward\n",
        "\n",
        "        Y = torch.Tensor([Y]).detach()\n",
        "        X = qval.squeeze()[action_]\n",
        "        loss = loss_fn(X, Y)\n",
        "        optimizer.zero_grad()\n",
        "        loss.backward()\n",
        "        losses.append(loss.item())\n",
        "        optimizer.step()\n",
        "        state1 = state2\n",
        "        if reward != -1:\n",
        "            status = 0\n",
        "\n",
        "    if epsilon > 0.1:\n",
        "        epsilon -= (1 / epochs)"
      ],
      "metadata": {
        "id": "UsNq5cCFsDvK",
        "colab": {
          "base_uri": "https://localhost:8080/"
        },
        "outputId": "5d7eb778-35d9-47ba-e4b4-879a20f8e9d8"
      },
      "execution_count": null,
      "outputs": [
        {
          "output_type": "stream",
          "name": "stderr",
          "text": [
            "\r  0%|          | 0/1000 [00:00<?, ?it/s]/usr/local/lib/python3.8/dist-packages/torch/nn/modules/loss.py:536: UserWarning: Using a target size (torch.Size([1])) that is different to the input size (torch.Size([])). This will likely lead to incorrect results due to broadcasting. Please ensure they have the same size.\n",
            "  return F.mse_loss(input, target, reduction=self.reduction)\n",
            "100%|██████████| 1000/1000 [00:45<00:00, 22.03it/s]\n"
          ]
        }
      ]
    },
    {
      "cell_type": "code",
      "source": [
        "plt.figure(figsize=(10,7))\n",
        "plt.plot(losses)\n",
        "plt.xlabel(\"Epochs\",fontsize=22)\n",
        "plt.ylabel(\"Loss\",fontsize=22)"
      ],
      "metadata": {
        "id": "gXMn4zDWs-Ux",
        "colab": {
          "base_uri": "https://localhost:8080/",
          "height": 470
        },
        "outputId": "be42869e-a1f4-4ead-9a80-c2cb567cac1a"
      },
      "execution_count": null,
      "outputs": [
        {
          "output_type": "execute_result",
          "data": {
            "text/plain": [
              "Text(0, 0.5, 'Loss')"
            ]
          },
          "metadata": {},
          "execution_count": 8
        },
        {
          "output_type": "display_data",
          "data": {
            "text/plain": [
              "<Figure size 720x504 with 1 Axes>"
            ],
            "image/png": "[encoded data removed]"
          },
          "metadata": {
            "needs_background": "light"
          }
        }
      ]
    },
    {
      "cell_type": "code",
      "source": [
        "def test_model(model, mode='static', display=True):\n",
        "    i = 0\n",
        "    test_game = Gridworld(mode=mode)\n",
        "    state_ = test_game.board.render_np().reshape(1,64) + np.random.rand(1,64)/10.0\n",
        "    state = torch.from_numpy(state_).float()\n",
        "    if display:\n",
        "        print(\"Initial State:\")\n",
        "        print(test_game.display())\n",
        "    status = 1\n",
        "    while(status == 1): #A\n",
        "        qval = model(state)\n",
        "        qval_ = qval.data.numpy()\n",
        "        action_ = np.argmax(qval_) #B\n",
        "        action = action_set[action_]\n",
        "        if display:\n",
        "            print('Move #: %s; Taking action: %s' % (i, action))\n",
        "        test_game.makeMove(action)\n",
        "        state_ = test_game.board.render_np().reshape(1,64) + np.random.rand(1,64)/10.0\n",
        "        state = torch.from_numpy(state_).float()\n",
        "        if display:\n",
        "            print(test_game.display())\n",
        "        reward = test_game.reward()\n",
        "        if reward != -1:\n",
        "            if reward > 0:\n",
        "                status = 2\n",
        "                if display:\n",
        "                    print(\"Game won! Reward: %s\" % (reward,))\n",
        "            else:\n",
        "                status = 0\n",
        "                if display:\n",
        "                    print(\"Game LOST. Reward: %s\" % (reward,))\n",
        "        i += 1\n",
        "        if (i > 20):\n",
        "            if display:\n",
        "                print(\"Game lost; too many moves.\")\n",
        "            break\n",
        "\n",
        "    win = True if status == 2 else False\n",
        "    return win"
      ],
      "metadata": {
        "id": "YER7dvaNtFNK"
      },
      "execution_count": null,
      "outputs": []
    },
    {
      "cell_type": "code",
      "source": [
        "test_model(model, 'static')"
      ],
      "metadata": {
        "id": "aBX2cX1EtIMi",
        "colab": {
          "base_uri": "https://localhost:8080/"
        },
        "outputId": "e647e029-420b-4b15-8884-62f5bfc7df48"
      },
      "execution_count": null,
      "outputs": [
        {
          "output_type": "stream",
          "name": "stdout",
          "text": [
            "Initial State:\n",
            "[['+' '-' ' ' 'P']\n",
            " [' ' 'W' ' ' ' ']\n",
            " [' ' ' ' ' ' ' ']\n",
            " [' ' ' ' ' ' ' ']]\n",
            "Move #: 0; Taking action: l\n",
            "[['+' '-' 'P' ' ']\n",
            " [' ' 'W' ' ' ' ']\n",
            " [' ' ' ' ' ' ' ']\n",
            " [' ' ' ' ' ' ' ']]\n",
            "Move #: 1; Taking action: d\n",
            "[['+' '-' ' ' ' ']\n",
            " [' ' 'W' 'P' ' ']\n",
            " [' ' ' ' ' ' ' ']\n",
            " [' ' ' ' ' ' ' ']]\n",
            "Move #: 2; Taking action: d\n",
            "[['+' '-' ' ' ' ']\n",
            " [' ' 'W' ' ' ' ']\n",
            " [' ' ' ' 'P' ' ']\n",
            " [' ' ' ' ' ' ' ']]\n",
            "Move #: 3; Taking action: l\n",
            "[['+' '-' ' ' ' ']\n",
            " [' ' 'W' ' ' ' ']\n",
            " [' ' 'P' ' ' ' ']\n",
            " [' ' ' ' ' ' ' ']]\n",
            "Move #: 4; Taking action: l\n",
            "[['+' '-' ' ' ' ']\n",
            " [' ' 'W' ' ' ' ']\n",
            " ['P' ' ' ' ' ' ']\n",
            " [' ' ' ' ' ' ' ']]\n",
            "Move #: 5; Taking action: u\n",
            "[['+' '-' ' ' ' ']\n",
            " ['P' 'W' ' ' ' ']\n",
            " [' ' ' ' ' ' ' ']\n",
            " [' ' ' ' ' ' ' ']]\n",
            "Move #: 6; Taking action: u\n",
            "[['+' '-' ' ' ' ']\n",
            " [' ' 'W' ' ' ' ']\n",
            " [' ' ' ' ' ' ' ']\n",
            " [' ' ' ' ' ' ' ']]\n",
            "Game won! Reward: 10\n"
          ]
        },
        {
          "output_type": "execute_result",
          "data": {
            "text/plain": [
              "True"
            ]
          },
          "metadata": {},
          "execution_count": 10
        }
      ]
    },
    {
      "cell_type": "code",
      "source": [
        "max_games = 1000\n",
        "wins = 0\n",
        "for i in range(max_games):\n",
        "    win = test_model(model, mode='static', display=False)\n",
        "    if win:\n",
        "        wins += 1\n",
        "win_perc = float(wins) / float(max_games)\n",
        "print(\"Games played: {0}, # of wins: {1}\".format(max_games,wins))\n",
        "print(\"Win percentage: {}%\".format(100.0*win_perc))"
      ],
      "metadata": {
        "id": "63di_khZ5sjH",
        "colab": {
          "base_uri": "https://localhost:8080/"
        },
        "outputId": "26e07242-1996-4319-d9f7-1a0802d37471"
      },
      "execution_count": null,
      "outputs": [
        {
          "output_type": "stream",
          "name": "stdout",
          "text": [
            "Games played: 1000, # of wins: 1000\n",
            "Win percentage: 100.0%\n"
          ]
        }
      ]
    },
    {
      "cell_type": "code",
      "source": [
        "test_model(model, 'random')"
      ],
      "metadata": {
        "id": "kFJMPrc5tNy3",
        "colab": {
          "base_uri": "https://localhost:8080/"
        },
        "outputId": "5c6eb33d-e53b-4ade-ff0b-25648cbd17cf"
      },
      "execution_count": null,
      "outputs": [
        {
          "output_type": "stream",
          "name": "stdout",
          "text": [
            "Initial State:\n",
            "[[' ' ' ' ' ' ' ']\n",
            " [' ' ' ' 'W' '-']\n",
            " [' ' ' ' 'P' ' ']\n",
            " [' ' ' ' '+' ' ']]\n",
            "Move #: 0; Taking action: l\n",
            "[[' ' ' ' ' ' ' ']\n",
            " [' ' ' ' 'W' '-']\n",
            " [' ' 'P' ' ' ' ']\n",
            " [' ' ' ' '+' ' ']]\n",
            "Move #: 1; Taking action: l\n",
            "[[' ' ' ' ' ' ' ']\n",
            " [' ' ' ' 'W' '-']\n",
            " ['P' ' ' ' ' ' ']\n",
            " [' ' ' ' '+' ' ']]\n",
            "Move #: 2; Taking action: u\n",
            "[[' ' ' ' ' ' ' ']\n",
            " ['P' ' ' 'W' '-']\n",
            " [' ' ' ' ' ' ' ']\n",
            " [' ' ' ' '+' ' ']]\n",
            "Move #: 3; Taking action: u\n",
            "[['P' ' ' ' ' ' ']\n",
            " [' ' ' ' 'W' '-']\n",
            " [' ' ' ' ' ' ' ']\n",
            " [' ' ' ' '+' ' ']]\n",
            "Move #: 4; Taking action: l\n",
            "[['P' ' ' ' ' ' ']\n",
            " [' ' ' ' 'W' '-']\n",
            " [' ' ' ' ' ' ' ']\n",
            " [' ' ' ' '+' ' ']]\n",
            "Move #: 5; Taking action: l\n",
            "[['P' ' ' ' ' ' ']\n",
            " [' ' ' ' 'W' '-']\n",
            " [' ' ' ' ' ' ' ']\n",
            " [' ' ' ' '+' ' ']]\n",
            "Move #: 6; Taking action: l\n",
            "[['P' ' ' ' ' ' ']\n",
            " [' ' ' ' 'W' '-']\n",
            " [' ' ' ' ' ' ' ']\n",
            " [' ' ' ' '+' ' ']]\n",
            "Move #: 7; Taking action: l\n",
            "[['P' ' ' ' ' ' ']\n",
            " [' ' ' ' 'W' '-']\n",
            " [' ' ' ' ' ' ' ']\n",
            " [' ' ' ' '+' ' ']]\n",
            "Move #: 8; Taking action: l\n",
            "[['P' ' ' ' ' ' ']\n",
            " [' ' ' ' 'W' '-']\n",
            " [' ' ' ' ' ' ' ']\n",
            " [' ' ' ' '+' ' ']]\n",
            "Move #: 9; Taking action: l\n",
            "[['P' ' ' ' ' ' ']\n",
            " [' ' ' ' 'W' '-']\n",
            " [' ' ' ' ' ' ' ']\n",
            " [' ' ' ' '+' ' ']]\n",
            "Move #: 10; Taking action: l\n",
            "[['P' ' ' ' ' ' ']\n",
            " [' ' ' ' 'W' '-']\n",
            " [' ' ' ' ' ' ' ']\n",
            " [' ' ' ' '+' ' ']]\n",
            "Move #: 11; Taking action: l\n",
            "[['P' ' ' ' ' ' ']\n",
            " [' ' ' ' 'W' '-']\n",
            " [' ' ' ' ' ' ' ']\n",
            " [' ' ' ' '+' ' ']]\n",
            "Move #: 12; Taking action: l\n",
            "[['P' ' ' ' ' ' ']\n",
            " [' ' ' ' 'W' '-']\n",
            " [' ' ' ' ' ' ' ']\n",
            " [' ' ' ' '+' ' ']]\n",
            "Move #: 13; Taking action: l\n",
            "[['P' ' ' ' ' ' ']\n",
            " [' ' ' ' 'W' '-']\n",
            " [' ' ' ' ' ' ' ']\n",
            " [' ' ' ' '+' ' ']]\n",
            "Move #: 14; Taking action: l\n",
            "[['P' ' ' ' ' ' ']\n",
            " [' ' ' ' 'W' '-']\n",
            " [' ' ' ' ' ' ' ']\n",
            " [' ' ' ' '+' ' ']]\n",
            "Move #: 15; Taking action: l\n",
            "[['P' ' ' ' ' ' ']\n",
            " [' ' ' ' 'W' '-']\n",
            " [' ' ' ' ' ' ' ']\n",
            " [' ' ' ' '+' ' ']]\n",
            "Move #: 16; Taking action: l\n",
            "[['P' ' ' ' ' ' ']\n",
            " [' ' ' ' 'W' '-']\n",
            " [' ' ' ' ' ' ' ']\n",
            " [' ' ' ' '+' ' ']]\n",
            "Move #: 17; Taking action: l\n",
            "[['P' ' ' ' ' ' ']\n",
            " [' ' ' ' 'W' '-']\n",
            " [' ' ' ' ' ' ' ']\n",
            " [' ' ' ' '+' ' ']]\n",
            "Move #: 18; Taking action: d\n",
            "[[' ' ' ' ' ' ' ']\n",
            " ['P' ' ' 'W' '-']\n",
            " [' ' ' ' ' ' ' ']\n",
            " [' ' ' ' '+' ' ']]\n",
            "Move #: 19; Taking action: u\n",
            "[['P' ' ' ' ' ' ']\n",
            " [' ' ' ' 'W' '-']\n",
            " [' ' ' ' ' ' ' ']\n",
            " [' ' ' ' '+' ' ']]\n",
            "Move #: 20; Taking action: l\n",
            "[['P' ' ' ' ' ' ']\n",
            " [' ' ' ' 'W' '-']\n",
            " [' ' ' ' ' ' ' ']\n",
            " [' ' ' ' '+' ' ']]\n",
            "Game lost; too many moves.\n"
          ]
        },
        {
          "output_type": "execute_result",
          "data": {
            "text/plain": [
              "False"
            ]
          },
          "metadata": {},
          "execution_count": 12
        }
      ]
    },
    {
      "cell_type": "code",
      "source": [
        "max_games = 1000\n",
        "wins = 0\n",
        "for i in range(max_games):\n",
        "    win = test_model(model, mode='random', display=False)\n",
        "    if win:\n",
        "        wins += 1\n",
        "win_perc = float(wins) / float(max_games)\n",
        "print(\"Games played: {0}, # of wins: {1}\".format(max_games,wins))\n",
        "print(\"Win percentage: {}%\".format(100.0*win_perc))"
      ],
      "metadata": {
        "id": "TW1q98jB4_hk",
        "colab": {
          "base_uri": "https://localhost:8080/"
        },
        "outputId": "32e314a9-1882-44ea-d522-fcfdebada370"
      },
      "execution_count": null,
      "outputs": [
        {
          "output_type": "stream",
          "name": "stdout",
          "text": [
            "Games played: 1000, # of wins: 187\n",
            "Win percentage: 18.7%\n"
          ]
        }
      ]
    },
    {
      "cell_type": "code",
      "source": [
        "gamma = 0.9\n",
        "epsilon = 1.0\n",
        "\n",
        "epochs = 1000\n",
        "losses = []\n",
        "for i in tqdm(range(epochs)):\n",
        "  game = Gridworld(size=4, mode='random')\n",
        "  state_ = game.board.render_np().reshape(1, 64) + np.random.rand(1, 64) / 10.0\n",
        "  state1 = torch.from_numpy(state_).float()\n",
        "  status = 1\n",
        "  while (status == 1):\n",
        "    qval = model(state1)\n",
        "    qval_ = qval.data.numpy()\n",
        "    if (random.random() < epsilon):\n",
        "      action_ = np.random.randint(0, 4)\n",
        "    else:\n",
        "      action_ = np.argmax(qval_)\n",
        "\n",
        "    action = action_set[action_]\n",
        "    game.makeMove(action)\n",
        "    state2_ = game.board.render_np().reshape(1, 64) + np.random.rand(1, 64) / 10.0\n",
        "    state2 = torch.from_numpy(state2_).float()\n",
        "    reward = game.reward()\n",
        "    with torch.no_grad():\n",
        "      newQ = model(state2.reshape(1, 64))\n",
        "    maxQ = torch.max(newQ)\n",
        "    if reward == -1:\n",
        "      Y = reward + (gamma * maxQ)\n",
        "    else:\n",
        "      Y = reward\n",
        "\n",
        "    Y = torch.Tensor([Y]).detach()\n",
        "    X = qval.squeeze()[action_]\n",
        "    loss = loss_fn(X, Y)\n",
        "    optimizer.zero_grad()\n",
        "    loss.backward()\n",
        "    losses.append(loss.item())\n",
        "    optimizer.step()\n",
        "    state1 = state2\n",
        "    if reward != -1:\n",
        "      status = 0\n",
        "\n",
        "  if epsilon > 0.1:\n",
        "    epsilon -= (1 / epochs)\n",
        ""
      ],
      "metadata": {
        "id": "ZZ3azc36tSv3",
        "colab": {
          "base_uri": "https://localhost:8080/"
        },
        "outputId": "9c77abe2-2e6e-47c5-bfeb-3d7ffab5d8bd"
      },
      "execution_count": null,
      "outputs": [
        {
          "output_type": "stream",
          "name": "stderr",
          "text": [
            "100%|██████████| 1000/1000 [00:51<00:00, 19.34it/s]\n"
          ]
        }
      ]
    },
    {
      "cell_type": "code",
      "source": [
        "max_games = 1000\n",
        "wins = 0\n",
        "for i in range(max_games):\n",
        "    win = test_model(model, mode='random', display=False)\n",
        "    if win:\n",
        "        wins += 1\n",
        "win_perc = float(wins) / float(max_games)\n",
        "print(\"Games played: {0}, # of wins: {1}\".format(max_games,wins))\n",
        "print(\"Win percentage: {}%\".format(100.0*win_perc))"
      ],
      "metadata": {
        "id": "ygS1w-hQvHxl",
        "colab": {
          "base_uri": "https://localhost:8080/"
        },
        "outputId": "e5b880cf-c72d-4e2a-f7bb-94e5dc9b81e0"
      },
      "execution_count": null,
      "outputs": [
        {
          "output_type": "stream",
          "name": "stdout",
          "text": [
            "Games played: 1000, # of wins: 417\n",
            "Win percentage: 41.699999999999996%\n"
          ]
        }
      ]
    },
    {
      "cell_type": "code",
      "source": [
        "test_model(model, 'random')"
      ],
      "metadata": {
        "id": "3-WJd7fJyFTi",
        "colab": {
          "base_uri": "https://localhost:8080/"
        },
        "outputId": "b4020f4d-f5ee-4a57-e906-6d564541e026"
      },
      "execution_count": null,
      "outputs": [
        {
          "output_type": "stream",
          "name": "stdout",
          "text": [
            "Initial State:\n",
            "[[' ' ' ' ' ' ' ']\n",
            " [' ' 'W' 'P' ' ']\n",
            " [' ' '+' ' ' '-']\n",
            " [' ' ' ' ' ' ' ']]\n",
            "Move #: 0; Taking action: u\n",
            "[[' ' ' ' 'P' ' ']\n",
            " [' ' 'W' ' ' ' ']\n",
            " [' ' '+' ' ' '-']\n",
            " [' ' ' ' ' ' ' ']]\n",
            "Move #: 1; Taking action: l\n",
            "[[' ' 'P' ' ' ' ']\n",
            " [' ' 'W' ' ' ' ']\n",
            " [' ' '+' ' ' '-']\n",
            " [' ' ' ' ' ' ' ']]\n",
            "Move #: 2; Taking action: u\n",
            "[[' ' 'P' ' ' ' ']\n",
            " [' ' 'W' ' ' ' ']\n",
            " [' ' '+' ' ' '-']\n",
            " [' ' ' ' ' ' ' ']]\n",
            "Move #: 3; Taking action: d\n",
            "[[' ' 'P' ' ' ' ']\n",
            " [' ' 'W' ' ' ' ']\n",
            " [' ' '+' ' ' '-']\n",
            " [' ' ' ' ' ' ' ']]\n",
            "Move #: 4; Taking action: u\n",
            "[[' ' 'P' ' ' ' ']\n",
            " [' ' 'W' ' ' ' ']\n",
            " [' ' '+' ' ' '-']\n",
            " [' ' ' ' ' ' ' ']]\n",
            "Move #: 5; Taking action: u\n",
            "[[' ' 'P' ' ' ' ']\n",
            " [' ' 'W' ' ' ' ']\n",
            " [' ' '+' ' ' '-']\n",
            " [' ' ' ' ' ' ' ']]\n",
            "Move #: 6; Taking action: d\n",
            "[[' ' 'P' ' ' ' ']\n",
            " [' ' 'W' ' ' ' ']\n",
            " [' ' '+' ' ' '-']\n",
            " [' ' ' ' ' ' ' ']]\n",
            "Move #: 7; Taking action: d\n",
            "[[' ' 'P' ' ' ' ']\n",
            " [' ' 'W' ' ' ' ']\n",
            " [' ' '+' ' ' '-']\n",
            " [' ' ' ' ' ' ' ']]\n",
            "Move #: 8; Taking action: d\n",
            "[[' ' 'P' ' ' ' ']\n",
            " [' ' 'W' ' ' ' ']\n",
            " [' ' '+' ' ' '-']\n",
            " [' ' ' ' ' ' ' ']]\n",
            "Move #: 9; Taking action: d\n",
            "[[' ' 'P' ' ' ' ']\n",
            " [' ' 'W' ' ' ' ']\n",
            " [' ' '+' ' ' '-']\n",
            " [' ' ' ' ' ' ' ']]\n",
            "Move #: 10; Taking action: d\n",
            "[[' ' 'P' ' ' ' ']\n",
            " [' ' 'W' ' ' ' ']\n",
            " [' ' '+' ' ' '-']\n",
            " [' ' ' ' ' ' ' ']]\n",
            "Move #: 11; Taking action: d\n",
            "[[' ' 'P' ' ' ' ']\n",
            " [' ' 'W' ' ' ' ']\n",
            " [' ' '+' ' ' '-']\n",
            " [' ' ' ' ' ' ' ']]\n",
            "Move #: 12; Taking action: d\n",
            "[[' ' 'P' ' ' ' ']\n",
            " [' ' 'W' ' ' ' ']\n",
            " [' ' '+' ' ' '-']\n",
            " [' ' ' ' ' ' ' ']]\n",
            "Move #: 13; Taking action: d\n",
            "[[' ' 'P' ' ' ' ']\n",
            " [' ' 'W' ' ' ' ']\n",
            " [' ' '+' ' ' '-']\n",
            " [' ' ' ' ' ' ' ']]\n",
            "Move #: 14; Taking action: d\n",
            "[[' ' 'P' ' ' ' ']\n",
            " [' ' 'W' ' ' ' ']\n",
            " [' ' '+' ' ' '-']\n",
            " [' ' ' ' ' ' ' ']]\n",
            "Move #: 15; Taking action: u\n",
            "[[' ' 'P' ' ' ' ']\n",
            " [' ' 'W' ' ' ' ']\n",
            " [' ' '+' ' ' '-']\n",
            " [' ' ' ' ' ' ' ']]\n",
            "Move #: 16; Taking action: d\n",
            "[[' ' 'P' ' ' ' ']\n",
            " [' ' 'W' ' ' ' ']\n",
            " [' ' '+' ' ' '-']\n",
            " [' ' ' ' ' ' ' ']]\n",
            "Move #: 17; Taking action: d\n",
            "[[' ' 'P' ' ' ' ']\n",
            " [' ' 'W' ' ' ' ']\n",
            " [' ' '+' ' ' '-']\n",
            " [' ' ' ' ' ' ' ']]\n",
            "Move #: 18; Taking action: u\n",
            "[[' ' 'P' ' ' ' ']\n",
            " [' ' 'W' ' ' ' ']\n",
            " [' ' '+' ' ' '-']\n",
            " [' ' ' ' ' ' ' ']]\n",
            "Move #: 19; Taking action: u\n",
            "[[' ' 'P' ' ' ' ']\n",
            " [' ' 'W' ' ' ' ']\n",
            " [' ' '+' ' ' '-']\n",
            " [' ' ' ' ' ' ' ']]\n",
            "Move #: 20; Taking action: d\n",
            "[[' ' 'P' ' ' ' ']\n",
            " [' ' 'W' ' ' ' ']\n",
            " [' ' '+' ' ' '-']\n",
            " [' ' ' ' ' ' ' ']]\n",
            "Game lost; too many moves.\n"
          ]
        },
        {
          "output_type": "execute_result",
          "data": {
            "text/plain": [
              "False"
            ]
          },
          "metadata": {},
          "execution_count": 16
        }
      ]
    },
    {
      "cell_type": "code",
      "source": [
        "game = Gridworld(size=10, mode='random')\n",
        "game.display()"
      ],
      "metadata": {
        "colab": {
          "base_uri": "https://localhost:8080/"
        },
        "id": "sntLOGfS7TUv",
        "outputId": "03397ba7-53ba-4863-ac5e-072c07b1a077"
      },
      "execution_count": null,
      "outputs": [
        {
          "output_type": "execute_result",
          "data": {
            "text/plain": [
              "array([[' ', ' ', ' ', ' ', ' ', ' ', 'P', ' ', ' ', ' '],\n",
              "       [' ', ' ', ' ', 'W', ' ', ' ', ' ', ' ', ' ', ' '],\n",
              "       [' ', ' ', ' ', ' ', ' ', ' ', ' ', ' ', ' ', ' '],\n",
              "       [' ', ' ', ' ', '-', ' ', ' ', ' ', ' ', ' ', ' '],\n",
              "       [' ', ' ', ' ', ' ', ' ', ' ', ' ', ' ', ' ', ' '],\n",
              "       [' ', ' ', ' ', ' ', ' ', ' ', ' ', ' ', ' ', ' '],\n",
              "       [' ', ' ', ' ', ' ', ' ', ' ', ' ', ' ', ' ', ' '],\n",
              "       [' ', ' ', ' ', ' ', ' ', ' ', ' ', ' ', ' ', ' '],\n",
              "       [' ', ' ', ' ', ' ', ' ', ' ', ' ', ' ', ' ', ' '],\n",
              "       [' ', ' ', ' ', ' ', ' ', '+', ' ', ' ', ' ', ' ']], dtype='<U2')"
            ]
          },
          "metadata": {},
          "execution_count": 17
        }
      ]
    },
    {
      "cell_type": "code",
      "source": [
        "game.board.render_np().shape"
      ],
      "metadata": {
        "colab": {
          "base_uri": "https://localhost:8080/"
        },
        "id": "hSaz2XtB8GMn",
        "outputId": "b1d8a612-f014-4805-da05-f6c23c2f0120"
      },
      "execution_count": null,
      "outputs": [
        {
          "output_type": "execute_result",
          "data": {
            "text/plain": [
              "(4, 10, 10)"
            ]
          },
          "metadata": {},
          "execution_count": 19
        }
      ]
    },
    {
      "cell_type": "code",
      "source": [],
      "metadata": {
        "id": "5pT0addsIc4Z"
      },
      "execution_count": null,
      "outputs": []
    },
    {
      "cell_type": "code",
      "source": [
        "import torch\n",
        "import torch.nn as nn\n",
        "import torch.nn.functional as F\n",
        "\n",
        "class QNet(nn.Module):\n",
        "    def __init__(self, l1=400, l2=100, l3=4):\n",
        "        super().__init__()\n",
        "        self.linear1 = nn.Linear(l1, l2)\n",
        "        self.linear2 = nn.Linear(l2, l3)\n",
        "\n",
        "    def forward(self, x):\n",
        "        out = F.relu(self.linear1(x))\n",
        "        out = self.linear2(out)\n",
        "        return out\n",
        "\n",
        "\n"
      ],
      "metadata": {
        "id": "xzPUpa2L-zAs"
      },
      "execution_count": null,
      "outputs": []
    },
    {
      "cell_type": "code",
      "source": [
        "import numpy as np\n",
        "import random\n",
        "from matplotlib import pylab as plt\n",
        "\n",
        "model = QNet(400,100, 4)\n",
        "loss_fn = torch.nn.MSELoss()\n",
        "learning_rate = 1e-3\n",
        "optimizer = torch.optim.Adam(model.parameters(), lr=learning_rate)\n",
        "\n",
        "action_set = {\n",
        "    0: 'u',\n",
        "    1: 'd',\n",
        "    2: 'l',\n",
        "    3: 'r',\n",
        "}"
      ],
      "metadata": {
        "id": "GITpevW18Xk7"
      },
      "execution_count": null,
      "outputs": []
    },
    {
      "cell_type": "code",
      "source": [
        "np.random.rand(1, 64)"
      ],
      "metadata": {
        "colab": {
          "base_uri": "https://localhost:8080/"
        },
        "id": "PTXYPUGeDW-7",
        "outputId": "b6bf51f4-fa5c-42b1-881f-24c5342979ac"
      },
      "execution_count": null,
      "outputs": [
        {
          "output_type": "execute_result",
          "data": {
            "text/plain": [
              "array([[0.13642862, 0.91806042, 0.78569145, 0.58493707, 0.15669141,\n",
              "        0.64000949, 0.99964523, 0.98571678, 0.50522813, 0.04703571,\n",
              "        0.20412792, 0.22049026, 0.96571831, 0.29183544, 0.37247016,\n",
              "        0.30581844, 0.2457684 , 0.37389139, 0.58651343, 0.76450131,\n",
              "        0.43314569, 0.62592742, 0.43911   , 0.4579953 , 0.46368097,\n",
              "        0.68055385, 0.98240243, 0.85130061, 0.216374  , 0.88993255,\n",
              "        0.39028593, 0.79112576, 0.3939879 , 0.90822894, 0.86214811,\n",
              "        0.0059456 , 0.82679594, 0.30881552, 0.79781433, 0.99873851,\n",
              "        0.10034401, 0.42692553, 0.6063694 , 0.99941174, 0.98789153,\n",
              "        0.64121272, 0.67099031, 0.61557662, 0.15808834, 0.64874267,\n",
              "        0.818576  , 0.46528571, 0.70210414, 0.23438908, 0.09226142,\n",
              "        0.42690953, 0.1771078 , 0.31516671, 0.55187202, 0.42957323,\n",
              "        0.04961592, 0.33334721, 0.20683159, 0.00596443]])"
            ]
          },
          "metadata": {},
          "execution_count": 49
        }
      ]
    },
    {
      "cell_type": "code",
      "source": [
        "from tqdm import tqdm\n",
        "\n",
        "gamma = 0.9\n",
        "epsilon = 1.0\n",
        "\n",
        "epochs = 1000\n",
        "losses = []\n",
        "for i in tqdm(range(epochs)):\n",
        "    game = Gridworld(size=10, mode='static')\n",
        "    state_ = game.board.render_np().reshape(1, 400) + np.random.rand(1, 400) / 10.0\n",
        "    state1 = torch.from_numpy(state_).float()\n",
        "    status = 1\n",
        "    while (status == 1):\n",
        "        qval = model(state1)\n",
        "        qval_ = qval.data.numpy()\n",
        "        if (random.random() < epsilon):\n",
        "            action_ = np.random.randint(0, 4)\n",
        "        else:\n",
        "            action_ = np.argmax(qval_)\n",
        "\n",
        "        action = action_set[action_]\n",
        "        game.makeMove(action)\n",
        "        state2_ = game.board.render_np().reshape(1, 400) + np.random.rand(1, 400) / 10.0\n",
        "        state2 = torch.from_numpy(state2_).float()\n",
        "        reward = game.reward()\n",
        "        with torch.no_grad():\n",
        "            newQ = model(state2.reshape(1, 400))\n",
        "        maxQ = torch.max(newQ)\n",
        "        if reward == -1:\n",
        "            Y = reward + (gamma * maxQ)\n",
        "        else:\n",
        "            Y = reward\n",
        "\n",
        "        Y = torch.Tensor([Y]).detach()\n",
        "        X = qval.squeeze()[action_]\n",
        "        loss = loss_fn(X, Y)\n",
        "        optimizer.zero_grad()\n",
        "        loss.backward()\n",
        "        losses.append(loss.item())\n",
        "        optimizer.step()\n",
        "        state1 = state2\n",
        "        if reward != -1:\n",
        "            status = 0\n",
        "\n",
        "    if epsilon > 0.1:\n",
        "        epsilon -= (1 / epochs)"
      ],
      "metadata": {
        "colab": {
          "base_uri": "https://localhost:8080/"
        },
        "id": "MUz4zDRpBf0U",
        "outputId": "8e727326-8247-4103-eb59-c832d6d7cfb1"
      },
      "execution_count": null,
      "outputs": [
        {
          "output_type": "stream",
          "name": "stderr",
          "text": [
            "100%|██████████| 1000/1000 [02:17<00:00,  7.25it/s]\n"
          ]
        }
      ]
    },
    {
      "cell_type": "code",
      "source": [],
      "metadata": {
        "id": "pmc0vpI-IN_c"
      },
      "execution_count": null,
      "outputs": []
    },
    {
      "cell_type": "code",
      "source": [
        "plt.figure(figsize=(10,7))\n",
        "plt.plot(losses)\n",
        "plt.xlabel(\"Epochs\",fontsize=22)\n",
        "plt.ylabel(\"Loss\",fontsize=22)"
      ],
      "metadata": {
        "colab": {
          "base_uri": "https://localhost:8080/",
          "height": 470
        },
        "id": "CuRIsTW2Ght_",
        "outputId": "70896020-57eb-4b2d-9b67-2ce86d88396b"
      },
      "execution_count": null,
      "outputs": [
        {
          "output_type": "execute_result",
          "data": {
            "text/plain": [
              "Text(0, 0.5, 'Loss')"
            ]
          },
          "metadata": {},
          "execution_count": 62
        },
        {
          "output_type": "display_data",
          "data": {
            "text/plain": [
              "<Figure size 720x504 with 1 Axes>"
            ],
            "image/png": "[encoded data removed]"
          },
          "metadata": {
            "needs_background": "light"
          }
        }
      ]
    },
    {
      "cell_type": "code",
      "source": [
        "test_game = Gridworld(size=10,mode='random')"
      ],
      "metadata": {
        "id": "aJb_8Na9IUyb"
      },
      "execution_count": null,
      "outputs": []
    },
    {
      "cell_type": "code",
      "source": [
        "test_game.board.render_np().shape"
      ],
      "metadata": {
        "colab": {
          "base_uri": "https://localhost:8080/"
        },
        "id": "o1yKrDdmIepk",
        "outputId": "4cfbfd97-5ed8-40bb-eca5-d09b88a77c8a"
      },
      "execution_count": null,
      "outputs": [
        {
          "output_type": "execute_result",
          "data": {
            "text/plain": [
              "(4, 10, 10)"
            ]
          },
          "metadata": {},
          "execution_count": 75
        }
      ]
    },
    {
      "cell_type": "code",
      "source": [
        "def test_model(model, mode='random', display=True):\n",
        "    i = 0\n",
        "    test_game = Gridworld(size=10,mode=mode)\n",
        "    state_ = test_game.board.render_np().reshape(1,400) + np.random.rand(1,400)/10.0\n",
        "    state = torch.from_numpy(state_).float()\n",
        "    if display:\n",
        "        print(\"Initial State:\")\n",
        "        print(test_game.display())\n",
        "    status = 1\n",
        "    while(status == 1): #A\n",
        "        qval = model(state)\n",
        "        qval_ = qval.data.numpy()\n",
        "        action_ = np.argmax(qval_) #B\n",
        "        action = action_set[action_]\n",
        "        if display:\n",
        "            print('Move #: %s; Taking action: %s' % (i, action))\n",
        "        test_game.makeMove(action)\n",
        "        state_ = test_game.board.render_np().reshape(1,400) + np.random.rand(1,400)/10.0\n",
        "        state = torch.from_numpy(state_).float()\n",
        "        if display:\n",
        "            print(test_game.display())\n",
        "        reward = test_game.reward()\n",
        "        if reward != -1:\n",
        "            if reward > 0:\n",
        "                status = 2\n",
        "                if display:\n",
        "                    print(\"Game won! Reward: %s\" % (reward,))\n",
        "            else:\n",
        "                status = 0\n",
        "                if display:\n",
        "                    print(\"Game LOST. Reward: %s\" % (reward,))\n",
        "        i += 1\n",
        "        if (i > 20):\n",
        "            if display:\n",
        "                print(\"Game lost; too many moves.\")\n",
        "            break\n",
        "\n",
        "    win = True if status == 2 else False\n",
        "    return win"
      ],
      "metadata": {
        "id": "2E_cJriHC7Tv"
      },
      "execution_count": null,
      "outputs": []
    },
    {
      "cell_type": "code",
      "source": [
        "test_model(model, 'random')"
      ],
      "metadata": {
        "colab": {
          "base_uri": "https://localhost:8080/"
        },
        "id": "WfGd4mz3HKmN",
        "outputId": "055f59df-de87-4590-942c-b901d6b8c3c4"
      },
      "execution_count": null,
      "outputs": [
        {
          "output_type": "stream",
          "name": "stdout",
          "text": [
            "Initial State:\n",
            "[[' ' ' ' ' ' ' ' ' ' ' ' ' ' ' ' ' ' ' ']\n",
            " [' ' ' ' ' ' ' ' ' ' ' ' ' ' 'W' ' ' ' ']\n",
            " [' ' ' ' ' ' 'P' ' ' ' ' ' ' ' ' ' ' ' ']\n",
            " [' ' ' ' ' ' ' ' ' ' ' ' ' ' ' ' ' ' ' ']\n",
            " [' ' ' ' ' ' ' ' ' ' ' ' ' ' ' ' ' ' ' ']\n",
            " [' ' ' ' ' ' ' ' ' ' '-' ' ' ' ' ' ' ' ']\n",
            " [' ' ' ' ' ' ' ' ' ' ' ' ' ' ' ' ' ' ' ']\n",
            " [' ' ' ' ' ' ' ' ' ' ' ' ' ' ' ' ' ' ' ']\n",
            " [' ' ' ' ' ' ' ' ' ' '+' ' ' ' ' ' ' ' ']\n",
            " [' ' ' ' ' ' ' ' ' ' ' ' ' ' ' ' ' ' ' ']]\n",
            "Move #: 0; Taking action: l\n",
            "[[' ' ' ' ' ' ' ' ' ' ' ' ' ' ' ' ' ' ' ']\n",
            " [' ' ' ' ' ' ' ' ' ' ' ' ' ' 'W' ' ' ' ']\n",
            " [' ' ' ' 'P' ' ' ' ' ' ' ' ' ' ' ' ' ' ']\n",
            " [' ' ' ' ' ' ' ' ' ' ' ' ' ' ' ' ' ' ' ']\n",
            " [' ' ' ' ' ' ' ' ' ' ' ' ' ' ' ' ' ' ' ']\n",
            " [' ' ' ' ' ' ' ' ' ' '-' ' ' ' ' ' ' ' ']\n",
            " [' ' ' ' ' ' ' ' ' ' ' ' ' ' ' ' ' ' ' ']\n",
            " [' ' ' ' ' ' ' ' ' ' ' ' ' ' ' ' ' ' ' ']\n",
            " [' ' ' ' ' ' ' ' ' ' '+' ' ' ' ' ' ' ' ']\n",
            " [' ' ' ' ' ' ' ' ' ' ' ' ' ' ' ' ' ' ' ']]\n",
            "Move #: 1; Taking action: l\n",
            "[[' ' ' ' ' ' ' ' ' ' ' ' ' ' ' ' ' ' ' ']\n",
            " [' ' ' ' ' ' ' ' ' ' ' ' ' ' 'W' ' ' ' ']\n",
            " [' ' 'P' ' ' ' ' ' ' ' ' ' ' ' ' ' ' ' ']\n",
            " [' ' ' ' ' ' ' ' ' ' ' ' ' ' ' ' ' ' ' ']\n",
            " [' ' ' ' ' ' ' ' ' ' ' ' ' ' ' ' ' ' ' ']\n",
            " [' ' ' ' ' ' ' ' ' ' '-' ' ' ' ' ' ' ' ']\n",
            " [' ' ' ' ' ' ' ' ' ' ' ' ' ' ' ' ' ' ' ']\n",
            " [' ' ' ' ' ' ' ' ' ' ' ' ' ' ' ' ' ' ' ']\n",
            " [' ' ' ' ' ' ' ' ' ' '+' ' ' ' ' ' ' ' ']\n",
            " [' ' ' ' ' ' ' ' ' ' ' ' ' ' ' ' ' ' ' ']]\n",
            "Move #: 2; Taking action: l\n",
            "[[' ' ' ' ' ' ' ' ' ' ' ' ' ' ' ' ' ' ' ']\n",
            " [' ' ' ' ' ' ' ' ' ' ' ' ' ' 'W' ' ' ' ']\n",
            " ['P' ' ' ' ' ' ' ' ' ' ' ' ' ' ' ' ' ' ']\n",
            " [' ' ' ' ' ' ' ' ' ' ' ' ' ' ' ' ' ' ' ']\n",
            " [' ' ' ' ' ' ' ' ' ' ' ' ' ' ' ' ' ' ' ']\n",
            " [' ' ' ' ' ' ' ' ' ' '-' ' ' ' ' ' ' ' ']\n",
            " [' ' ' ' ' ' ' ' ' ' ' ' ' ' ' ' ' ' ' ']\n",
            " [' ' ' ' ' ' ' ' ' ' ' ' ' ' ' ' ' ' ' ']\n",
            " [' ' ' ' ' ' ' ' ' ' '+' ' ' ' ' ' ' ' ']\n",
            " [' ' ' ' ' ' ' ' ' ' ' ' ' ' ' ' ' ' ' ']]\n",
            "Move #: 3; Taking action: u\n",
            "[[' ' ' ' ' ' ' ' ' ' ' ' ' ' ' ' ' ' ' ']\n",
            " ['P' ' ' ' ' ' ' ' ' ' ' ' ' 'W' ' ' ' ']\n",
            " [' ' ' ' ' ' ' ' ' ' ' ' ' ' ' ' ' ' ' ']\n",
            " [' ' ' ' ' ' ' ' ' ' ' ' ' ' ' ' ' ' ' ']\n",
            " [' ' ' ' ' ' ' ' ' ' ' ' ' ' ' ' ' ' ' ']\n",
            " [' ' ' ' ' ' ' ' ' ' '-' ' ' ' ' ' ' ' ']\n",
            " [' ' ' ' ' ' ' ' ' ' ' ' ' ' ' ' ' ' ' ']\n",
            " [' ' ' ' ' ' ' ' ' ' ' ' ' ' ' ' ' ' ' ']\n",
            " [' ' ' ' ' ' ' ' ' ' '+' ' ' ' ' ' ' ' ']\n",
            " [' ' ' ' ' ' ' ' ' ' ' ' ' ' ' ' ' ' ' ']]\n",
            "Move #: 4; Taking action: u\n",
            "[['P' ' ' ' ' ' ' ' ' ' ' ' ' ' ' ' ' ' ']\n",
            " [' ' ' ' ' ' ' ' ' ' ' ' ' ' 'W' ' ' ' ']\n",
            " [' ' ' ' ' ' ' ' ' ' ' ' ' ' ' ' ' ' ' ']\n",
            " [' ' ' ' ' ' ' ' ' ' ' ' ' ' ' ' ' ' ' ']\n",
            " [' ' ' ' ' ' ' ' ' ' ' ' ' ' ' ' ' ' ' ']\n",
            " [' ' ' ' ' ' ' ' ' ' '-' ' ' ' ' ' ' ' ']\n",
            " [' ' ' ' ' ' ' ' ' ' ' ' ' ' ' ' ' ' ' ']\n",
            " [' ' ' ' ' ' ' ' ' ' ' ' ' ' ' ' ' ' ' ']\n",
            " [' ' ' ' ' ' ' ' ' ' '+' ' ' ' ' ' ' ' ']\n",
            " [' ' ' ' ' ' ' ' ' ' ' ' ' ' ' ' ' ' ' ']]\n",
            "Move #: 5; Taking action: l\n",
            "[['P' ' ' ' ' ' ' ' ' ' ' ' ' ' ' ' ' ' ']\n",
            " [' ' ' ' ' ' ' ' ' ' ' ' ' ' 'W' ' ' ' ']\n",
            " [' ' ' ' ' ' ' ' ' ' ' ' ' ' ' ' ' ' ' ']\n",
            " [' ' ' ' ' ' ' ' ' ' ' ' ' ' ' ' ' ' ' ']\n",
            " [' ' ' ' ' ' ' ' ' ' ' ' ' ' ' ' ' ' ' ']\n",
            " [' ' ' ' ' ' ' ' ' ' '-' ' ' ' ' ' ' ' ']\n",
            " [' ' ' ' ' ' ' ' ' ' ' ' ' ' ' ' ' ' ' ']\n",
            " [' ' ' ' ' ' ' ' ' ' ' ' ' ' ' ' ' ' ' ']\n",
            " [' ' ' ' ' ' ' ' ' ' '+' ' ' ' ' ' ' ' ']\n",
            " [' ' ' ' ' ' ' ' ' ' ' ' ' ' ' ' ' ' ' ']]\n",
            "Move #: 6; Taking action: l\n",
            "[['P' ' ' ' ' ' ' ' ' ' ' ' ' ' ' ' ' ' ']\n",
            " [' ' ' ' ' ' ' ' ' ' ' ' ' ' 'W' ' ' ' ']\n",
            " [' ' ' ' ' ' ' ' ' ' ' ' ' ' ' ' ' ' ' ']\n",
            " [' ' ' ' ' ' ' ' ' ' ' ' ' ' ' ' ' ' ' ']\n",
            " [' ' ' ' ' ' ' ' ' ' ' ' ' ' ' ' ' ' ' ']\n",
            " [' ' ' ' ' ' ' ' ' ' '-' ' ' ' ' ' ' ' ']\n",
            " [' ' ' ' ' ' ' ' ' ' ' ' ' ' ' ' ' ' ' ']\n",
            " [' ' ' ' ' ' ' ' ' ' ' ' ' ' ' ' ' ' ' ']\n",
            " [' ' ' ' ' ' ' ' ' ' '+' ' ' ' ' ' ' ' ']\n",
            " [' ' ' ' ' ' ' ' ' ' ' ' ' ' ' ' ' ' ' ']]\n",
            "Move #: 7; Taking action: l\n",
            "[['P' ' ' ' ' ' ' ' ' ' ' ' ' ' ' ' ' ' ']\n",
            " [' ' ' ' ' ' ' ' ' ' ' ' ' ' 'W' ' ' ' ']\n",
            " [' ' ' ' ' ' ' ' ' ' ' ' ' ' ' ' ' ' ' ']\n",
            " [' ' ' ' ' ' ' ' ' ' ' ' ' ' ' ' ' ' ' ']\n",
            " [' ' ' ' ' ' ' ' ' ' ' ' ' ' ' ' ' ' ' ']\n",
            " [' ' ' ' ' ' ' ' ' ' '-' ' ' ' ' ' ' ' ']\n",
            " [' ' ' ' ' ' ' ' ' ' ' ' ' ' ' ' ' ' ' ']\n",
            " [' ' ' ' ' ' ' ' ' ' ' ' ' ' ' ' ' ' ' ']\n",
            " [' ' ' ' ' ' ' ' ' ' '+' ' ' ' ' ' ' ' ']\n",
            " [' ' ' ' ' ' ' ' ' ' ' ' ' ' ' ' ' ' ' ']]\n",
            "Move #: 8; Taking action: u\n",
            "[['P' ' ' ' ' ' ' ' ' ' ' ' ' ' ' ' ' ' ']\n",
            " [' ' ' ' ' ' ' ' ' ' ' ' ' ' 'W' ' ' ' ']\n",
            " [' ' ' ' ' ' ' ' ' ' ' ' ' ' ' ' ' ' ' ']\n",
            " [' ' ' ' ' ' ' ' ' ' ' ' ' ' ' ' ' ' ' ']\n",
            " [' ' ' ' ' ' ' ' ' ' ' ' ' ' ' ' ' ' ' ']\n",
            " [' ' ' ' ' ' ' ' ' ' '-' ' ' ' ' ' ' ' ']\n",
            " [' ' ' ' ' ' ' ' ' ' ' ' ' ' ' ' ' ' ' ']\n",
            " [' ' ' ' ' ' ' ' ' ' ' ' ' ' ' ' ' ' ' ']\n",
            " [' ' ' ' ' ' ' ' ' ' '+' ' ' ' ' ' ' ' ']\n",
            " [' ' ' ' ' ' ' ' ' ' ' ' ' ' ' ' ' ' ' ']]\n",
            "Move #: 9; Taking action: d\n",
            "[[' ' ' ' ' ' ' ' ' ' ' ' ' ' ' ' ' ' ' ']\n",
            " ['P' ' ' ' ' ' ' ' ' ' ' ' ' 'W' ' ' ' ']\n",
            " [' ' ' ' ' ' ' ' ' ' ' ' ' ' ' ' ' ' ' ']\n",
            " [' ' ' ' ' ' ' ' ' ' ' ' ' ' ' ' ' ' ' ']\n",
            " [' ' ' ' ' ' ' ' ' ' ' ' ' ' ' ' ' ' ' ']\n",
            " [' ' ' ' ' ' ' ' ' ' '-' ' ' ' ' ' ' ' ']\n",
            " [' ' ' ' ' ' ' ' ' ' ' ' ' ' ' ' ' ' ' ']\n",
            " [' ' ' ' ' ' ' ' ' ' ' ' ' ' ' ' ' ' ' ']\n",
            " [' ' ' ' ' ' ' ' ' ' '+' ' ' ' ' ' ' ' ']\n",
            " [' ' ' ' ' ' ' ' ' ' ' ' ' ' ' ' ' ' ' ']]\n",
            "Move #: 10; Taking action: u\n",
            "[['P' ' ' ' ' ' ' ' ' ' ' ' ' ' ' ' ' ' ']\n",
            " [' ' ' ' ' ' ' ' ' ' ' ' ' ' 'W' ' ' ' ']\n",
            " [' ' ' ' ' ' ' ' ' ' ' ' ' ' ' ' ' ' ' ']\n",
            " [' ' ' ' ' ' ' ' ' ' ' ' ' ' ' ' ' ' ' ']\n",
            " [' ' ' ' ' ' ' ' ' ' ' ' ' ' ' ' ' ' ' ']\n",
            " [' ' ' ' ' ' ' ' ' ' '-' ' ' ' ' ' ' ' ']\n",
            " [' ' ' ' ' ' ' ' ' ' ' ' ' ' ' ' ' ' ' ']\n",
            " [' ' ' ' ' ' ' ' ' ' ' ' ' ' ' ' ' ' ' ']\n",
            " [' ' ' ' ' ' ' ' ' ' '+' ' ' ' ' ' ' ' ']\n",
            " [' ' ' ' ' ' ' ' ' ' ' ' ' ' ' ' ' ' ' ']]\n",
            "Move #: 11; Taking action: d\n",
            "[[' ' ' ' ' ' ' ' ' ' ' ' ' ' ' ' ' ' ' ']\n",
            " ['P' ' ' ' ' ' ' ' ' ' ' ' ' 'W' ' ' ' ']\n",
            " [' ' ' ' ' ' ' ' ' ' ' ' ' ' ' ' ' ' ' ']\n",
            " [' ' ' ' ' ' ' ' ' ' ' ' ' ' ' ' ' ' ' ']\n",
            " [' ' ' ' ' ' ' ' ' ' ' ' ' ' ' ' ' ' ' ']\n",
            " [' ' ' ' ' ' ' ' ' ' '-' ' ' ' ' ' ' ' ']\n",
            " [' ' ' ' ' ' ' ' ' ' ' ' ' ' ' ' ' ' ' ']\n",
            " [' ' ' ' ' ' ' ' ' ' ' ' ' ' ' ' ' ' ' ']\n",
            " [' ' ' ' ' ' ' ' ' ' '+' ' ' ' ' ' ' ' ']\n",
            " [' ' ' ' ' ' ' ' ' ' ' ' ' ' ' ' ' ' ' ']]\n",
            "Move #: 12; Taking action: u\n",
            "[['P' ' ' ' ' ' ' ' ' ' ' ' ' ' ' ' ' ' ']\n",
            " [' ' ' ' ' ' ' ' ' ' ' ' ' ' 'W' ' ' ' ']\n",
            " [' ' ' ' ' ' ' ' ' ' ' ' ' ' ' ' ' ' ' ']\n",
            " [' ' ' ' ' ' ' ' ' ' ' ' ' ' ' ' ' ' ' ']\n",
            " [' ' ' ' ' ' ' ' ' ' ' ' ' ' ' ' ' ' ' ']\n",
            " [' ' ' ' ' ' ' ' ' ' '-' ' ' ' ' ' ' ' ']\n",
            " [' ' ' ' ' ' ' ' ' ' ' ' ' ' ' ' ' ' ' ']\n",
            " [' ' ' ' ' ' ' ' ' ' ' ' ' ' ' ' ' ' ' ']\n",
            " [' ' ' ' ' ' ' ' ' ' '+' ' ' ' ' ' ' ' ']\n",
            " [' ' ' ' ' ' ' ' ' ' ' ' ' ' ' ' ' ' ' ']]\n",
            "Move #: 13; Taking action: l\n",
            "[['P' ' ' ' ' ' ' ' ' ' ' ' ' ' ' ' ' ' ']\n",
            " [' ' ' ' ' ' ' ' ' ' ' ' ' ' 'W' ' ' ' ']\n",
            " [' ' ' ' ' ' ' ' ' ' ' ' ' ' ' ' ' ' ' ']\n",
            " [' ' ' ' ' ' ' ' ' ' ' ' ' ' ' ' ' ' ' ']\n",
            " [' ' ' ' ' ' ' ' ' ' ' ' ' ' ' ' ' ' ' ']\n",
            " [' ' ' ' ' ' ' ' ' ' '-' ' ' ' ' ' ' ' ']\n",
            " [' ' ' ' ' ' ' ' ' ' ' ' ' ' ' ' ' ' ' ']\n",
            " [' ' ' ' ' ' ' ' ' ' ' ' ' ' ' ' ' ' ' ']\n",
            " [' ' ' ' ' ' ' ' ' ' '+' ' ' ' ' ' ' ' ']\n",
            " [' ' ' ' ' ' ' ' ' ' ' ' ' ' ' ' ' ' ' ']]\n",
            "Move #: 14; Taking action: l\n",
            "[['P' ' ' ' ' ' ' ' ' ' ' ' ' ' ' ' ' ' ']\n",
            " [' ' ' ' ' ' ' ' ' ' ' ' ' ' 'W' ' ' ' ']\n",
            " [' ' ' ' ' ' ' ' ' ' ' ' ' ' ' ' ' ' ' ']\n",
            " [' ' ' ' ' ' ' ' ' ' ' ' ' ' ' ' ' ' ' ']\n",
            " [' ' ' ' ' ' ' ' ' ' ' ' ' ' ' ' ' ' ' ']\n",
            " [' ' ' ' ' ' ' ' ' ' '-' ' ' ' ' ' ' ' ']\n",
            " [' ' ' ' ' ' ' ' ' ' ' ' ' ' ' ' ' ' ' ']\n",
            " [' ' ' ' ' ' ' ' ' ' ' ' ' ' ' ' ' ' ' ']\n",
            " [' ' ' ' ' ' ' ' ' ' '+' ' ' ' ' ' ' ' ']\n",
            " [' ' ' ' ' ' ' ' ' ' ' ' ' ' ' ' ' ' ' ']]\n",
            "Move #: 15; Taking action: l\n",
            "[['P' ' ' ' ' ' ' ' ' ' ' ' ' ' ' ' ' ' ']\n",
            " [' ' ' ' ' ' ' ' ' ' ' ' ' ' 'W' ' ' ' ']\n",
            " [' ' ' ' ' ' ' ' ' ' ' ' ' ' ' ' ' ' ' ']\n",
            " [' ' ' ' ' ' ' ' ' ' ' ' ' ' ' ' ' ' ' ']\n",
            " [' ' ' ' ' ' ' ' ' ' ' ' ' ' ' ' ' ' ' ']\n",
            " [' ' ' ' ' ' ' ' ' ' '-' ' ' ' ' ' ' ' ']\n",
            " [' ' ' ' ' ' ' ' ' ' ' ' ' ' ' ' ' ' ' ']\n",
            " [' ' ' ' ' ' ' ' ' ' ' ' ' ' ' ' ' ' ' ']\n",
            " [' ' ' ' ' ' ' ' ' ' '+' ' ' ' ' ' ' ' ']\n",
            " [' ' ' ' ' ' ' ' ' ' ' ' ' ' ' ' ' ' ' ']]\n",
            "Move #: 16; Taking action: l\n",
            "[['P' ' ' ' ' ' ' ' ' ' ' ' ' ' ' ' ' ' ']\n",
            " [' ' ' ' ' ' ' ' ' ' ' ' ' ' 'W' ' ' ' ']\n",
            " [' ' ' ' ' ' ' ' ' ' ' ' ' ' ' ' ' ' ' ']\n",
            " [' ' ' ' ' ' ' ' ' ' ' ' ' ' ' ' ' ' ' ']\n",
            " [' ' ' ' ' ' ' ' ' ' ' ' ' ' ' ' ' ' ' ']\n",
            " [' ' ' ' ' ' ' ' ' ' '-' ' ' ' ' ' ' ' ']\n",
            " [' ' ' ' ' ' ' ' ' ' ' ' ' ' ' ' ' ' ' ']\n",
            " [' ' ' ' ' ' ' ' ' ' ' ' ' ' ' ' ' ' ' ']\n",
            " [' ' ' ' ' ' ' ' ' ' '+' ' ' ' ' ' ' ' ']\n",
            " [' ' ' ' ' ' ' ' ' ' ' ' ' ' ' ' ' ' ' ']]\n",
            "Move #: 17; Taking action: d\n",
            "[[' ' ' ' ' ' ' ' ' ' ' ' ' ' ' ' ' ' ' ']\n",
            " ['P' ' ' ' ' ' ' ' ' ' ' ' ' 'W' ' ' ' ']\n",
            " [' ' ' ' ' ' ' ' ' ' ' ' ' ' ' ' ' ' ' ']\n",
            " [' ' ' ' ' ' ' ' ' ' ' ' ' ' ' ' ' ' ' ']\n",
            " [' ' ' ' ' ' ' ' ' ' ' ' ' ' ' ' ' ' ' ']\n",
            " [' ' ' ' ' ' ' ' ' ' '-' ' ' ' ' ' ' ' ']\n",
            " [' ' ' ' ' ' ' ' ' ' ' ' ' ' ' ' ' ' ' ']\n",
            " [' ' ' ' ' ' ' ' ' ' ' ' ' ' ' ' ' ' ' ']\n",
            " [' ' ' ' ' ' ' ' ' ' '+' ' ' ' ' ' ' ' ']\n",
            " [' ' ' ' ' ' ' ' ' ' ' ' ' ' ' ' ' ' ' ']]\n",
            "Move #: 18; Taking action: u\n",
            "[['P' ' ' ' ' ' ' ' ' ' ' ' ' ' ' ' ' ' ']\n",
            " [' ' ' ' ' ' ' ' ' ' ' ' ' ' 'W' ' ' ' ']\n",
            " [' ' ' ' ' ' ' ' ' ' ' ' ' ' ' ' ' ' ' ']\n",
            " [' ' ' ' ' ' ' ' ' ' ' ' ' ' ' ' ' ' ' ']\n",
            " [' ' ' ' ' ' ' ' ' ' ' ' ' ' ' ' ' ' ' ']\n",
            " [' ' ' ' ' ' ' ' ' ' '-' ' ' ' ' ' ' ' ']\n",
            " [' ' ' ' ' ' ' ' ' ' ' ' ' ' ' ' ' ' ' ']\n",
            " [' ' ' ' ' ' ' ' ' ' ' ' ' ' ' ' ' ' ' ']\n",
            " [' ' ' ' ' ' ' ' ' ' '+' ' ' ' ' ' ' ' ']\n",
            " [' ' ' ' ' ' ' ' ' ' ' ' ' ' ' ' ' ' ' ']]\n",
            "Move #: 19; Taking action: l\n",
            "[['P' ' ' ' ' ' ' ' ' ' ' ' ' ' ' ' ' ' ']\n",
            " [' ' ' ' ' ' ' ' ' ' ' ' ' ' 'W' ' ' ' ']\n",
            " [' ' ' ' ' ' ' ' ' ' ' ' ' ' ' ' ' ' ' ']\n",
            " [' ' ' ' ' ' ' ' ' ' ' ' ' ' ' ' ' ' ' ']\n",
            " [' ' ' ' ' ' ' ' ' ' ' ' ' ' ' ' ' ' ' ']\n",
            " [' ' ' ' ' ' ' ' ' ' '-' ' ' ' ' ' ' ' ']\n",
            " [' ' ' ' ' ' ' ' ' ' ' ' ' ' ' ' ' ' ' ']\n",
            " [' ' ' ' ' ' ' ' ' ' ' ' ' ' ' ' ' ' ' ']\n",
            " [' ' ' ' ' ' ' ' ' ' '+' ' ' ' ' ' ' ' ']\n",
            " [' ' ' ' ' ' ' ' ' ' ' ' ' ' ' ' ' ' ' ']]\n",
            "Move #: 20; Taking action: d\n",
            "[[' ' ' ' ' ' ' ' ' ' ' ' ' ' ' ' ' ' ' ']\n",
            " ['P' ' ' ' ' ' ' ' ' ' ' ' ' 'W' ' ' ' ']\n",
            " [' ' ' ' ' ' ' ' ' ' ' ' ' ' ' ' ' ' ' ']\n",
            " [' ' ' ' ' ' ' ' ' ' ' ' ' ' ' ' ' ' ' ']\n",
            " [' ' ' ' ' ' ' ' ' ' ' ' ' ' ' ' ' ' ' ']\n",
            " [' ' ' ' ' ' ' ' ' ' '-' ' ' ' ' ' ' ' ']\n",
            " [' ' ' ' ' ' ' ' ' ' ' ' ' ' ' ' ' ' ' ']\n",
            " [' ' ' ' ' ' ' ' ' ' ' ' ' ' ' ' ' ' ' ']\n",
            " [' ' ' ' ' ' ' ' ' ' '+' ' ' ' ' ' ' ' ']\n",
            " [' ' ' ' ' ' ' ' ' ' ' ' ' ' ' ' ' ' ' ']]\n",
            "Game lost; too many moves.\n"
          ]
        },
        {
          "output_type": "execute_result",
          "data": {
            "text/plain": [
              "False"
            ]
          },
          "metadata": {},
          "execution_count": 80
        }
      ]
    },
    {
      "cell_type": "code",
      "source": [
        "max_games = 1000\n",
        "wins = 0\n",
        "for i in range(max_games):\n",
        "    win = test_model(model, mode='random', display=False)\n",
        "    if win:\n",
        "        wins += 1\n",
        "win_perc = float(wins) / float(max_games)\n",
        "print(\"Games played: {0}, # of wins: {1}\".format(max_games,wins))\n",
        "print(\"Win percentage: {}%\".format(100.0*win_perc))"
      ],
      "metadata": {
        "colab": {
          "base_uri": "https://localhost:8080/"
        },
        "id": "hpJFB23-HLcu",
        "outputId": "4012fd7a-dadc-4fef-e539-3e19ef36b051"
      },
      "execution_count": null,
      "outputs": [
        {
          "output_type": "stream",
          "name": "stdout",
          "text": [
            "Games played: 1000, # of wins: 95\n",
            "Win percentage: 9.5%\n"
          ]
        }
      ]
    },
    {
      "cell_type": "code",
      "source": [],
      "metadata": {
        "id": "346aas47JCB2"
      },
      "execution_count": null,
      "outputs": []
    }
  ]
}