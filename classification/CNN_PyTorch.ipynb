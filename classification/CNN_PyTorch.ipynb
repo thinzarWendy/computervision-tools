{
 "cells": [
  {
   "cell_type": "markdown",
   "metadata": {},
   "source": [
    "## Image Recognition\n",
    "### Building a CNN model with PyTorch"
   ]
  },
  {
   "cell_type": "markdown",
   "metadata": {},
   "source": [
    "Import libraries\n"
   ]
  },
  {
   "cell_type": "code",
   "execution_count": 1,
   "metadata": {},
   "outputs": [],
   "source": [
    "import matplotlib.pyplot as plt # for plotting\n",
    "import numpy as np # for transformation\n",
    "\n",
    "import torch # PyTorch package\n",
    "import torchvision # load datasets\n",
    "import torchvision.transforms as transforms # transform data\n",
    "import torch.nn as nn # basic building block for neural neteorks\n",
    "import torch.nn.functional as F # import convolution functions like Relu\n",
    "import torch.optim as optim # optimzer"
   ]
  },
  {
   "cell_type": "code",
   "execution_count": 2,
   "metadata": {},
   "outputs": [
    {
     "name": "stdout",
     "output_type": "stream",
     "text": [
      "Using GPU: NVIDIA GeForce RTX 4060 Laptop GPU\n"
     ]
    }
   ],
   "source": [
    "if torch.cuda.is_available():\n",
    "    device = torch.device(\"cuda\")  # Use the GPU\n",
    "    print(\"Using GPU:\", torch.cuda.get_device_name(0))\n",
    "else:\n",
    "    device = torch.device(\"cpu\")  # Use the CPU\n",
    "    print(\"GPU is not available. Using CPU.\")\n"
   ]
  },
  {
   "cell_type": "markdown",
   "metadata": {},
   "source": [
    "## 1. Load and normalize data\n"
   ]
  },
  {
   "cell_type": "code",
   "execution_count": 3,
   "metadata": {},
   "outputs": [],
   "source": [
    "# python image library of range [0, 1] \n",
    "# transform them to tensors of normalized range[-1, 1]\n",
    "\n",
    "transform = transforms.Compose( # composing several transforms together\n",
    "    [transforms.ToTensor(), # to tensor object\n",
    "     transforms.Normalize((0.5, 0.5, 0.5), (0.5, 0.5, 0.5))]) # mean = 0.5, std = 0.5\n",
    "\n",
    "# set batch_size\n",
    "batch_size = 4\n",
    "\n",
    "# set number of workers\n",
    "num_workers = 2"
   ]
  },
  {
   "cell_type": "code",
   "execution_count": 4,
   "metadata": {},
   "outputs": [
    {
     "name": "stdout",
     "output_type": "stream",
     "text": [
      "Files already downloaded and verified\n",
      "Files already downloaded and verified\n"
     ]
    }
   ],
   "source": [
    "# load train data\n",
    "trainset = torchvision.datasets.CIFAR10(root='./data', train=True,\n",
    "                                        download=True, transform=transform)\n",
    "trainloader = torch.utils.data.DataLoader(trainset, batch_size=batch_size,\n",
    "                                          shuffle=True, num_workers=num_workers)\n",
    "\n",
    "# load test data\n",
    "testset = torchvision.datasets.CIFAR10(root='./data', train=False,\n",
    "                                       download=True, transform=transform)\n",
    "testloader = torch.utils.data.DataLoader(testset, batch_size=batch_size,\n",
    "                                         shuffle=False, num_workers=num_workers)"
   ]
  },
  {
   "cell_type": "code",
   "execution_count": 5,
   "metadata": {},
   "outputs": [],
   "source": [
    "# put 10 classes into a set\n",
    "classes = ('plane', 'car', 'bird', 'cat','deer', 'dog', 'frog', 'horse', 'ship', 'truck')"
   ]
  },
  {
   "cell_type": "markdown",
   "metadata": {},
   "source": [
    "### Visualize images"
   ]
  },
  {
   "cell_type": "code",
   "execution_count": 6,
   "metadata": {},
   "outputs": [
    {
     "data": {
      "image/png": "[encoded data removed]",
      "text/plain": [
       "<Figure size 640x480 with 1 Axes>"
      ]
     },
     "metadata": {},
     "output_type": "display_data"
    },
    {
     "name": "stdout",
     "output_type": "stream",
     "text": [
      "deer plane frog horse\n"
     ]
    }
   ],
   "source": [
    "def imshow(img):\n",
    "  ''' function to show image '''\n",
    "  img = img / 2 + 0.5 # unnormalize\n",
    "  npimg = img.numpy() # convert to numpy objects\n",
    "  plt.imshow(np.transpose(npimg, (1, 2, 0)))\n",
    "  plt.show()\n",
    "\n",
    "# get random training images with iter function\n",
    "dataiter = iter(trainloader)\n",
    "images, labels = dataiter.__next__()  \n",
    "\n",
    "# call function on our images\n",
    "imshow(torchvision.utils.make_grid(images))\n",
    "\n",
    "# print the class of the image\n",
    "print(' '.join('%s' % classes[labels[j]] for j in range(batch_size)))\n"
   ]
  },
  {
   "cell_type": "code",
   "execution_count": 7,
   "metadata": {},
   "outputs": [
    {
     "data": {
      "text/plain": [
       "tensor([[[[ 0.0196, -0.0902, -0.0588,  ..., -0.4980, -0.4118, -0.3020],\n",
       "          [ 0.0745, -0.0275, -0.0275,  ..., -0.3569, -0.3176, -0.3412],\n",
       "          [ 0.0588,  0.0824,  0.0275,  ..., -0.4196, -0.3725, -0.3333],\n",
       "          ...,\n",
       "          [ 0.2471,  0.1843,  0.1608,  ...,  0.6235,  0.6549,  0.6627],\n",
       "          [ 0.7020,  0.6627,  0.6941,  ...,  0.6157,  0.6314,  0.6392],\n",
       "          [ 0.6863,  0.6706,  0.7020,  ...,  0.5294,  0.5373,  0.5059]],\n",
       "\n",
       "         [[ 0.2078,  0.0824,  0.1137,  ..., -0.4588, -0.3961, -0.2706],\n",
       "          [ 0.2549,  0.1451,  0.1451,  ..., -0.3098, -0.2863, -0.3020],\n",
       "          [ 0.2235,  0.2549,  0.2000,  ..., -0.3725, -0.3176, -0.2784],\n",
       "          ...,\n",
       "          [ 0.3098,  0.2392,  0.2157,  ...,  0.6627,  0.6627,  0.6627],\n",
       "          [ 0.6549,  0.6157,  0.6471,  ...,  0.6784,  0.6706,  0.6627],\n",
       "          [ 0.6235,  0.6078,  0.6471,  ...,  0.6157,  0.6157,  0.5765]],\n",
       "\n",
       "         [[-0.4667, -0.5059, -0.4667,  ..., -0.5843, -0.5686, -0.4667],\n",
       "          [-0.3804, -0.4353, -0.4275,  ..., -0.4431, -0.4667, -0.5059],\n",
       "          [-0.3333, -0.3020, -0.3569,  ..., -0.4980, -0.5059, -0.4902],\n",
       "          ...,\n",
       "          [-0.1216, -0.1765, -0.2078,  ...,  0.0196,  0.0353,  0.0275],\n",
       "          [ 0.1059,  0.0745,  0.1059,  ...,  0.0039,  0.0275,  0.0196],\n",
       "          [ 0.0196,  0.0118,  0.0431,  ..., -0.0588, -0.0353, -0.0745]]],\n",
       "\n",
       "\n",
       "        [[[-0.5373, -0.5451, -0.5451,  ..., -0.5529, -0.5529, -0.5451],\n",
       "          [-0.5451, -0.5451, -0.5451,  ..., -0.5529, -0.5529, -0.5529],\n",
       "          [-0.5373, -0.5373, -0.5294,  ..., -0.5451, -0.5529, -0.5451],\n",
       "          ...,\n",
       "          [-0.5059, -0.5137, -0.5137,  ..., -0.5294, -0.5216, -0.5216],\n",
       "          [-0.5137, -0.5137, -0.5137,  ..., -0.4980, -0.4588, -0.4588],\n",
       "          [-0.5059, -0.5137, -0.5137,  ..., -0.2392, -0.2157, -0.3098]],\n",
       "\n",
       "         [[-0.1608, -0.1686, -0.1686,  ..., -0.1765, -0.1765, -0.1686],\n",
       "          [-0.1608, -0.1686, -0.1686,  ..., -0.1765, -0.1765, -0.1686],\n",
       "          [-0.1608, -0.1608, -0.1529,  ..., -0.1686, -0.1765, -0.1686],\n",
       "          ...,\n",
       "          [-0.1137, -0.1216, -0.1216,  ..., -0.1451, -0.1529, -0.1373],\n",
       "          [-0.1137, -0.1216, -0.1216,  ..., -0.1451, -0.1686, -0.1608],\n",
       "          [-0.1137, -0.1216, -0.1216,  ..., -0.1529, -0.1686, -0.1294]],\n",
       "\n",
       "         [[ 0.3333,  0.3176,  0.3176,  ...,  0.3098,  0.3098,  0.3255],\n",
       "          [ 0.3255,  0.3098,  0.3176,  ...,  0.3098,  0.3020,  0.3176],\n",
       "          [ 0.3333,  0.3255,  0.3333,  ...,  0.3176,  0.3098,  0.3255],\n",
       "          ...,\n",
       "          [ 0.3882,  0.3725,  0.3725,  ...,  0.3725,  0.3725,  0.3804],\n",
       "          [ 0.3804,  0.3647,  0.3647,  ...,  0.3020,  0.2863,  0.3255],\n",
       "          [ 0.3882,  0.3725,  0.3725,  ...,  0.2784,  0.2471,  0.2941]]],\n",
       "\n",
       "\n",
       "        [[[-0.2941, -0.6706, -0.9373,  ..., -0.9529, -0.9608, -0.9608],\n",
       "          [-0.4431, -0.7725, -0.8667,  ..., -0.9608, -0.9608, -0.9608],\n",
       "          [-0.3569, -0.5373, -0.7882,  ..., -0.9686, -0.9765, -0.9686],\n",
       "          ...,\n",
       "          [ 0.6078,  0.6863,  0.6392,  ..., -0.0745,  0.1294,  0.2157],\n",
       "          [ 0.5608,  0.6471,  0.5843,  ...,  0.0588,  0.1686,  0.2627],\n",
       "          [ 0.3804,  0.3961,  0.5373,  ...,  0.2471,  0.2235,  0.2471]],\n",
       "\n",
       "         [[-0.1294, -0.4980, -0.8196,  ..., -0.9216, -0.9216, -0.9216],\n",
       "          [-0.2627, -0.5922, -0.7569,  ..., -0.9294, -0.9294, -0.9216],\n",
       "          [-0.1608, -0.3647, -0.7020,  ..., -0.9294, -0.9373, -0.9216],\n",
       "          ...,\n",
       "          [ 0.4196,  0.5059,  0.4588,  ..., -0.2235, -0.0275,  0.0510],\n",
       "          [ 0.3804,  0.4824,  0.4196,  ..., -0.1059, -0.0118,  0.0824],\n",
       "          [ 0.2078,  0.2235,  0.3725,  ...,  0.0824,  0.0353,  0.0510]],\n",
       "\n",
       "         [[-0.4431, -0.6549, -0.8902,  ..., -0.8431, -0.8588, -0.8745],\n",
       "          [-0.5843, -0.7490, -0.8196,  ..., -0.8588, -0.8667, -0.8745],\n",
       "          [-0.4902, -0.5216, -0.7569,  ..., -0.8824, -0.8902, -0.8745],\n",
       "          ...,\n",
       "          [ 0.0431,  0.1137,  0.0353,  ..., -0.4824, -0.3333, -0.2549],\n",
       "          [ 0.0196,  0.0980,  0.0118,  ..., -0.3882, -0.3255, -0.2314],\n",
       "          [-0.1059, -0.1059,  0.0196,  ..., -0.2627, -0.3020, -0.2706]]],\n",
       "\n",
       "\n",
       "        [[[ 0.2235,  0.2157,  0.2157,  ...,  0.3020,  0.2941,  0.2941],\n",
       "          [ 0.2392,  0.2235,  0.2235,  ...,  0.3098,  0.2941,  0.3098],\n",
       "          [ 0.2549,  0.2392,  0.2549,  ...,  0.3412,  0.3255,  0.3412],\n",
       "          ...,\n",
       "          [-0.1373, -0.2235,  0.1451,  ..., -0.4588, -0.3020, -0.2549],\n",
       "          [ 0.0196, -0.0588,  0.2784,  ...,  0.3098,  0.3804,  0.3725],\n",
       "          [-0.1373, -0.1843, -0.1373,  ...,  0.0667,  0.0588,  0.0902]],\n",
       "\n",
       "         [[ 0.5059,  0.4902,  0.4902,  ...,  0.5373,  0.5373,  0.5451],\n",
       "          [ 0.5137,  0.4902,  0.4980,  ...,  0.5608,  0.5451,  0.5529],\n",
       "          [ 0.5137,  0.5059,  0.5216,  ...,  0.6078,  0.5686,  0.5765],\n",
       "          ...,\n",
       "          [-0.2627, -0.3725, -0.0275,  ..., -0.5529, -0.3804, -0.3647],\n",
       "          [-0.0510, -0.1451,  0.1922,  ...,  0.1765,  0.2706,  0.2314],\n",
       "          [-0.1216, -0.1529, -0.0902,  ...,  0.0353,  0.0588,  0.0667]],\n",
       "\n",
       "         [[ 0.7882,  0.7882,  0.7961,  ...,  0.8745,  0.8824,  0.8824],\n",
       "          [ 0.7961,  0.7804,  0.7882,  ...,  0.8667,  0.8588,  0.8667],\n",
       "          [ 0.8039,  0.7804,  0.7882,  ...,  0.8667,  0.8588,  0.8667],\n",
       "          ...,\n",
       "          [-0.5373, -0.5608, -0.3020,  ..., -0.6941, -0.4667, -0.4510],\n",
       "          [-0.3804, -0.4039, -0.1059,  ..., -0.0196,  0.0431,  0.0118],\n",
       "          [-0.6314, -0.6157, -0.5451,  ..., -0.3569, -0.3569, -0.3569]]]])"
      ]
     },
     "execution_count": 7,
     "metadata": {},
     "output_type": "execute_result"
    }
   ],
   "source": [
    "images"
   ]
  },
  {
   "cell_type": "code",
   "execution_count": 10,
   "metadata": {},
   "outputs": [
    {
     "name": "stdout",
     "output_type": "stream",
     "text": [
      "torch.Size([4, 3, 32, 32])\n",
      "tensor([1, 0, 2, 4])\n"
     ]
    }
   ],
   "source": [
    "#checking the size of each image\n",
    "print(images.shape)\n",
    "print(labels)\n"
   ]
  },
  {
   "cell_type": "markdown",
   "metadata": {},
   "source": [
    "## 2. Define the CNN"
   ]
  },
  {
   "cell_type": "markdown",
   "metadata": {},
   "source": [
    "![Flow of forward algorithm](./assets/Flow of forward algorithm.png)\n"
   ]
  },
  {
   "cell_type": "code",
   "execution_count": 11,
   "metadata": {},
   "outputs": [
    {
     "name": "stdout",
     "output_type": "stream",
     "text": [
      "Net(\n",
      "  (conv1): Conv2d(3, 6, kernel_size=(5, 5), stride=(1, 1))\n",
      "  (pool): MaxPool2d(kernel_size=2, stride=2, padding=0, dilation=1, ceil_mode=False)\n",
      "  (conv2): Conv2d(6, 16, kernel_size=(5, 5), stride=(1, 1))\n",
      "  (fc1): Linear(in_features=400, out_features=120, bias=True)\n",
      "  (fc2): Linear(in_features=120, out_features=84, bias=True)\n",
      "  (fc3): Linear(in_features=84, out_features=10, bias=True)\n",
      ")\n"
     ]
    }
   ],
   "source": [
    "class Net(nn.Module):\n",
    "    def __init__(self):\n",
    "        ''' initialize the network '''\n",
    "        super(Net, self).__init__()\n",
    "        \n",
    "        # 3 input image channel, 6 output channels, # 5x5 square convolution kernel\t    \n",
    "        self.conv1 = nn.Conv2d(3, 6, 5)\n",
    "        # Max pooling over a (2, 2) window\n",
    "        self.pool = nn.MaxPool2d(2, 2)\n",
    "        self.conv2 = nn.Conv2d(6, 16, 5)\n",
    "        self.fc1 = nn.Linear(16 * 5 * 5, 120)# 5x5 from image dimension # each feature map is 5x5 pixels in size, and there are 16 such feature maps\n",
    "        self.fc2 = nn.Linear(120, 84)\n",
    "        self.fc3 = nn.Linear(84, 10)\n",
    "\n",
    "    def forward(self, x):\n",
    "        ''' the forward propagation algorithm '''\n",
    "        x = self.pool(F.relu(self.conv1(x)))\n",
    "        x = self.pool(F.relu(self.conv2(x)))\n",
    "        x = x.view(-1, 16 * 5 * 5)\n",
    "        x = F.relu(self.fc1(x))\n",
    "        x = F.relu(self.fc2(x))\n",
    "        x = self.fc3(x)\n",
    "        return x\n",
    "\n",
    "net = Net()\n",
    "print(net)"
   ]
  },
  {
   "cell_type": "markdown",
   "metadata": {},
   "source": [
    "## 3. Define a Loss function and optimizer"
   ]
  },
  {
   "cell_type": "code",
   "execution_count": 12,
   "metadata": {},
   "outputs": [],
   "source": [
    "criterion = nn.CrossEntropyLoss()\n",
    "optimizer = optim.SGD(net.parameters(), lr=0.001, momentum=0.9)"
   ]
  },
  {
   "cell_type": "markdown",
   "metadata": {},
   "source": [
    "## 4. Train the network"
   ]
  },
  {
   "cell_type": "code",
   "execution_count": 11,
   "metadata": {},
   "outputs": [
    {
     "name": "stdout",
     "output_type": "stream",
     "text": [
      "True\n"
     ]
    }
   ],
   "source": [
    "print(torch.cuda.is_available())"
   ]
  },
  {
   "cell_type": "code",
   "execution_count": 13,
   "metadata": {},
   "outputs": [],
   "source": [
    "start = torch.cuda.Event(enable_timing=True)\n",
    "end = torch.cuda.Event(enable_timing=True)"
   ]
  },
  {
   "cell_type": "code",
   "execution_count": 14,
   "metadata": {},
   "outputs": [
    {
     "name": "stdout",
     "output_type": "stream",
     "text": [
      "[1,  2000] loss: 2.294\n",
      "[1,  4000] loss: 1.947\n",
      "[1,  6000] loss: 1.701\n",
      "[1,  8000] loss: 1.591\n",
      "[1, 10000] loss: 1.522\n",
      "[1, 12000] loss: 1.486\n",
      "[2,  2000] loss: 1.403\n",
      "[2,  4000] loss: 1.357\n",
      "[2,  6000] loss: 1.353\n",
      "[2,  8000] loss: 1.312\n",
      "[2, 10000] loss: 1.282\n",
      "[2, 12000] loss: 1.247\n"
     ]
    }
   ],
   "source": [
    "start.record()\n",
    "\n",
    "for epoch in range(2):  # loop over the dataset multiple times\n",
    "\n",
    "    running_loss = 0.0\n",
    "    for i, data in enumerate(trainloader, 0):\n",
    "        # get the inputs; data is a list of [inputs, labels]\n",
    "        inputs, labels = data\n",
    "\n",
    "        # zero the parameter gradients\n",
    "        optimizer.zero_grad()\n",
    "\n",
    "        # forward + backward + optimize\n",
    "        outputs = net(inputs)\n",
    "        loss = criterion(outputs, labels)\n",
    "        loss.backward()\n",
    "        optimizer.step()\n",
    "\n",
    "        # print statistics\n",
    "        running_loss += loss.item()\n",
    "        if i % 2000 == 1999:    # print every 2000 mini-batches\n",
    "            print('[%d, %5d] loss: %.3f' %\n",
    "                  (epoch + 1, i + 1, running_loss / 2000))\n",
    "            running_loss = 0.0\n",
    "\n",
    "# whatever you are timing goes here\n",
    "end.record()"
   ]
  },
  {
   "cell_type": "code",
   "execution_count": 15,
   "metadata": {},
   "outputs": [
    {
     "name": "stdout",
     "output_type": "stream",
     "text": [
      "Finished Training\n",
      "168908.96875\n"
     ]
    }
   ],
   "source": [
    "# Waits for everything to finish running\n",
    "torch.cuda.synchronize()\n",
    "\n",
    "print('Finished Training')\n",
    "print(start.elapsed_time(end))  # milliseconds"
   ]
  },
  {
   "cell_type": "markdown",
   "metadata": {},
   "source": [
    "## 5. Test the network on test data"
   ]
  },
  {
   "cell_type": "code",
   "execution_count": 16,
   "metadata": {},
   "outputs": [
    {
     "data": {
      "image/png": "[encoded data removed]",
      "text/plain": [
       "<Figure size 640x480 with 1 Axes>"
      ]
     },
     "metadata": {},
     "output_type": "display_data"
    },
    {
     "name": "stdout",
     "output_type": "stream",
     "text": [
      "GroundTruth:  cat ship ship plane\n"
     ]
    }
   ],
   "source": [
    "dataiter = iter(testloader)\n",
    "images, labels = dataiter.__next__()\n",
    "\n",
    "# print images\n",
    "imshow(torchvision.utils.make_grid(images))\n",
    "print('GroundTruth: ', ' '.join('%s' % classes[labels[j]] for j in range(4)))"
   ]
  },
  {
   "cell_type": "code",
   "execution_count": 17,
   "metadata": {},
   "outputs": [
    {
     "name": "stdout",
     "output_type": "stream",
     "text": [
      "Predicted:  cat car ship plane\n"
     ]
    }
   ],
   "source": [
    "outputs = net(images)\n",
    "\n",
    "_, predicted = torch.max(outputs, 1)\n",
    "\n",
    "print('Predicted: ', ' '.join('%s' % classes[predicted[j]] for j in range(4)))"
   ]
  },
  {
   "cell_type": "markdown",
   "metadata": {},
   "source": [
    "### Testing on 10,000 images"
   ]
  },
  {
   "cell_type": "code",
   "execution_count": 18,
   "metadata": {},
   "outputs": [
    {
     "name": "stdout",
     "output_type": "stream",
     "text": [
      "Accuracy of the network on the 10000 test images: 55 %\n"
     ]
    }
   ],
   "source": [
    "correct = 0\n",
    "total = 0\n",
    "with torch.no_grad():\n",
    "    for data in testloader:\n",
    "        images, labels = data\n",
    "        outputs = net(images)\n",
    "        _, predicted = torch.max(outputs.data, 1)\n",
    "        total += labels.size(0)\n",
    "        correct += (predicted == labels).sum().item()\n",
    "\n",
    "print('Accuracy of the network on the 10000 test images: %d %%' % (100 * correct / total))"
   ]
  }
 ],
 "metadata": {
  "kernelspec": {
   "display_name": ".venv",
   "language": "python",
   "name": "python3"
  },
  "language_info": {
   "codemirror_mode": {
    "name": "ipython",
    "version": 3
   },
   "file_extension": ".py",
   "mimetype": "text/x-python",
   "name": "python",
   "nbconvert_exporter": "python",
   "pygments_lexer": "ipython3",
   "version": "3.10.9"
  },
  "orig_nbformat": 4
 },
 "nbformat": 4,
 "nbformat_minor": 2
}
